{
 "cells": [
  {
   "cell_type": "markdown",
   "metadata": {},
   "source": [
    "We will use the daily spreadsheet from EU CDC containing new cases per country per day."
   ]
  },
  {
   "cell_type": "code",
   "execution_count": 23,
   "metadata": {},
   "outputs": [
    {
     "name": "stdout",
     "output_type": "stream",
     "text": [
      "rm: cannot remove 'COVID-19-geographic-disbtribution-worldwide.xlsx': No such file or directory\n",
      "--2020-04-05 13:56:52--  https://www.ecdc.europa.eu/sites/default/files/documents/COVID-19-geographic-disbtribution-worldwide.xlsx\n",
      "Resolving www.ecdc.europa.eu (www.ecdc.europa.eu)... 13.33.18.175, 13.33.18.196, 13.33.18.68, ...\n",
      "Connecting to www.ecdc.europa.eu (www.ecdc.europa.eu)|13.33.18.175|:443... connected.\n",
      "HTTP request sent, awaiting response... 200 OK\n",
      "Length: 387711 (379K) [application/vnd.openxmlformats-officedocument.spreadsheetml.sheet]\n",
      "Saving to: ‘COVID-19-geographic-disbtribution-worldwide.xlsx’\n",
      "\n",
      "COVID-19-geographic 100%[===================>] 378.62K  2.43MB/s    in 0.2s    \n",
      "\n",
      "2020-04-05 13:56:53 (2.43 MB/s) - ‘COVID-19-geographic-disbtribution-worldwide.xlsx’ saved [387711/387711]\n",
      "\n"
     ]
    }
   ],
   "source": [
    "!rm COVID-19-geographic-disbtribution-worldwide.xlsx\n",
    "!wget https://www.ecdc.europa.eu/sites/default/files/documents/COVID-19-geographic-disbtribution-worldwide.xlsx"
   ]
  },
  {
   "cell_type": "markdown",
   "metadata": {},
   "source": [
    "Get Pandas and NumPy for feature engineering and calculations and get plots inline."
   ]
  },
  {
   "cell_type": "code",
   "execution_count": 24,
   "metadata": {},
   "outputs": [],
   "source": [
    "import pandas as pd\n",
    "import numpy as np\n",
    "\n",
    "%matplotlib inline"
   ]
  },
  {
   "cell_type": "markdown",
   "metadata": {},
   "source": [
    "We read our dataframe directly from the downloaded Excel file and have a look at the first 10 lines for format."
   ]
  },
  {
   "cell_type": "code",
   "execution_count": 25,
   "metadata": {},
   "outputs": [
    {
     "data": {
      "text/html": [
       "<div>\n",
       "<style scoped>\n",
       "    .dataframe tbody tr th:only-of-type {\n",
       "        vertical-align: middle;\n",
       "    }\n",
       "\n",
       "    .dataframe tbody tr th {\n",
       "        vertical-align: top;\n",
       "    }\n",
       "\n",
       "    .dataframe thead th {\n",
       "        text-align: right;\n",
       "    }\n",
       "</style>\n",
       "<table border=\"1\" class=\"dataframe\">\n",
       "  <thead>\n",
       "    <tr style=\"text-align: right;\">\n",
       "      <th></th>\n",
       "      <th>dateRep</th>\n",
       "      <th>day</th>\n",
       "      <th>month</th>\n",
       "      <th>year</th>\n",
       "      <th>cases</th>\n",
       "      <th>deaths</th>\n",
       "      <th>countriesAndTerritories</th>\n",
       "      <th>geoId</th>\n",
       "      <th>countryterritoryCode</th>\n",
       "      <th>popData2018</th>\n",
       "    </tr>\n",
       "  </thead>\n",
       "  <tbody>\n",
       "    <tr>\n",
       "      <td>0</td>\n",
       "      <td>2020-04-05</td>\n",
       "      <td>5</td>\n",
       "      <td>4</td>\n",
       "      <td>2020</td>\n",
       "      <td>35</td>\n",
       "      <td>1</td>\n",
       "      <td>Afghanistan</td>\n",
       "      <td>AF</td>\n",
       "      <td>AFG</td>\n",
       "      <td>37172386.0</td>\n",
       "    </tr>\n",
       "    <tr>\n",
       "      <td>1</td>\n",
       "      <td>2020-04-04</td>\n",
       "      <td>4</td>\n",
       "      <td>4</td>\n",
       "      <td>2020</td>\n",
       "      <td>0</td>\n",
       "      <td>0</td>\n",
       "      <td>Afghanistan</td>\n",
       "      <td>AF</td>\n",
       "      <td>AFG</td>\n",
       "      <td>37172386.0</td>\n",
       "    </tr>\n",
       "    <tr>\n",
       "      <td>2</td>\n",
       "      <td>2020-04-03</td>\n",
       "      <td>3</td>\n",
       "      <td>4</td>\n",
       "      <td>2020</td>\n",
       "      <td>43</td>\n",
       "      <td>0</td>\n",
       "      <td>Afghanistan</td>\n",
       "      <td>AF</td>\n",
       "      <td>AFG</td>\n",
       "      <td>37172386.0</td>\n",
       "    </tr>\n",
       "    <tr>\n",
       "      <td>3</td>\n",
       "      <td>2020-04-02</td>\n",
       "      <td>2</td>\n",
       "      <td>4</td>\n",
       "      <td>2020</td>\n",
       "      <td>26</td>\n",
       "      <td>0</td>\n",
       "      <td>Afghanistan</td>\n",
       "      <td>AF</td>\n",
       "      <td>AFG</td>\n",
       "      <td>37172386.0</td>\n",
       "    </tr>\n",
       "    <tr>\n",
       "      <td>4</td>\n",
       "      <td>2020-04-01</td>\n",
       "      <td>1</td>\n",
       "      <td>4</td>\n",
       "      <td>2020</td>\n",
       "      <td>25</td>\n",
       "      <td>0</td>\n",
       "      <td>Afghanistan</td>\n",
       "      <td>AF</td>\n",
       "      <td>AFG</td>\n",
       "      <td>37172386.0</td>\n",
       "    </tr>\n",
       "    <tr>\n",
       "      <td>5</td>\n",
       "      <td>2020-03-31</td>\n",
       "      <td>31</td>\n",
       "      <td>3</td>\n",
       "      <td>2020</td>\n",
       "      <td>27</td>\n",
       "      <td>0</td>\n",
       "      <td>Afghanistan</td>\n",
       "      <td>AF</td>\n",
       "      <td>AFG</td>\n",
       "      <td>37172386.0</td>\n",
       "    </tr>\n",
       "    <tr>\n",
       "      <td>6</td>\n",
       "      <td>2020-03-30</td>\n",
       "      <td>30</td>\n",
       "      <td>3</td>\n",
       "      <td>2020</td>\n",
       "      <td>8</td>\n",
       "      <td>1</td>\n",
       "      <td>Afghanistan</td>\n",
       "      <td>AF</td>\n",
       "      <td>AFG</td>\n",
       "      <td>37172386.0</td>\n",
       "    </tr>\n",
       "    <tr>\n",
       "      <td>7</td>\n",
       "      <td>2020-03-29</td>\n",
       "      <td>29</td>\n",
       "      <td>3</td>\n",
       "      <td>2020</td>\n",
       "      <td>15</td>\n",
       "      <td>1</td>\n",
       "      <td>Afghanistan</td>\n",
       "      <td>AF</td>\n",
       "      <td>AFG</td>\n",
       "      <td>37172386.0</td>\n",
       "    </tr>\n",
       "    <tr>\n",
       "      <td>8</td>\n",
       "      <td>2020-03-28</td>\n",
       "      <td>28</td>\n",
       "      <td>3</td>\n",
       "      <td>2020</td>\n",
       "      <td>16</td>\n",
       "      <td>1</td>\n",
       "      <td>Afghanistan</td>\n",
       "      <td>AF</td>\n",
       "      <td>AFG</td>\n",
       "      <td>37172386.0</td>\n",
       "    </tr>\n",
       "    <tr>\n",
       "      <td>9</td>\n",
       "      <td>2020-03-27</td>\n",
       "      <td>27</td>\n",
       "      <td>3</td>\n",
       "      <td>2020</td>\n",
       "      <td>0</td>\n",
       "      <td>0</td>\n",
       "      <td>Afghanistan</td>\n",
       "      <td>AF</td>\n",
       "      <td>AFG</td>\n",
       "      <td>37172386.0</td>\n",
       "    </tr>\n",
       "  </tbody>\n",
       "</table>\n",
       "</div>"
      ],
      "text/plain": [
       "     dateRep  day  month  year  cases  deaths countriesAndTerritories geoId  \\\n",
       "0 2020-04-05    5      4  2020     35       1             Afghanistan    AF   \n",
       "1 2020-04-04    4      4  2020      0       0             Afghanistan    AF   \n",
       "2 2020-04-03    3      4  2020     43       0             Afghanistan    AF   \n",
       "3 2020-04-02    2      4  2020     26       0             Afghanistan    AF   \n",
       "4 2020-04-01    1      4  2020     25       0             Afghanistan    AF   \n",
       "5 2020-03-31   31      3  2020     27       0             Afghanistan    AF   \n",
       "6 2020-03-30   30      3  2020      8       1             Afghanistan    AF   \n",
       "7 2020-03-29   29      3  2020     15       1             Afghanistan    AF   \n",
       "8 2020-03-28   28      3  2020     16       1             Afghanistan    AF   \n",
       "9 2020-03-27   27      3  2020      0       0             Afghanistan    AF   \n",
       "\n",
       "  countryterritoryCode  popData2018  \n",
       "0                  AFG   37172386.0  \n",
       "1                  AFG   37172386.0  \n",
       "2                  AFG   37172386.0  \n",
       "3                  AFG   37172386.0  \n",
       "4                  AFG   37172386.0  \n",
       "5                  AFG   37172386.0  \n",
       "6                  AFG   37172386.0  \n",
       "7                  AFG   37172386.0  \n",
       "8                  AFG   37172386.0  \n",
       "9                  AFG   37172386.0  "
      ]
     },
     "execution_count": 25,
     "metadata": {},
     "output_type": "execute_result"
    }
   ],
   "source": [
    "df = pd.read_excel('COVID-19-geographic-disbtribution-worldwide.xlsx')\n",
    "df.head(10)"
   ]
  },
  {
   "cell_type": "markdown",
   "metadata": {},
   "source": [
    "Use a count on columns to see how many missing values we have. We would like to compare countries by geoId."
   ]
  },
  {
   "cell_type": "code",
   "execution_count": 26,
   "metadata": {},
   "outputs": [
    {
     "data": {
      "text/plain": [
       "dateRep                    8905\n",
       "day                        8905\n",
       "month                      8905\n",
       "year                       8905\n",
       "cases                      8905\n",
       "deaths                     8905\n",
       "countriesAndTerritories    8905\n",
       "geoId                      8883\n",
       "countryterritoryCode       8824\n",
       "popData2018                8873\n",
       "dtype: int64"
      ]
     },
     "execution_count": 26,
     "metadata": {},
     "output_type": "execute_result"
    }
   ],
   "source": [
    "df.count()"
   ]
  },
  {
   "cell_type": "markdown",
   "metadata": {},
   "source": [
    "Because we seem to miss some geoID entries, we will drop them. The resulting dataframe will be pivoted so we get one row per date, columns by geoId and the number of new cases in the cells. Again, show the first 10 rows to check our pivot."
   ]
  },
  {
   "cell_type": "code",
   "execution_count": 27,
   "metadata": {},
   "outputs": [
    {
     "data": {
      "text/html": [
       "<div>\n",
       "<style scoped>\n",
       "    .dataframe tbody tr th:only-of-type {\n",
       "        vertical-align: middle;\n",
       "    }\n",
       "\n",
       "    .dataframe tbody tr th {\n",
       "        vertical-align: top;\n",
       "    }\n",
       "\n",
       "    .dataframe thead th {\n",
       "        text-align: right;\n",
       "    }\n",
       "</style>\n",
       "<table border=\"1\" class=\"dataframe\">\n",
       "  <thead>\n",
       "    <tr style=\"text-align: right;\">\n",
       "      <th>geoId</th>\n",
       "      <th>AD</th>\n",
       "      <th>AE</th>\n",
       "      <th>AF</th>\n",
       "      <th>AG</th>\n",
       "      <th>AL</th>\n",
       "      <th>AM</th>\n",
       "      <th>AO</th>\n",
       "      <th>AR</th>\n",
       "      <th>AT</th>\n",
       "      <th>AU</th>\n",
       "      <th>...</th>\n",
       "      <th>VA</th>\n",
       "      <th>VC</th>\n",
       "      <th>VE</th>\n",
       "      <th>VG</th>\n",
       "      <th>VI</th>\n",
       "      <th>VN</th>\n",
       "      <th>XK</th>\n",
       "      <th>ZA</th>\n",
       "      <th>ZM</th>\n",
       "      <th>ZW</th>\n",
       "    </tr>\n",
       "    <tr>\n",
       "      <th>dateRep</th>\n",
       "      <th></th>\n",
       "      <th></th>\n",
       "      <th></th>\n",
       "      <th></th>\n",
       "      <th></th>\n",
       "      <th></th>\n",
       "      <th></th>\n",
       "      <th></th>\n",
       "      <th></th>\n",
       "      <th></th>\n",
       "      <th></th>\n",
       "      <th></th>\n",
       "      <th></th>\n",
       "      <th></th>\n",
       "      <th></th>\n",
       "      <th></th>\n",
       "      <th></th>\n",
       "      <th></th>\n",
       "      <th></th>\n",
       "      <th></th>\n",
       "      <th></th>\n",
       "    </tr>\n",
       "  </thead>\n",
       "  <tbody>\n",
       "    <tr>\n",
       "      <td>2019-12-31</td>\n",
       "      <td>NaN</td>\n",
       "      <td>0.0</td>\n",
       "      <td>0.0</td>\n",
       "      <td>NaN</td>\n",
       "      <td>NaN</td>\n",
       "      <td>0.0</td>\n",
       "      <td>NaN</td>\n",
       "      <td>NaN</td>\n",
       "      <td>0.0</td>\n",
       "      <td>0.0</td>\n",
       "      <td>...</td>\n",
       "      <td>NaN</td>\n",
       "      <td>NaN</td>\n",
       "      <td>NaN</td>\n",
       "      <td>NaN</td>\n",
       "      <td>NaN</td>\n",
       "      <td>0.0</td>\n",
       "      <td>NaN</td>\n",
       "      <td>NaN</td>\n",
       "      <td>NaN</td>\n",
       "      <td>NaN</td>\n",
       "    </tr>\n",
       "    <tr>\n",
       "      <td>2020-01-01</td>\n",
       "      <td>NaN</td>\n",
       "      <td>0.0</td>\n",
       "      <td>0.0</td>\n",
       "      <td>NaN</td>\n",
       "      <td>NaN</td>\n",
       "      <td>0.0</td>\n",
       "      <td>NaN</td>\n",
       "      <td>NaN</td>\n",
       "      <td>0.0</td>\n",
       "      <td>0.0</td>\n",
       "      <td>...</td>\n",
       "      <td>NaN</td>\n",
       "      <td>NaN</td>\n",
       "      <td>NaN</td>\n",
       "      <td>NaN</td>\n",
       "      <td>NaN</td>\n",
       "      <td>0.0</td>\n",
       "      <td>NaN</td>\n",
       "      <td>NaN</td>\n",
       "      <td>NaN</td>\n",
       "      <td>NaN</td>\n",
       "    </tr>\n",
       "    <tr>\n",
       "      <td>2020-01-02</td>\n",
       "      <td>NaN</td>\n",
       "      <td>0.0</td>\n",
       "      <td>0.0</td>\n",
       "      <td>NaN</td>\n",
       "      <td>NaN</td>\n",
       "      <td>0.0</td>\n",
       "      <td>NaN</td>\n",
       "      <td>NaN</td>\n",
       "      <td>0.0</td>\n",
       "      <td>0.0</td>\n",
       "      <td>...</td>\n",
       "      <td>NaN</td>\n",
       "      <td>NaN</td>\n",
       "      <td>NaN</td>\n",
       "      <td>NaN</td>\n",
       "      <td>NaN</td>\n",
       "      <td>0.0</td>\n",
       "      <td>NaN</td>\n",
       "      <td>NaN</td>\n",
       "      <td>NaN</td>\n",
       "      <td>NaN</td>\n",
       "    </tr>\n",
       "    <tr>\n",
       "      <td>2020-01-03</td>\n",
       "      <td>NaN</td>\n",
       "      <td>0.0</td>\n",
       "      <td>0.0</td>\n",
       "      <td>NaN</td>\n",
       "      <td>NaN</td>\n",
       "      <td>0.0</td>\n",
       "      <td>NaN</td>\n",
       "      <td>NaN</td>\n",
       "      <td>0.0</td>\n",
       "      <td>0.0</td>\n",
       "      <td>...</td>\n",
       "      <td>NaN</td>\n",
       "      <td>NaN</td>\n",
       "      <td>NaN</td>\n",
       "      <td>NaN</td>\n",
       "      <td>NaN</td>\n",
       "      <td>0.0</td>\n",
       "      <td>NaN</td>\n",
       "      <td>NaN</td>\n",
       "      <td>NaN</td>\n",
       "      <td>NaN</td>\n",
       "    </tr>\n",
       "    <tr>\n",
       "      <td>2020-01-04</td>\n",
       "      <td>NaN</td>\n",
       "      <td>0.0</td>\n",
       "      <td>0.0</td>\n",
       "      <td>NaN</td>\n",
       "      <td>NaN</td>\n",
       "      <td>0.0</td>\n",
       "      <td>NaN</td>\n",
       "      <td>NaN</td>\n",
       "      <td>0.0</td>\n",
       "      <td>0.0</td>\n",
       "      <td>...</td>\n",
       "      <td>NaN</td>\n",
       "      <td>NaN</td>\n",
       "      <td>NaN</td>\n",
       "      <td>NaN</td>\n",
       "      <td>NaN</td>\n",
       "      <td>0.0</td>\n",
       "      <td>NaN</td>\n",
       "      <td>NaN</td>\n",
       "      <td>NaN</td>\n",
       "      <td>NaN</td>\n",
       "    </tr>\n",
       "    <tr>\n",
       "      <td>2020-01-05</td>\n",
       "      <td>NaN</td>\n",
       "      <td>0.0</td>\n",
       "      <td>0.0</td>\n",
       "      <td>NaN</td>\n",
       "      <td>NaN</td>\n",
       "      <td>0.0</td>\n",
       "      <td>NaN</td>\n",
       "      <td>NaN</td>\n",
       "      <td>0.0</td>\n",
       "      <td>0.0</td>\n",
       "      <td>...</td>\n",
       "      <td>NaN</td>\n",
       "      <td>NaN</td>\n",
       "      <td>NaN</td>\n",
       "      <td>NaN</td>\n",
       "      <td>NaN</td>\n",
       "      <td>0.0</td>\n",
       "      <td>NaN</td>\n",
       "      <td>NaN</td>\n",
       "      <td>NaN</td>\n",
       "      <td>NaN</td>\n",
       "    </tr>\n",
       "    <tr>\n",
       "      <td>2020-01-06</td>\n",
       "      <td>NaN</td>\n",
       "      <td>0.0</td>\n",
       "      <td>0.0</td>\n",
       "      <td>NaN</td>\n",
       "      <td>NaN</td>\n",
       "      <td>0.0</td>\n",
       "      <td>NaN</td>\n",
       "      <td>NaN</td>\n",
       "      <td>0.0</td>\n",
       "      <td>0.0</td>\n",
       "      <td>...</td>\n",
       "      <td>NaN</td>\n",
       "      <td>NaN</td>\n",
       "      <td>NaN</td>\n",
       "      <td>NaN</td>\n",
       "      <td>NaN</td>\n",
       "      <td>0.0</td>\n",
       "      <td>NaN</td>\n",
       "      <td>NaN</td>\n",
       "      <td>NaN</td>\n",
       "      <td>NaN</td>\n",
       "    </tr>\n",
       "    <tr>\n",
       "      <td>2020-01-07</td>\n",
       "      <td>NaN</td>\n",
       "      <td>0.0</td>\n",
       "      <td>0.0</td>\n",
       "      <td>NaN</td>\n",
       "      <td>NaN</td>\n",
       "      <td>0.0</td>\n",
       "      <td>NaN</td>\n",
       "      <td>NaN</td>\n",
       "      <td>0.0</td>\n",
       "      <td>0.0</td>\n",
       "      <td>...</td>\n",
       "      <td>NaN</td>\n",
       "      <td>NaN</td>\n",
       "      <td>NaN</td>\n",
       "      <td>NaN</td>\n",
       "      <td>NaN</td>\n",
       "      <td>0.0</td>\n",
       "      <td>NaN</td>\n",
       "      <td>NaN</td>\n",
       "      <td>NaN</td>\n",
       "      <td>NaN</td>\n",
       "    </tr>\n",
       "    <tr>\n",
       "      <td>2020-01-08</td>\n",
       "      <td>NaN</td>\n",
       "      <td>0.0</td>\n",
       "      <td>0.0</td>\n",
       "      <td>NaN</td>\n",
       "      <td>NaN</td>\n",
       "      <td>0.0</td>\n",
       "      <td>NaN</td>\n",
       "      <td>NaN</td>\n",
       "      <td>0.0</td>\n",
       "      <td>0.0</td>\n",
       "      <td>...</td>\n",
       "      <td>NaN</td>\n",
       "      <td>NaN</td>\n",
       "      <td>NaN</td>\n",
       "      <td>NaN</td>\n",
       "      <td>NaN</td>\n",
       "      <td>0.0</td>\n",
       "      <td>NaN</td>\n",
       "      <td>NaN</td>\n",
       "      <td>NaN</td>\n",
       "      <td>NaN</td>\n",
       "    </tr>\n",
       "    <tr>\n",
       "      <td>2020-01-09</td>\n",
       "      <td>NaN</td>\n",
       "      <td>0.0</td>\n",
       "      <td>0.0</td>\n",
       "      <td>NaN</td>\n",
       "      <td>NaN</td>\n",
       "      <td>0.0</td>\n",
       "      <td>NaN</td>\n",
       "      <td>NaN</td>\n",
       "      <td>0.0</td>\n",
       "      <td>0.0</td>\n",
       "      <td>...</td>\n",
       "      <td>NaN</td>\n",
       "      <td>NaN</td>\n",
       "      <td>NaN</td>\n",
       "      <td>NaN</td>\n",
       "      <td>NaN</td>\n",
       "      <td>0.0</td>\n",
       "      <td>NaN</td>\n",
       "      <td>NaN</td>\n",
       "      <td>NaN</td>\n",
       "      <td>NaN</td>\n",
       "    </tr>\n",
       "  </tbody>\n",
       "</table>\n",
       "<p>10 rows × 197 columns</p>\n",
       "</div>"
      ],
      "text/plain": [
       "geoId       AD   AE   AF  AG  AL   AM  AO  AR   AT   AU  ...  VA  VC  VE  VG  \\\n",
       "dateRep                                                  ...                   \n",
       "2019-12-31 NaN  0.0  0.0 NaN NaN  0.0 NaN NaN  0.0  0.0  ... NaN NaN NaN NaN   \n",
       "2020-01-01 NaN  0.0  0.0 NaN NaN  0.0 NaN NaN  0.0  0.0  ... NaN NaN NaN NaN   \n",
       "2020-01-02 NaN  0.0  0.0 NaN NaN  0.0 NaN NaN  0.0  0.0  ... NaN NaN NaN NaN   \n",
       "2020-01-03 NaN  0.0  0.0 NaN NaN  0.0 NaN NaN  0.0  0.0  ... NaN NaN NaN NaN   \n",
       "2020-01-04 NaN  0.0  0.0 NaN NaN  0.0 NaN NaN  0.0  0.0  ... NaN NaN NaN NaN   \n",
       "2020-01-05 NaN  0.0  0.0 NaN NaN  0.0 NaN NaN  0.0  0.0  ... NaN NaN NaN NaN   \n",
       "2020-01-06 NaN  0.0  0.0 NaN NaN  0.0 NaN NaN  0.0  0.0  ... NaN NaN NaN NaN   \n",
       "2020-01-07 NaN  0.0  0.0 NaN NaN  0.0 NaN NaN  0.0  0.0  ... NaN NaN NaN NaN   \n",
       "2020-01-08 NaN  0.0  0.0 NaN NaN  0.0 NaN NaN  0.0  0.0  ... NaN NaN NaN NaN   \n",
       "2020-01-09 NaN  0.0  0.0 NaN NaN  0.0 NaN NaN  0.0  0.0  ... NaN NaN NaN NaN   \n",
       "\n",
       "geoId       VI   VN  XK  ZA  ZM  ZW  \n",
       "dateRep                              \n",
       "2019-12-31 NaN  0.0 NaN NaN NaN NaN  \n",
       "2020-01-01 NaN  0.0 NaN NaN NaN NaN  \n",
       "2020-01-02 NaN  0.0 NaN NaN NaN NaN  \n",
       "2020-01-03 NaN  0.0 NaN NaN NaN NaN  \n",
       "2020-01-04 NaN  0.0 NaN NaN NaN NaN  \n",
       "2020-01-05 NaN  0.0 NaN NaN NaN NaN  \n",
       "2020-01-06 NaN  0.0 NaN NaN NaN NaN  \n",
       "2020-01-07 NaN  0.0 NaN NaN NaN NaN  \n",
       "2020-01-08 NaN  0.0 NaN NaN NaN NaN  \n",
       "2020-01-09 NaN  0.0 NaN NaN NaN NaN  \n",
       "\n",
       "[10 rows x 197 columns]"
      ]
     },
     "execution_count": 27,
     "metadata": {},
     "output_type": "execute_result"
    }
   ],
   "source": [
    "df_geo = df.dropna().pivot(index = 'dateRep', columns = 'geoId', values = 'cases')\n",
    "df_geo.head(10)"
   ]
  },
  {
   "cell_type": "markdown",
   "metadata": {},
   "source": [
    "Looking good, lots of missing values, meaning there's no data for that country on the current date. We can describe the columns to see what's there."
   ]
  },
  {
   "cell_type": "code",
   "execution_count": 28,
   "metadata": {},
   "outputs": [
    {
     "data": {
      "text/html": [
       "<div>\n",
       "<style scoped>\n",
       "    .dataframe tbody tr th:only-of-type {\n",
       "        vertical-align: middle;\n",
       "    }\n",
       "\n",
       "    .dataframe tbody tr th {\n",
       "        vertical-align: top;\n",
       "    }\n",
       "\n",
       "    .dataframe thead th {\n",
       "        text-align: right;\n",
       "    }\n",
       "</style>\n",
       "<table border=\"1\" class=\"dataframe\">\n",
       "  <thead>\n",
       "    <tr style=\"text-align: right;\">\n",
       "      <th>geoId</th>\n",
       "      <th>AD</th>\n",
       "      <th>AE</th>\n",
       "      <th>AF</th>\n",
       "      <th>AG</th>\n",
       "      <th>AL</th>\n",
       "      <th>AM</th>\n",
       "      <th>AO</th>\n",
       "      <th>AR</th>\n",
       "      <th>AT</th>\n",
       "      <th>AU</th>\n",
       "      <th>...</th>\n",
       "      <th>VA</th>\n",
       "      <th>VC</th>\n",
       "      <th>VE</th>\n",
       "      <th>VG</th>\n",
       "      <th>VI</th>\n",
       "      <th>VN</th>\n",
       "      <th>XK</th>\n",
       "      <th>ZA</th>\n",
       "      <th>ZM</th>\n",
       "      <th>ZW</th>\n",
       "    </tr>\n",
       "  </thead>\n",
       "  <tbody>\n",
       "    <tr>\n",
       "      <td>count</td>\n",
       "      <td>23.000000</td>\n",
       "      <td>91.000000</td>\n",
       "      <td>87.000000</td>\n",
       "      <td>17.000000</td>\n",
       "      <td>28.000000</td>\n",
       "      <td>88.000000</td>\n",
       "      <td>15.000000</td>\n",
       "      <td>30.000000</td>\n",
       "      <td>97.000000</td>\n",
       "      <td>97.000000</td>\n",
       "      <td>...</td>\n",
       "      <td>22.000000</td>\n",
       "      <td>13.000000</td>\n",
       "      <td>22.000000</td>\n",
       "      <td>10.000000</td>\n",
       "      <td>12.000000</td>\n",
       "      <td>93.000000</td>\n",
       "      <td>21.000000</td>\n",
       "      <td>29.000000</td>\n",
       "      <td>18.000000</td>\n",
       "      <td>16.000000</td>\n",
       "    </tr>\n",
       "    <tr>\n",
       "      <td>mean</td>\n",
       "      <td>20.260870</td>\n",
       "      <td>16.538462</td>\n",
       "      <td>3.103448</td>\n",
       "      <td>0.882353</td>\n",
       "      <td>11.892857</td>\n",
       "      <td>8.750000</td>\n",
       "      <td>0.666667</td>\n",
       "      <td>48.366667</td>\n",
       "      <td>121.298969</td>\n",
       "      <td>58.628866</td>\n",
       "      <td>...</td>\n",
       "      <td>0.318182</td>\n",
       "      <td>0.538462</td>\n",
       "      <td>6.545455</td>\n",
       "      <td>0.300000</td>\n",
       "      <td>3.333333</td>\n",
       "      <td>2.580645</td>\n",
       "      <td>6.000000</td>\n",
       "      <td>54.655172</td>\n",
       "      <td>2.166667</td>\n",
       "      <td>0.562500</td>\n",
       "    </tr>\n",
       "    <tr>\n",
       "      <td>std</td>\n",
       "      <td>14.632521</td>\n",
       "      <td>65.183725</td>\n",
       "      <td>8.445495</td>\n",
       "      <td>1.727800</td>\n",
       "      <td>8.443008</td>\n",
       "      <td>19.122863</td>\n",
       "      <td>0.975900</td>\n",
       "      <td>55.222112</td>\n",
       "      <td>242.840747</td>\n",
       "      <td>130.216912</td>\n",
       "      <td>...</td>\n",
       "      <td>0.893701</td>\n",
       "      <td>1.391365</td>\n",
       "      <td>11.039873</td>\n",
       "      <td>0.674949</td>\n",
       "      <td>5.140452</td>\n",
       "      <td>6.749110</td>\n",
       "      <td>8.018728</td>\n",
       "      <td>65.455697</td>\n",
       "      <td>3.434256</td>\n",
       "      <td>0.727438</td>\n",
       "    </tr>\n",
       "    <tr>\n",
       "      <td>min</td>\n",
       "      <td>0.000000</td>\n",
       "      <td>0.000000</td>\n",
       "      <td>0.000000</td>\n",
       "      <td>0.000000</td>\n",
       "      <td>0.000000</td>\n",
       "      <td>0.000000</td>\n",
       "      <td>0.000000</td>\n",
       "      <td>0.000000</td>\n",
       "      <td>0.000000</td>\n",
       "      <td>0.000000</td>\n",
       "      <td>...</td>\n",
       "      <td>0.000000</td>\n",
       "      <td>0.000000</td>\n",
       "      <td>0.000000</td>\n",
       "      <td>0.000000</td>\n",
       "      <td>0.000000</td>\n",
       "      <td>0.000000</td>\n",
       "      <td>0.000000</td>\n",
       "      <td>0.000000</td>\n",
       "      <td>0.000000</td>\n",
       "      <td>0.000000</td>\n",
       "    </tr>\n",
       "    <tr>\n",
       "      <td>25%</td>\n",
       "      <td>7.500000</td>\n",
       "      <td>0.000000</td>\n",
       "      <td>0.000000</td>\n",
       "      <td>0.000000</td>\n",
       "      <td>4.000000</td>\n",
       "      <td>0.000000</td>\n",
       "      <td>0.000000</td>\n",
       "      <td>6.250000</td>\n",
       "      <td>0.000000</td>\n",
       "      <td>0.000000</td>\n",
       "      <td>...</td>\n",
       "      <td>0.000000</td>\n",
       "      <td>0.000000</td>\n",
       "      <td>0.000000</td>\n",
       "      <td>0.000000</td>\n",
       "      <td>0.000000</td>\n",
       "      <td>0.000000</td>\n",
       "      <td>0.000000</td>\n",
       "      <td>7.000000</td>\n",
       "      <td>0.000000</td>\n",
       "      <td>0.000000</td>\n",
       "    </tr>\n",
       "    <tr>\n",
       "      <td>50%</td>\n",
       "      <td>22.000000</td>\n",
       "      <td>0.000000</td>\n",
       "      <td>0.000000</td>\n",
       "      <td>0.000000</td>\n",
       "      <td>11.000000</td>\n",
       "      <td>0.000000</td>\n",
       "      <td>0.000000</td>\n",
       "      <td>24.000000</td>\n",
       "      <td>0.000000</td>\n",
       "      <td>1.000000</td>\n",
       "      <td>...</td>\n",
       "      <td>0.000000</td>\n",
       "      <td>0.000000</td>\n",
       "      <td>1.000000</td>\n",
       "      <td>0.000000</td>\n",
       "      <td>1.000000</td>\n",
       "      <td>0.000000</td>\n",
       "      <td>2.000000</td>\n",
       "      <td>31.000000</td>\n",
       "      <td>1.000000</td>\n",
       "      <td>0.000000</td>\n",
       "    </tr>\n",
       "    <tr>\n",
       "      <td>75%</td>\n",
       "      <td>33.500000</td>\n",
       "      <td>2.000000</td>\n",
       "      <td>0.000000</td>\n",
       "      <td>1.000000</td>\n",
       "      <td>16.500000</td>\n",
       "      <td>3.250000</td>\n",
       "      <td>1.000000</td>\n",
       "      <td>83.250000</td>\n",
       "      <td>64.000000</td>\n",
       "      <td>20.000000</td>\n",
       "      <td>...</td>\n",
       "      <td>0.000000</td>\n",
       "      <td>0.000000</td>\n",
       "      <td>9.500000</td>\n",
       "      <td>0.000000</td>\n",
       "      <td>4.000000</td>\n",
       "      <td>2.000000</td>\n",
       "      <td>8.000000</td>\n",
       "      <td>80.000000</td>\n",
       "      <td>2.000000</td>\n",
       "      <td>1.000000</td>\n",
       "    </tr>\n",
       "    <tr>\n",
       "      <td>max</td>\n",
       "      <td>43.000000</td>\n",
       "      <td>481.000000</td>\n",
       "      <td>43.000000</td>\n",
       "      <td>6.000000</td>\n",
       "      <td>29.000000</td>\n",
       "      <td>92.000000</td>\n",
       "      <td>3.000000</td>\n",
       "      <td>186.000000</td>\n",
       "      <td>1141.000000</td>\n",
       "      <td>611.000000</td>\n",
       "      <td>...</td>\n",
       "      <td>4.000000</td>\n",
       "      <td>5.000000</td>\n",
       "      <td>48.000000</td>\n",
       "      <td>2.000000</td>\n",
       "      <td>17.000000</td>\n",
       "      <td>54.000000</td>\n",
       "      <td>30.000000</td>\n",
       "      <td>243.000000</td>\n",
       "      <td>12.000000</td>\n",
       "      <td>2.000000</td>\n",
       "    </tr>\n",
       "  </tbody>\n",
       "</table>\n",
       "<p>8 rows × 197 columns</p>\n",
       "</div>"
      ],
      "text/plain": [
       "geoId         AD          AE         AF         AG         AL         AM  \\\n",
       "count  23.000000   91.000000  87.000000  17.000000  28.000000  88.000000   \n",
       "mean   20.260870   16.538462   3.103448   0.882353  11.892857   8.750000   \n",
       "std    14.632521   65.183725   8.445495   1.727800   8.443008  19.122863   \n",
       "min     0.000000    0.000000   0.000000   0.000000   0.000000   0.000000   \n",
       "25%     7.500000    0.000000   0.000000   0.000000   4.000000   0.000000   \n",
       "50%    22.000000    0.000000   0.000000   0.000000  11.000000   0.000000   \n",
       "75%    33.500000    2.000000   0.000000   1.000000  16.500000   3.250000   \n",
       "max    43.000000  481.000000  43.000000   6.000000  29.000000  92.000000   \n",
       "\n",
       "geoId         AO          AR           AT          AU  ...         VA  \\\n",
       "count  15.000000   30.000000    97.000000   97.000000  ...  22.000000   \n",
       "mean    0.666667   48.366667   121.298969   58.628866  ...   0.318182   \n",
       "std     0.975900   55.222112   242.840747  130.216912  ...   0.893701   \n",
       "min     0.000000    0.000000     0.000000    0.000000  ...   0.000000   \n",
       "25%     0.000000    6.250000     0.000000    0.000000  ...   0.000000   \n",
       "50%     0.000000   24.000000     0.000000    1.000000  ...   0.000000   \n",
       "75%     1.000000   83.250000    64.000000   20.000000  ...   0.000000   \n",
       "max     3.000000  186.000000  1141.000000  611.000000  ...   4.000000   \n",
       "\n",
       "geoId         VC         VE         VG         VI         VN         XK  \\\n",
       "count  13.000000  22.000000  10.000000  12.000000  93.000000  21.000000   \n",
       "mean    0.538462   6.545455   0.300000   3.333333   2.580645   6.000000   \n",
       "std     1.391365  11.039873   0.674949   5.140452   6.749110   8.018728   \n",
       "min     0.000000   0.000000   0.000000   0.000000   0.000000   0.000000   \n",
       "25%     0.000000   0.000000   0.000000   0.000000   0.000000   0.000000   \n",
       "50%     0.000000   1.000000   0.000000   1.000000   0.000000   2.000000   \n",
       "75%     0.000000   9.500000   0.000000   4.000000   2.000000   8.000000   \n",
       "max     5.000000  48.000000   2.000000  17.000000  54.000000  30.000000   \n",
       "\n",
       "geoId          ZA         ZM         ZW  \n",
       "count   29.000000  18.000000  16.000000  \n",
       "mean    54.655172   2.166667   0.562500  \n",
       "std     65.455697   3.434256   0.727438  \n",
       "min      0.000000   0.000000   0.000000  \n",
       "25%      7.000000   0.000000   0.000000  \n",
       "50%     31.000000   1.000000   0.000000  \n",
       "75%     80.000000   2.000000   1.000000  \n",
       "max    243.000000  12.000000   2.000000  \n",
       "\n",
       "[8 rows x 197 columns]"
      ]
     },
     "execution_count": 28,
     "metadata": {},
     "output_type": "execute_result"
    }
   ],
   "source": [
    "df_geo.describe()"
   ]
  },
  {
   "cell_type": "markdown",
   "metadata": {},
   "source": [
    "Get to know your data by visualization, in this case the number of new cases per day for my home country."
   ]
  },
  {
   "cell_type": "code",
   "execution_count": 29,
   "metadata": {},
   "outputs": [
    {
     "data": {
      "text/plain": [
<<<<<<< HEAD
       "<matplotlib.axes._subplots.AxesSubplot at 0x7f1724e32710>"
=======
       "<matplotlib.axes._subplots.AxesSubplot at 0x7f3eeb7550f0>"
>>>>>>> 6185f89dbbde69b1c2bf42de612da293244ef22e
      ]
     },
     "execution_count": 29,
     "metadata": {},
     "output_type": "execute_result"
    },
    {
     "data": {
      "image/png": "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\n",
      "text/plain": [
       "<Figure size 432x288 with 1 Axes>"
      ]
     },
     "metadata": {
      "needs_background": "light"
     },
     "output_type": "display_data"
    }
   ],
   "source": [
    "df_geo['NL'].plot()"
   ]
  },
  {
   "cell_type": "markdown",
   "metadata": {},
   "source": [
    "What would China look like?"
   ]
  },
  {
   "cell_type": "code",
   "execution_count": 30,
   "metadata": {},
   "outputs": [
    {
     "data": {
      "text/plain": [
<<<<<<< HEAD
       "<matplotlib.axes._subplots.AxesSubplot at 0x7f1725c8e910>"
=======
       "<matplotlib.axes._subplots.AxesSubplot at 0x7f3eec7d3cc0>"
>>>>>>> 6185f89dbbde69b1c2bf42de612da293244ef22e
      ]
     },
     "execution_count": 30,
     "metadata": {},
     "output_type": "execute_result"
    },
    {
     "data": {
      "image/png": "iVBORw0KGgoAAAANSUhEUgAAAYMAAAESCAYAAAAfXrn0AAAABHNCSVQICAgIfAhkiAAAAAlwSFlzAAALEgAACxIB0t1+/AAAADh0RVh0U29mdHdhcmUAbWF0cGxvdGxpYiB2ZXJzaW9uMy4xLjEsIGh0dHA6Ly9tYXRwbG90bGliLm9yZy8QZhcZAAAgAElEQVR4nO3deZiU1Zn38e9dVV3d9EKzNYuAgCzuOyJq3KKDSxwxGWP0TSImJmQxGTMzmcn+mkkmGXUmYzST6DjKqImjcTRGkqgMrxr3BVwR2VpAoUVoaGjW7q7lfv+oU1B0V7N0N71U/T7X1VdXnWc7RVN11zn3Oecxd0dERIpbpKcrICIiPU/BQEREFAxERETBQEREUDAQEREUDEREBIj1dAU6asiQIT527NieroaISJ8xZMgQ5syZM8fdz2+9rc8Gg7FjxzJ//vyeroaISJ9iZkPylaubSEREFAxERETBQEREUDAQEREUDEREBAUDERFBwUAkL3cnndby7lI8FAxE8vjFk7V8/NYXeroaIt1GwUAkj/cbtrOqYXtPV0Ok2ygYiOSRSKVJJNM9XQ2RbqNgIJJHMuU0pxQMpHgoGIjkkUilSaTS6B7hUiwUDETySKYdd0hpRJEUCQUDkTwSoYsokVIwkOKgYCCSRzYYtChvIEVCwUAkj2RoEbRoRJEUCQUDkTwSIVeQUMtAioSCgUgeyZ05AwUDKQ4KBiJ5JBQMpMjsNRiY2SwzW2dmb+fZ9ndm5tl7alrGLWZWa2ZvmdkJOfvOMLNl4WdGTvmJZrYgHHOLmVlXvTiRjsrmDJqVM5AisS8tg7uA81sXmtloYBrwfk7xBcDE8DMTuDXsOwi4DjgZmAJcZ2YDwzG3Al/MOa7NtUS6WyKtoaVSXPYaDNz9GaAhz6abgH8Act8t04F7POMlYICZjQDOA+a6e4O7bwTmAueHbf3d/SXPTPW8B7ikcy9JpPOyLQN1E0mx6FDOwMymA3Xu/marTSOBVTnPV4eyPZWvzlMu0qOyLQItVifFIra/B5hZOfBdMl1E3crMZpLpfuLggw/u7stLEdGkMyk2HWkZjAfGAW+a2UpgFPCamQ0H6oDROfuOCmV7Kh+Vpzwvd7/d3Se7++SampoOVF1k32SHlmrSmRSL/Q4G7r7A3Ye6+1h3H0uma+cEd/8QmA1cGUYVTQUa3X0NMAeYZmYDQ+J4GjAnbNtsZlPDKKIrgUe66LWJdNiuSWdKIEtx2JehpfcBLwKHmtlqM7t6D7s/CiwHaoH/BL4K4O4NwI+BeeHnR6GMsM8d4Zh3gcc69lJEuo4mnUmx2WvOwN2v2Mv2sTmPHbimnf1mAbPylM8HjtpbPUS6SyrtZFeuVs5AioVmIIu0ktsaUM5AioWCgUgryZwb2qibSIqFgoFIK8mcAKBgIMVCwUCkldwRRBpNJMVCwUCklWR6V2tAC9VJsVAwEGklkVTOQIqPgoFIK4mcloHWJpJioWAg0koypZaBFB8FA5FWdptnoASyFAkFA5FWNOlMipGCgUgrmnQmxUjBQKSVhCadSRFSMBBpRQlkKUYKBiKtZCedRUyTzqR4KBiItNISJp1VxGNqGUjRUDAQaSXbMugXj2ptIikaCgYirWRzBuXxqFoGUjT25baXs8xsnZm9nVP2L2a22MzeMrOHzWxAzrbvmFmtmS0xs/Nyys8PZbVm9u2c8nFm9nIo/62ZxbvyBYrsr2wA6BePaZ6BFI19aRncBZzfqmwucJS7HwMsBb4DYGZHAJcDR4ZjfmVmUTOLAr8ELgCOAK4I+wLcANzk7hOAjcCe7rEscsBl5xlUxKO67aUUjb0GA3d/BmhoVfa/7p4MT18CRoXH04H73b3Z3VeQucn9lPBT6+7L3b0FuB+YbmYGfBR4MBx/N3BJJ1+TSKdkWwblpUogS/HoipzB54HHwuORwKqcbatDWXvlg4FNOYElWy7SY7JJ4/KS6G7LWYsUsk4FAzP7HpAE7u2a6uz1ejPNbL6Zza+vr++OS0oRyt72UglkKSYdDgZmdhVwEfBpd89+faoDRufsNiqUtVe+ARhgZrFW5Xm5++3uPtndJ9fU1HS06iJ7lM0Z9ItHlUCWotGhYGBm5wP/AFzs7ttzNs0GLjezUjMbB0wEXgHmARPDyKE4mSTz7BBEngIuDcfPAB7p2EsR6RrZ1kBFaUwJZCka+zK09D7gReBQM1ttZlcD/w5UAXPN7A0zuw3A3RcCDwDvAI8D17h7KuQEvgbMARYBD4R9Ab4F/K2Z1ZLJIdzZpa9QZD8lUmmiEaM0FlE3kRSN2N52cPcr8hS3+4Ht7j8BfpKn/FHg0Tzly8mMNhLpFZIpJxYxSqIR0g6ptBONWE9XS+SA0gxkkVYSKackGqEkmnl7KG8gxUDBQKSVZDpNSdQoiWZaA8obSDFQMBBpJZFKE4tGKI1Fdj4XKXQKBiKtJFJOScgZZJ4rGEjhUzAQaSUZWgbKGUgxUTAQaSWRdmJRo0TdRFJEFAxEWkmm0sSjEeLZBLLWJ5IioGAg0koilWkZxNUykCKiYCDSSiKVJhaJKIEsRUXBQKSVZMrDPAMlkKV4KBiItJJM794y0KQzKQYKBiKtJFJOSSx30pkSyFL4FAxEWkmk0pp0JkVHwUCklWQYTbRzbSLlDKQIKBiItJJIt5qBrJaBFAEFA5FWkmFtIs0zkGKiYCDSSjKVpiQaIZ7NGaibSIrAvtz2cpaZrTOzt3PKBpnZXDNbFn4PDOVmZreYWa2ZvWVmJ+QcMyPsv8zMZuSUn2hmC8Ixt5iZbiklPaol5ZluIo0mkiKyLy2Du4DzW5V9G3jC3ScCT4TnABcAE8PPTOBWyAQP4DrgZDK3uLwuG0DCPl/MOa71tUS6lW5uI8Vor8HA3Z8BGloVTwfuDo/vBi7JKb/HM14CBpjZCOA8YK67N7j7RmAucH7Y1t/dX3J3B+7JOZdIj8jcAzlCSUQzkKV4dDRnMMzd14THHwLDwuORwKqc/VaHsj2Vr85TLtJjEqlMyyASybQOlECWYtDpBHL4Rt8tnapmNtPM5pvZ/Pr6+u64pBShREggA5REIwoGUhQ6GgzWhi4ewu91obwOGJ2z36hQtqfyUXnK83L32919srtPrqmp6WDVRdqXTjtph1jIF5REI+omkqLQ0WAwG8iOCJoBPJJTfmUYVTQVaAzdSXOAaWY2MCSOpwFzwrbNZjY1jCK6MudcIt0ukc588Oe2DFo0mkiKQGxvO5jZfcBZwBAzW01mVND1wANmdjXwHnBZ2P1R4EKgFtgOfA7A3RvM7MfAvLDfj9w9m5T+KpkRS/2Ax8KPSI9Ihg/+WCTTMiiNqZtIisNeg4G7X9HOpnPy7OvANe2cZxYwK0/5fOCovdVDpDtkg8GuloESyFIcNANZJEd2TkGJcgZSZBQMRHIkQ84gptFEUmQUDERytM4ZlMSUQJbioGAgkiOR2n00UWk0ooXqpCgoGIjkSKZbJZBjSiBLcVAwEMmRTRbvNulMwUCKgIKBSI5dLQONJpLiomAgkiMZWgGxsGJpXJPOpEgoGIjkyN7IJttNFI9GdHMbKQoKBiI5svMM4jkzkNVNJMVAwUAkR7ZLSJPOpNgoGIjkSLSedKbRRFIkFAxEcrReqE6rlkqxUDAQybFrbSINLZXiomAgkiP7wR/PyRmkHVJpjSiSwqZgIJIjO+lsZ8sglvmtriIpdAoGIjnaTDoLLQQlkaXQdSoYmNnfmNlCM3vbzO4zszIzG2dmL5tZrZn91sziYd/S8Lw2bB+bc57vhPIlZnZe516SSMclUrsvRxGPZd4iWrlUCl2Hg4GZjQT+Gpjs7kcBUeBy4AbgJnefAGwErg6HXA1sDOU3hf0wsyPCcUcC5wO/MrNoR+sl0hnZBHJJTs4A1DKQwtfZbqIY0M/MYkA5sAb4KPBg2H43cEl4PD08J2w/x8wslN/v7s3uvgKoBaZ0sl4iHdJ6OYpsMEgklUCWwtbhYODudcC/Au+TCQKNwKvAJndPht1WAyPD45HAqnBsMuw/OLc8zzEi3WrnzW0iu5ajALUMpPB1pptoIJlv9eOAg4AKMt08B4yZzTSz+WY2v76+/kBeSopUMuVEDCJhBnJpNmegYCAFrjPdROcCK9y93t0TwO+A04ABodsIYBRQFx7XAaMBwvZqYENueZ5jduPut7v7ZHefXFNT04mqi+SXSKd3rksEOTkDJZClwHUmGLwPTDWz8tD3fw7wDvAUcGnYZwbwSHg8OzwnbH/S3T2UXx5GG40DJgKvdKJeIh2WTPnO4aSQkzNQy0AKXGzvu+Tn7i+b2YPAa0ASeB24HfgTcL+Z/VMouzMccifwazOrBRrIjCDC3Rea2QNkAkkSuMbdUx2tl0hnJFLpnclj0GgiKR4dDgYA7n4dcF2r4uXkGQ3k7k3AJ9s5z0+An3SmLiJdIZHynRPOIGeegW5wIwVOM5BFciRT6Z0jiCBnBrJyBlLgFAxEciTTvns3kdYmkiKhYCCSI5FK78wTgBLIUjwUDERyJFLpnRPOQN1EUjwUDERyJFO7dxMpgSzFQsFAJEci7e1MOtNoZylsCgYiOZKpNCWR3HkG2QSyWgZS2BQMRHK0l0DWpDMpdAoGIjkSrXMGGk0kRULBQCRHMr17yyASMWIR02giKXgKBiI5kiknlpMzgExXkVoGUugUDERytM4ZQCaJrASyFDoFA5EciZTvtjYRQDwWVQJZCp6CgUiOZGr3m9sAxKNGQjkDKXAKBiI5Eum2LYOSWEQtAyl4CgYiOZKp9G73MwAlkKU4KBiI5EimPE8COUJLUglkKWydCgZmNsDMHjSzxWa2yMxOMbNBZjbXzJaF3wPDvmZmt5hZrZm9ZWYn5JxnRth/mZnNaP+KIgdWS6ub20BmsTq1DKTQdbZlcDPwuLsfBhwLLAK+DTzh7hOBJ8JzgAvI3Ox+IjATuBXAzAaRuXXmyWRul3ldNoCIdLfWN7eBTAJZk86k0HU4GJhZNXAG4Yb37t7i7puA6cDdYbe7gUvC4+nAPZ7xEjDAzEYA5wFz3b3B3TcCc4HzO1ovkY5yd1JpV85AilJnWgbjgHrgv8zsdTO7w8wqgGHuvibs8yEwLDweCazKOX51KGuvXKRbZSeWtRlNpGAgRaAzwSAGnADc6u7HA9vY1SUEgLs70GWZNzObaWbzzWx+fX19V51WBMisSwS0SSDHYxFaNANZClxngsFqYLW7vxyeP0gmOKwN3T+E3+vC9jpgdM7xo0JZe+VtuPvt7j7Z3SfX1NR0ouoibSXCiKG2k84iurmNFLwOBwN3/xBYZWaHhqJzgHeA2UB2RNAM4JHweDZwZRhVNBVoDN1Jc4BpZjYwJI6nhTKRbpXY2TJo3U2ktYmk8MU6efzXgXvNLA4sBz5HJsA8YGZXA+8Bl4V9HwUuBGqB7WFf3L3BzH4MzAv7/cjdGzpZL5H9lgwf+EogSzHqVDBw9zeAyXk2nZNnXweuaec8s4BZnamLSGdlP/DbDC3VPAMpApqBLBJkP/DjeWcgKxhIYVMwEAmS6WwCuW3LQAvVSaFTMBAJdnYTtckZKIEshU/BQCRI7mHSWSqdmZ0sUqgUDESC7KSzNvMMYpnnSiJLIVMwEAmyy1S3WbU0BAflDaSQKRiIBO0tR5F9rltfSiFTMBAJdk06a5szAJREloKmYCASZHMC+Raqy90uUogUDESC7DyDtt1EmZZCs7qJpIApGIgE7S5HEVXLQAqfgoFIsPPmNnkWqstsVzCQwqVgIBIk22kZlChnIEVAwUAkSLS3NlF2nkFSo4mkcCkYiATJdlYtjccywUGTzqSQKRiIBLsSyJp0JsVHwUAkSOx10pmCgRQuBQORYNeqpfknnambSApZp4OBmUXN7HUz+2N4Ps7MXjazWjP7bbg/MmZWGp7Xhu1jc87xnVC+xMzO62ydRDoimU5jBtFIewlkBQMpXF3RMrgWWJTz/AbgJnefAGwErg7lVwMbQ/lNYT/M7AjgcuBI4HzgV2YW7YJ6ieyXllS6TasAYEB5CQD1W5u7u0oi3aZTwcDMRgEfA+4Izw34KPBg2OVu4JLweHp4Tth+Tth/OnC/uze7+wqgFpjSmXqJdEQy5ZS0ahUAVJWVMKK6jGVrt/ZArUS6R2dbBj8H/gHItp8HA5vcPRmerwZGhscjgVUAYXtj2H9neZ5jdmNmM81svpnNr6+v72TVRXaXTKXbjCTKmjC0kmXrtnRzjUS6T4eDgZldBKxz91e7sD575O63u/tkd59cU1PTXZeVXuCBeav4yA1P8usXVx6wUT2JtLe5sU3WpGFV1K7bSlq3vpQC1ZmWwWnAxWa2ErifTPfQzcAAM4uFfUYBdeFxHTAaIGyvBjbkluc5RoRU2vnFU8uo39LMDx5ZyLSbnuHRBWtw79oP5mQqTSyS/y0xcWglTYk0dZt2dOk1RXqLDgcDd/+Ou49y97FkEsBPuvungaeAS8NuM4BHwuPZ4Tlh+5OeeTfPBi4Po43GAROBVzpaLyk8f16yjlUNO/jZZcdy54zJlESNr977Grc9vbxLr5NIOSWx/C2DicMqAVi6Vl1FUpgOxDyDbwF/a2a1ZHICd4byO4HBofxvgW8DuPtC4AHgHeBx4Bp3Tx2Aekkfdc+L7zGsfynnHTmccw4fxmPXnsGZk2q4/Zl32d6S3PsJ9lEilW6zYmnWhKFVACxbpySyFKYuCQbu/md3vyg8Xu7uU9x9grt/0t2bQ3lTeD4hbF+ec/xP3H28ux/q7o91RZ2kMKxYv42nl9bzf6aM2TnsMxox/vqcCWzcnuD+V1bt5Qz7LpnyNovUZVX3K2FY/1KNKJKCpRnI0qv9+sX3KIkaV5w8erfyE8cMYsq4Qdzx7PI2k8E6mktIptvPGQBMHFpFrUYUSYFSMJBea1tzkv95dRUXHDWCoVVlbbZ/5azxfNDYxCNv7BpvMH9lAyf95P/xu9dW7/f1Eqn2RxNBdnipRhRJYVIwkF7r92/UsaUpyZWnjMm7/axJNRwxoj+3Pf0u6bTzwrvruXLWK6zf2sJ/v/z+fl8v0c4M5KxJw6rY3pLig0aNKJLCo2AgvVI67dzzwnscMaI/J44ZmHcfM+MrZ43n3fpt/OiP7/C5/5rHqIH9mHHKGOa/t5EPG5v265p7yhnArhFFSiJLIVIwkF7pv195nyVrt/ClMw8hs2pJfhccNZwxg8u564WVjK+p5P6Zp3DlqWMBePztNft1zUR6zy2DCTUhGGh4qRQgBQPpddZtbuKGxxdz6vjBXHzsQXvcNxaN8MOLj+Qvjz2I+744lUEVccbXVHLosCoeffvD/bpuMuVt7mWQa2BFnCGVGlEkhUnBQHqdf/zDOzQn0/zk40fvsVWQdfahQ/nFFcdTHVYXBbjg6OHMW9nAui27dxWt3ri93QTw3nIGAJOGVaqbSAqSgoH0Kk8uXsufFqzh62dPYNyQig6f58KjR+AOc3JaB8/Xruf0G5/i+scX5z1mX4LBxKGV1K7b2uVLYYj0NAUD6TW2NSf5we8XMnFoJV86c3ynzjVpWBUThlby6IJMMNiwtZm/+e0bANz1/EpWNWxvc0wyvecEMsCEYVVsbU6yZj+T0yK9nYKB9AqbmxJ85d7XqNu0g59+4uidt5rsjAuPGs7LKzZQv6WZb/7Pm2zakWDWVScRicCNc5a02T+TM9hLN9FQjSiSwqRgID1u5fptfPyXz/NC7Xpu+KujOWnsoC457wVHjyDt8KVfz+epJfV878LDOfvQocw8/RD+8OYHvLFq0277Z7qJ9twymDgsrFGkEUVSYBQMpEe98O56pv/yeRq2tfCbL5zMp046uMvOfdjwKg4ZUsFr72/i3MOH7Zy8NvPM8QypjPPTPy3are9/X3IGgyriDK6Ia0SRFBwFA+kxHzY28fm75jG0qpRHrvkIUw8Z3KXnNzMunzKasYPL+ZdLj9k5MqmyNMY3zp3EKysbmPvO2p37723SWdaEoZUs1RpFUmAUDKTH3PzEUlJpZ9ZVJ3Hw4PIDco2ZZ4znqW+excCK+G7ll580mvE1FVz/2OKdC93tbdJZ1gljBvLW6kZWrt92QOos0hMUDKRH1K7bwm/nreIzU8cwetCBCQRZ+eYqxKIRvvexw1m+fhv3vLgS2Puks6zPnTqWWMS45cllXVxTkZ6jYCA94sbHl1Aej/G1syf0WB3OPnQoZ06q4eYnlrF+a3MYWrr3t8TQ/mV8ZuoYfv96HcvrlTuQwqBgIN3u1fca+N931vLlMw9hcGVpj9XDzPjBRYezoyXF9Y9lJqLF9yFnAPDlM8cTj0X4xZO1B7KKIt2mw8HAzEab2VNm9o6ZLTSza0P5IDOba2bLwu+BodzM7BYzqzWzt8zshJxzzQj7LzOzGe1dU/o+d+f6xxZTU1XK5z8yrqerw4ShVVx5ylgefDVz/4N9aRkA1FSV8tmpY3jkjTreVetACkBnWgZJ4O/c/QhgKnCNmR1B5t7GT7j7ROCJ8BzgAjI3u58IzARuhUzwAK4DTgamANdlA4gUlrWbm/jpo4uYt3Ij3zh3IuXxWE9XCYBrz5nIoJBg3pecQdaXzhxPaSzKL57I5A7Saee9Dduo39J8QOopciB1+N3o7muANeHxFjNbBIwEpgNnhd3uBv4MfCuU3+OZgd0vmdkAMxsR9p3r7g0AZjYXOB+4r6N1k97l7bpGbn9mOY8uWEPKnYuOGcFlk0fv/cBuUl1ewt9Nm8T3Hn57v2Y+D6ks5cpTxnD7s8uprd9K7bqtNCXSxGMRvnzmeL561njKSqIHsOYiXadLvpqZ2VjgeOBlYFgIFAAfAsPC45FA7t3LV4ey9srzXWcmmVYFBx/cdZOT5MB56NXVfOuht+hXEmXGqWOZccrYAzaMtDMuP+lgtjUnmXbE8P06buYZh/DKygYqS2P8nyljmDSskheXb+CWJ5bx+9fr+OHFR/DRw4bt/UQiPazTwcDMKoGHgG+4++bcYXzu7mbWZcs7uvvtwO0AkydP1rKRvZi7c+vT73Lj40s4bcJgbv3MifQvK9n7gT0kGjFmnrH/i+MNrizl4a+etlvZ5VMO5lOTR/ODR97m83fN5/SJQ/jmtEM5dvSArqquSJfr1GgiMyshEwjudfffheK1ofuH8HtdKK8DcvsGRoWy9sqlF0ulnUVrNre77R//8A43Pr6Ei489iP+6akqvDgQHwqkThvDYtWfw/Y8dzsIPNjP9l8/zpV/PZ4Umqkkv1ZnRRAbcCSxy93/L2TQbyI4ImgE8klN+ZRhVNBVoDN1Jc4BpZjYwJI6nhTLpxe55cSUX3Pwsdzy7fLfydNr51kNvcdcLK/nCR8bx808d1yUrkPZF8ViEL5x+CE///Vn8zbmTeL52A1/5zas9XS2RvDrTTXQa8FlggZm9Ecq+C1wPPGBmVwPvAZeFbY8CFwK1wHbgcwDu3mBmPwbmhf1+lE0mS+/15OJMg++f/rSI/v1KuGzyaNJp53u/X8CDr67mG+dO5BvnTurhWvYOVWUlXHvuRMzg3+YuZUtTgqoiaylJ79eZ0UTPAe2Nwzsnz/4OXNPOuWYBszpaF+leO1pSvLyigStPGcOK9dv49kNv0b8sxgvvbuC+V1ZxzdnjufaciT1dzV7n6JHVACxas4Up47pmmW6RrtI7BnpLn/LKygZakmnOOXwYk8cM5DN3vsyXf/MakBld881ph+7TvYuLzZEj+wOwoK5RwUB6neLszJVOeWZpPfFYhJPHDaKiNMZdV03hlEMG85WzxvOdCw5TIGjH0KoyhlaVsrCusaerItKGWgay355ZWs/J4wbtnFBVXV7CfTOn9nCt+oajR1azQMFAeiG1DGS/fLBpB8vWbeWMiTU9XZU+6ciR1bxbv5XtLcmerorIbhQMZL88u6wegDMmKRh0xNEjq0k77c7REOkpCgayX55Ztp5h/UuZNKyyp6vSJx0Vkshv1ykYSO+iYCD7LJV2nlu2ntMn1ihJ3EHD+5cxpDLO28obSC+jYCD77K3Vm2jckVAXUSeYGUce1DaJ7O6k0lpuS3qORhPJPntm6XrM4PQJQ3q6Kn3aUSP781ztepoSqZ0jsr7ym9d4emk9J4wZwJSxg5l6yCCmjBukFph0G7UMZJ8sXbuFP7z1AceMrGZguBGMdMzRI6tJpZ3FH24B4KXlG3h84YecMGYAG7cl+PkTS/nU7S9x5axX+GDTjh6urRQLtQykXe7OS8sbuP2Zd3lqST39SqLceOkxPV2tPu/IgzLLUrxd18ixo6q5/rHFDO9fxp0zTqKsJErjjgQPv7aaG+cs4bybnuH7Fx3OZZNHq5UgB5SCgeTVkkzz/d8v4IH5qxlSGefv/mISn5k6Rq2CLjBqYD8GlJew8ING5ixcyxurNnHDXx29axJfvxKuOm0c5xw+jL9/8E2+9dACXlmxkZ9ddmwP11wKmYKBtNGwrYUv/+ZVXlnRwNfOnsDXPjpBt2/sQmbGUQdV8/r7m3h5RQPjayr4qxNGtdlv9KBy/vsLU7lhzmL+4+nlXHDUcM49Yve7pu1oSZF2p6K0Y2/lzU0Jbvvzu8x9Zy2//PQJTBpW1aHzSN+nYCC7qV23hc/fNZ8PNzdx8+XHMf24vHcglU46amQ1tz39LgD/8dkTiUXzp+8iEeOb0w7lqcXruG72Qk6dMJjyeOZtu2FrM5+87UU+aNzBx44+iCumjObEMQMxMxKpNGs3NzGgPE5lnkDRkkxz78vvccsTy9i4PUG/kihf/+/XeeRrpynwFykFAwEy+YF7X36fnz66iPJ4jPtnTuWEgwf2dLUKVnby2QkHD2DaEXu+R3JJNMJPP340l972Ij//f8v47oWHs605yefvmkfdph187JgRzFn4IQ+9tpqRA/rRkkqzfmsz7tCvJMolxx/Ep08ew1Ejq1m6dgsPvbqah1+vY92WZk4dP5jvXng467c2c9V/zeOnjy7iR9OP6o5/AullFAyENY07+IcH3+LZZes5feIQbrz0GEZU9+vpahW0qYcM5rDhVfzgoiP2KTE8eewgrpgymjufW8FFx4zg3+YuZUFdI7d95kSmHTmcbc1J/rRgDU8tXkf/shKGV5cxrH8Zb6zayMOv13HfK1HlmS8AAA4mSURBVKsYUV3GmsYmYhHjrENr+OwpYzlj4pCd1//CR8Zxx3MrOH1iDX+xlwAlhccy95zpeyZPnuzz58/v6Wr0aem0c9+897n+scUkU853P3Y4nzn5YI1a6aU2bW/hnJ89zbaWJE2JNP/8iaO5YsrBez2ucXuCB19bzQu16zltwhAuPu4ghlSWttmvOZniE796gbpNO3j82jMYXl12IF6G9DAze9XdJ7cp7y3BwMzOB24GosAd7n79nvZXMICN21qIRIzqfrvfQtHdefHdDazauJ2ykijl8RhVZTHGDalgaFUpZsaC1Y18/5G3eXPVJk4eN4gbLz2GMYMreuiVyL565I06rr3/jQN2W9F367dy0S3PETE4bcIQzj5sKB+ZMIT+/UoojUWIRyNEIru+LDQnUyz9cCsL6hpZ+EEjA8pLOHX8EE4cM7Cgcw/1W5pp3NHC+JrKPvflqVcHAzOLAkuBvwBWk7kf8hXu/k57xxRzMFj4QSN3PruCP7z1AREzPn78SD532jgmDavkz0vqufmJZbyxalPeY6vKYowZXM7CDzYzuKKU73/scKYfd1Cf+w9dzNZubmJY/wP3rf3NVZt4YP4qnlq8jg8am9psj0aMiGVGRSVTabKraFSVxtieSJFKO/FYhONHD+C40QM4ZtQAjhlVTU1VpjViBrFIhGikd/yfq9/SzIK6Tby5qpFFazYzuDLOocOqOHR4f0ZUl7EjkWJbc5JN2xPMW9nAs8vW805YdXZwRZxTxg/m5EMGUxGP0pRI05RIsbU5yfqtzdRvaaZhWwsRM0pLIpTGIiRSTv2WXdsASqJGSSxCWSxKZVnmy1tVWQmVpVEq4jEqy2IMLI8zorqMgwb0Y2B5nFUbt7P0wy0sWbuFpkSaEdVlDK8uY3j/MipKo8RjEUpjUcpKolSVxagojVFZGmNAebxXB4NTgB+6+3nh+XcA3P2f2ztmyNjD/ep//S3D+pdSXR7feTPmtDvbW1Js3pGgcUeCZNrpXxajul8JlWUxmhNptjQn2dKUJJVOU1laQlVZ5h+pt/zndDJdOMm0k0qnaUqk2daSZFtzkhXrtzFv5UbK41EumzyallSa3722mqZEmpED+lG3aQejBvbjmrMncPrEITQl0uxoSdG4I8Hy9VtZtnYry9dv5fDh/fnrcyfSXzdml3a4O0vXbuXV9zayI5GiOZmiOZEmlXbS7qQ98yF22PD+HD2ymtGD+rG1Ocm8lQ28ULuBV1Y2sGjNZhKp/J8xgyri1FSWMqQqTjQSoSmRojmRIpFyYlEjFjFi0QhRM8wgEn5nglHmBzJrOqV81/pO2fptbU7RuL2Fxh0JWlJpqvvFGVRRwoB+cbYnkmzclqBhWws7EikgE6TGDa6gYXsLm7Yn8ta5JGpMHjOI0ycNYUhFKS8t38Dz765n7ebmNvtW9yuhpqqUQRVx8EwrqjmZJhoxaqpKqaksZVBlHCMz+iuZSrO9JcW2lszn0+amzHt+W3OSrU1JtjTnvwfGwYPKKY9HWdPYROOO/PXO9d4NF/XqYHApcL67fyE8/yxwsrt/rdV+M4GZABUjxp94xDW3sX5rM/nW96qIR+nfr4RoxMI/bILsSy0riVBZWkI0AtuaM1G8N4sYVMQzkX1AeQkfP34kl085eGf30MZtLdw3732er13PxccexCdOGEVJO0MVRbpTczLFkg+3sKCukcYdu96Dzck0G8I35/ow8qk0FqGsJEpJ1EimnWTKSaTSuGe+5DmZlXPdnZQ7qTQYIThEjGgIFGZG1IyK0syXwOp+JcRjERp3tLBxW4KN21soj0cZWBFncEWcYf3LOHpkNUeNrKaiNIa7s25LM4s/3EL9lmYq4lHKw7fqw4ZXtZnT4e7UbdpBKu2UlUQpjUUoj8eIx7r2PdiUSLF2cxNrGpvYsLWFUQP7MWFo5W712dacZN2WZna0pGhJZVop2ZbN1qYkW5uTfPGM8X0/GOTKdhMlU2m2Nad221ZeGm3zYZhOO9takpTGom3+SKmwzdNd9IK6QDR8M4qYURI1deOISJdoL2fQW4aW1gGjc56PCmV7FYtGqC7fewSORIyqdrpEohFTd4mIFLXe0pcwD5hoZuPMLA5cDszu4TqJiBSNXtEycPekmX0NmENmaOksd1/Yw9USESkavSIYALj7o8CjPV0PEZFi1Fu6iUREpAcpGIiIiIKBiIgoGIiICL1k0llHmNkWYEl4OgRY3wWnrQYau+A8hXr+rrrGnv5efeU19OT5D8Q1Wv9N9G/U8+ff2zU68rlXBqx29/PbbHH3PvkDzM/3uJPnvP0A17lPn7+rrrGnv1dfeQ2F8HfY099E/0Y9f/69XaMjn3t7OkbdRLv7g87f49fQa+gd1+jr5++OaxTCa9ipL3cTzfewvkbuY+n99PfqffQ36Xs68jfb0zF9uWVwezuPpffT36v30d+k7+nI36zdY/psy0BERLpOX24ZiIhIF1EwEBGRvhUMzGxrT9dB9s7MUmb2Rs7P2D3se5aZ/bH7aleczMzN7Dc5z2NmVq9/+97NzC4Jf7vDDvS1+lQwkD5jh7sfl/OzsqcrJGwDjjKzfuH5X7CPN5DKMrNes8pxEbkCeC783mdmFt3fC/W5YGBmlWb2hJm9ZmYLzGx6KB9rZovM7D/NbKGZ/W/Of3zpYWYWNbN/MbN5ZvaWmX0pZ3N/M/uTmS0xs9vMrM/9v+wjHgU+Fh5fAdyX3WBmU8zsRTN73cxeMLNDQ/lVZjbbzJ4Enuj+KhcvM6sEPgJcTeaGX9mW9DP53i9mttXMfmZmbwKn7O/1+uKbrgn4uLufAJwN/Mx23SB4IvBLdz8S2AT8VQ/Vsdj1y+kiejiUXQ00uvtJwEnAF81sXNg2Bfg6cAQwHvhEt9e4ONwPXG5mZcAxwMs52xYDp7v78cD/BX6as+0E4FJ3P7PbaioA04HH3X0psMHMTgzl7b1fKoCX3f1Yd39ufy/WF5t9BvzUzM4A0sBIYFjYtsLd3wiPXwXGdn/1hNBN1KpsGnCMmV0anleTCd4twCvuvhzAzO4j823owe6qbLFw97dC/uYK2t5Iqhq428wmAg7k3hR8rrs3dEslJdcVwM3h8f3h+R9p//2SAh7q6MX6YjD4NFADnOjuCTNbSWbxJYDmnP1SgLqJeg8Dvu7uc3YrNDuLzIdPLk1+OXBmA/8KnAUMzin/MfCUu388BIw/52zb1k11k8DMBgEfBY42MydzO2AH/kT775cmd0919Jp9sZuoGlgXAsHZwJierpDskznAV8ysBMDMJplZRdg2xczGhb7PT5FJmMmBMQv4R3df0Kq8ml0J5au6tUaSz6XAr919jLuPdffRwArgdA7Q+6XPBIMwkqEZuBeYbGYLgCvJ9HVK73cH8A7wmpm9DfwHu1qm84B/BxaR+Q//cN4zSKe5+2p3vyXPphuBfzaz1+mbPQaF5gravg8eCuUH5P3SZ5ajMLNjgf909yk9XRcRkZ4QulW/6e4XdfW5+0TLwMy+TGYY3Pd7ui4iIoWoz7QMRETkwOmVLQMzG21mT5nZO2EC2bWhfJCZzTWzZeH3wFD+6TCRaUGYMHNszrnOD5Mzas3s2z31mkREerNe2TIwsxHACHd/zcyqyMwZuITMKIcGd78+fLAPdPdvmdmpwCJ332hmFwA/dPeTw5TspWSm3q8mk3i5wt3f6YnXJSLSW/XKloG7r3H318LjLWSy5iPJzMi7O+x2N5kAgbu/4O4bQ/lLwKjweApQ6+7L3b2FzMSN6d3zKkRE+o5eGQxyhQkwx5OZOj/M3deETR+ya+ZxrquBx8LjkcCqnG2rQ5mIiOTo1eOJw0JNDwHfcPfNu5YgAnf3MDMvd/+zyQSDj3RrRUVE+rhe2zIIM1UfAu5199+F4rUhn5DNK6zL2f8YMhObprv7hlBcB4zOOe0o9nPZXhGRYtArg0FYhfROMknhf8vZNBuYER7PAB4J+x8M/A74bFjhL2seMDFM3Y6TWQZ29oGuv4hIX9NbRxN9BHgWWEBmZVKA75LJGzwAHAy8B1zm7g1mdgeZ5arfC/sm3X1yONeFwM/JLPQ0y91/0m0vRESkj+iVwUBERLpXr+wmEhGR7qVgICIiCgYiIqJgICIiKBiIiAgKBiJtmNkPzeybe9h+iZkdsY/nqTOzN8IKvFd0bU1Fuo6Cgcj+uwTYazAIbnL348gskPgf2XtAi/Q2CgYigJl9z8yWmtlzwKGh7ItmNs/M3jSzh8ysPCyXfjHwL+Eb//jw87iZvWpmz5rZYa3P7+7LgO1A9h4ceY8xs7vM7DYzmx/q0+W3NxTJp1cvVCfSHczsRDJLlRxH5j3xGpl7aPzO3f8z7PNPwNXu/gszmw380d0fDNueAL7s7svM7GTgV8BHW13jBGCZu2fX07p9D8eMJbP8+njgKTOb4O5NB+jliwAKBiIApwMPu/t2gPBhD3BUCAIDgEpgTusDw8q6pwL/k7OqbmnOLn9jZp8DJgF/uY/HPODuaWCZmS0HDgPe6OyLFNkTBQOR9t0FXOLub5rZVcBZefaJAJtCXiCfm9z9X83sYuBOMxu/D8e0XiNGa8bIAaecgQg8A1xiZv3CbVb/MpRXAWtC0vfTOftvCdtw983ACjP7JGRW3M29B3eWu88G5gMz9uGYT5pZJASOQ4AlXfliRfJRMJCiF26x+lvgTTJ3yZsXNv2AzEq5zwOLcw65H/h7M3s9fGB/GrjazN4EFtL+rVV/BPytmUX2csz7wCuhLl9WvkC6g1YtFelFzOwucpLTIt1FLQMREVHLQERE1DIQEREUDEREBAUDERFBwUBERFAwEBERFAxERAT4/yTdnVLNelrXAAAAAElFTkSuQmCC\n",
      "text/plain": [
       "<Figure size 432x288 with 1 Axes>"
      ]
     },
     "metadata": {
      "needs_background": "light"
     },
     "output_type": "display_data"
    }
   ],
   "source": [
    "df_geo['CN'].plot()"
   ]
  },
  {
   "cell_type": "markdown",
   "metadata": {},
   "source": [
    "The big spike in the middle was a change in counting, where they decided to count an extra 15000 cases.\n",
    "\n",
    "To see the growth in number of cases, we can use cumulative sum, in this case we show CN and NL."
   ]
  },
  {
   "cell_type": "code",
   "execution_count": 31,
   "metadata": {},
   "outputs": [
    {
     "data": {
      "text/plain": [
<<<<<<< HEAD
       "<matplotlib.axes._subplots.AxesSubplot at 0x7f1728044310>"
=======
       "<matplotlib.axes._subplots.AxesSubplot at 0x7f3eeb96b518>"
>>>>>>> 6185f89dbbde69b1c2bf42de612da293244ef22e
      ]
     },
     "execution_count": 31,
     "metadata": {},
     "output_type": "execute_result"
    },
    {
     "data": {
      "image/png": "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\n",
      "text/plain": [
       "<Figure size 432x288 with 1 Axes>"
      ]
     },
     "metadata": {
      "needs_background": "light"
     },
     "output_type": "display_data"
    }
   ],
   "source": [
    "df_geo[['CN', 'NL']].cumsum().plot()"
   ]
  },
  {
   "cell_type": "markdown",
   "metadata": {},
   "source": [
    "Because of the large difference in numbers, it may help to use a logarithmic scale."
   ]
  },
  {
   "cell_type": "code",
   "execution_count": 32,
   "metadata": {},
   "outputs": [
    {
     "name": "stderr",
     "output_type": "stream",
     "text": [
      "/home/zwieteri/.local/lib/python3.6/site-packages/ipykernel_launcher.py:1: RuntimeWarning: divide by zero encountered in log10\n",
      "  \"\"\"Entry point for launching an IPython kernel.\n"
     ]
    },
    {
     "data": {
      "text/plain": [
<<<<<<< HEAD
       "<matplotlib.axes._subplots.AxesSubplot at 0x7f1724c815d0>"
=======
       "<matplotlib.axes._subplots.AxesSubplot at 0x7f3eeb8fdd68>"
>>>>>>> 6185f89dbbde69b1c2bf42de612da293244ef22e
      ]
     },
     "execution_count": 32,
     "metadata": {},
     "output_type": "execute_result"
    },
    {
     "data": {
      "image/png": "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\n",
      "text/plain": [
       "<Figure size 432x288 with 1 Axes>"
      ]
     },
     "metadata": {
      "needs_background": "light"
     },
     "output_type": "display_data"
    }
   ],
   "source": [
    "np.log10(df_geo[['CN', 'NL']].cumsum()).plot()"
   ]
  },
  {
   "cell_type": "markdown",
   "metadata": {},
   "source": [
    "This clearly shows the phases in CN, first some external infections, then an incubation period, then the internal infections take off. Measures like isolation and social distancing seem to work, the curve flattens and stabilizes. For NL we are still at the phase where measures start to take effect. Also, no real startup curve there.\n",
    "\n",
    "Perhaps some other countries also show this effect."
   ]
  },
  {
   "cell_type": "code",
   "execution_count": 33,
   "metadata": {
    "scrolled": false
   },
   "outputs": [
    {
     "name": "stderr",
     "output_type": "stream",
     "text": [
      "/home/zwieteri/.local/lib/python3.6/site-packages/ipykernel_launcher.py:1: RuntimeWarning: divide by zero encountered in log10\n",
      "  \"\"\"Entry point for launching an IPython kernel.\n"
     ]
    },
    {
     "data": {
      "text/plain": [
<<<<<<< HEAD
       "<matplotlib.axes._subplots.AxesSubplot at 0x7f1724c11e10>"
=======
       "<matplotlib.axes._subplots.AxesSubplot at 0x7f3eeb94f940>"
>>>>>>> 6185f89dbbde69b1c2bf42de612da293244ef22e
      ]
     },
     "execution_count": 33,
     "metadata": {},
     "output_type": "execute_result"
    },
    {
     "data": {
      "image/png": "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\n",
      "text/plain": [
       "<Figure size 432x288 with 1 Axes>"
      ]
     },
     "metadata": {
      "needs_background": "light"
     },
     "output_type": "display_data"
    }
   ],
   "source": [
    "np.log10(df_geo[['CN', 'SE', 'US', 'NL', 'IT', 'ES']].cumsum()).plot()"
   ]
  },
  {
   "cell_type": "code",
   "execution_count": null,
   "metadata": {},
   "outputs": [],
   "source": []
  },
  {
   "cell_type": "markdown",
   "metadata": {},
   "source": [
    "Another interesting measure would be relative growth in number of cases per day. Therefore we need to divide the current day by the previous one, easily implemented by dividing the dataframe by the same dataframe shifted one row. Note that we are now only showing data from March 16 onwards, as specified by the loc method."
   ]
  },
  {
   "cell_type": "code",
   "execution_count": 34,
   "metadata": {},
   "outputs": [
    {
     "data": {
      "text/plain": [
<<<<<<< HEAD
       "<matplotlib.axes._subplots.AxesSubplot at 0x7f17223f5990>"
=======
       "<matplotlib.axes._subplots.AxesSubplot at 0x7f3eecaf03c8>"
>>>>>>> 6185f89dbbde69b1c2bf42de612da293244ef22e
      ]
     },
     "execution_count": 34,
     "metadata": {},
     "output_type": "execute_result"
    },
    {
     "data": {
      "image/png": "iVBORw0KGgoAAAANSUhEUgAAAXoAAAEeCAYAAACExd7cAAAABHNCSVQICAgIfAhkiAAAAAlwSFlzAAALEgAACxIB0t1+/AAAADh0RVh0U29mdHdhcmUAbWF0cGxvdGxpYiB2ZXJzaW9uMy4xLjEsIGh0dHA6Ly9tYXRwbG90bGliLm9yZy8QZhcZAAAgAElEQVR4nOzdd3hT1f/A8fdNmu69aEsnU7pL2YgUCkUFFBRRVMQvIIKAAwfITwXFAYoDARFkOVDAgQrIatkbCmXv0gl075km9/dHoYJQutKkLef1PHmS5t6c80nFzz099wxJlmUEQRCEpkth6AAEQRCE+iUSvSAIQhMnEr0gCEITJxK9IAhCEycSvSAIQhMnEr0gCEITZ2Soih0dHWVvb29DVS8IgtAoRUdHp8uy7FSTzxgs0Xt7e3P48GFDVS8IgtAoSZIUX9PPiK4bQRCEJk4kekEQhCZOJHpBEIQmzmB99IIgCPVFrVaTlJREcXGxoUOpNVNTU9zd3VGpVHUuSyR6QRCanKSkJKysrPD29kaSJEOHU2OyLJORkUFSUhI+Pj51Lk903QiC0OQUFxfj4ODQKJM8gCRJODg46OwvEpHoBUFokhprkr9Bl/GLRG9g2xK2sfzkckOHIQhCHU2fPp3Zs2ff9n5cXBz+/v4GiOhfoo/egHYn72bS9kmUyWX0b9EfJ/MaTXYTBEGolipb9JIkLZUkKVWSpJOVHA+TJClHkqSY64/3dB9m03Mq/RSTtk/CxcIFgK0JWw0ckSDcu2bMmEHbtm25//77GTZsGLNnz+bSpUs8+OCDhIaG0qNHD86ePQuUt9B79+5NYGAg4eHhJCQk3FZedHQ0QUFBBAUFMX/+fH1/ndtUp+tmOfBgFefskmU5+Prjg7qH1bQl5ibyUtRL2JnY8cNDP+Bt7U1kQqShwxKEe9KhQ4f4/fffOXbsGBs2bKhYmmXMmDHMnTuX6OhoZs+ezUsvvQTAxIkTGTFiBMePH+eZZ57h5Zdfvq3M//3vf8ydO5djx47p9btUpspEL8vyTiBTD7HcEzKKMngx8kU0soZv+36Lk7kTvT17c/jaYXJKcgwdniDcc/bs2cOjjz6KqakpVlZWDBw4kOLiYvbu3csTTzxBcHAwL774IlevXgVg3759PP300wAMHz6c3bt331JednY22dnZPPDAAxXnGJqubsZ2lSTpmCRJGyRJ8tNRmU1OobqQCVETSCtMY17vefjYlI+P7ePZhzK5jB1JOwwcoSAIAFqtFltbW2JiYioeZ86cMXRYtaaLRH8E8JJlOQiYC/xZ2YmSJI2RJOmwJEmH09LSdFB146HWqnl9x+uczjzNpw98SrBzcMUxP0c/mpk3Iyo+yoARCsK9qXv37qxdu5bi4mLy8/NZt24d5ubm+Pj48OuvvwLlE5hudMN069aNlStXArBixQp69OhxS3m2trbY2tpWtPRXrFihx29zZ3VO9LIs58qynH/99T+ASpIkx0rOXSTLcgdZljs4Od07I0xkWeb9ve+zO3k373Z5l16evW45rpAU9PbszZ4reyhUFxooSkG4N3Xs2JFHHnmEwMBAHnroIQICArCxsWHFihUsWbKEoKAg/Pz8+OuvvwCYO3cuy5YtIzAwkB9//JE5c+bcVuayZcsYP348wcHByLKs7690O1mWq3wA3sDJSo65ANL1152AhBs/3+0RGhoq3yvmRM+R/Zf7y/OPzq/0nANXDsj+y/3lLXFb9BiZIDRNp0+frtH5eXl5sizLckFBgRwaGipHR0fXR1g1dqfvARyWq5G3b35UOY5ekqRfgDDAUZKkJGAaoLp+kfgWGAKMkySpDCgCnroejACsOruK7058x+OtH2dc0LhKz2vfrD22JrZEJkTSx6uPHiMUBGHMmDGcPn2a4uJiRowYQfv27Q0dkk5VmehlWR5WxfF5wDydRdSERMVH8dGBj+jp3pN3urxz1ynNRgojwjzCiIqPQq1Ro1LWfcU6QRCq5+effzZ0CPVKLIFQT46mHmXyrskEOAbw6QOfYqSoehJyuGc4eeo8Dl47qIcIBUG4V4hEXw8uZV9iQtQEXC1cmRc+D3OVebU+19WtK2ZGZmLylCAIOiUSvY6lFKQwNnIsxkpjFvRZgJ2pXbU/a6I0oUfzHmxL2IZGq6nHKAVBuJeIRK9DuaW5jIsaR15pHt+Ef4O7lXuNy+jj1YeM4gyOpTWMqdOCIDR+ItHrSKmmlFe3vcrlnMt8GfYl7Rza1aqcHs17oFKoiEoQk6cEoTG7du0aTz31FC1btiQ0NJSHH36Y8+fPI0kSc+fOrThvwoQJLF++vF5jEYleB7Sylqm7p3Lo2iFmdJ9BV7eutS7L0tiSLq5diEqIahgTLQRBqDFZlhk8eDBhYWFcunSJ6OhoPvnkE1JSUnB2dmbOnDmUlpbqLR6R6OtIlmU+O/QZm+I2MSl0EgNaDKhzmX28+pCcn8y5rHM6iFAQBH3btm0bKpWKsWPHVrwXFBSEh4cHTk5OhIeH8/333+stHpHo6+j7U9/z05mfeLbdszzv97xOygzzCEMhKYiMF6NvBKExOnnyJKGhoZUenzx5MrNnz0aj0c+gC7HDVB3svbKXz6M/p593P97s+KbO9ni0N7WnvXN7ohKimBAyQSdlCsK96v21pzh9JVenZfq6WTNtYO0X6m3RogWdO3fW20Qt0aKvJVmW+frI1zS3bM5H93+EQtLtrzLcM5yL2ReJy4nTabmCINQ/Pz8/oqOj73rO1KlTmTVrll7uxYkWfS3tTNrJqYxTvN/tfUyUJjovP9wznFmHZhGVEMWogFE6L18Q7hV1aXnXVu/evZk6dSqLFi1izJgxABw/fpycnH83F7rvvvvw9fVl7dq1dOzYsV7jES36WpBlmfkx83G3dGdgy4H1UoerpSt+Dn5iL1lBaIQkSWLNmjVERkbSsmVL/Pz8ePvtt3FxcbnlvP/7v/8jKSmp3uMRLfpa2Ja4jTOZZ5jRfQYqRf0tPhbuGc7XR78mpSCFZhbN6q0eQRB0z83NjdWrV9/2/smTJyteBwUFodVq6z0W0aKvIVmWWXBsAZ5WnjoZSnk34V7hAGxNFK16QRBqTyT6GtqasJWzmWcZGzS2WitS1kULmxb42PiILQYFQagTkehrQCtrmX9sPt7W3jzk85Be6uzj2YfDKYfJLs7WS32CIDQ9ItHXQGR8JBeyLvBi0Iv13pq/IdwzHI2sYXvSdr3UJwhC0yMSfTVpZS0Lji3Ax8aHh7z105oH8HXwxcXCRXTfCIJQayLRV9PmuM1czL7IuKBxKBVKvdUrSRLhnuHsvbKXQnWh3uoVBKHpEIm+GjRaDQuOLaClTUsivCL0Xn+4Zzil2lJ2Je/Se92CINTORx99hJ+fH4GBgQQHB3PgwAHCwsJo27YtwcHBBAcHM2TIEL3EIsbRV8OmuE3E5sQyu+dsvbbmb2jv3B57U3uiEqLo591P7/ULglAz+/btY926dRw5cgQTExPS09MrliVesWIFHTp00Gs8ItFX4UZrvrVda/p69TVIDEqFkjCPMDbFbaJUU4qx0tggcQiCUD1Xr17F0dERE5Py5VEcHR0NGo/ouqnCP5f/IS43jnFB43S+cFlNhHuGU6Au4MDVAwaLQRCE6omIiCAxMZE2bdrw0ksvsWPHjopjzzzzTEXXzZtvvqmXeESL/i7KtGUsPL6QtnZtCfcMN2gsXVy7YKGyICohih7uPQwaiyA0KhumwLUTui3TJQAemlnpYUtLS6Kjo9m1axfbtm3jySefZObM8vNF100Dsz52PfG58XzV6yuDtuYBjJXGPND8AbYlbuNd7bsGuVcgCEL1KZVKwsLCCAsLIyAgQK87Sv2XSPSVuNGab2ffjt4evQ0dDgC9vXqzIW4DR1OP0sFFvy0CQWi07tLyri/nzp1DoVDQunVrAGJiYvDy8rplQTN9Eom+EmsvrSUxL5G5vefqbOeouurRvAfGCmOiEqJEoheEBiw/P5+JEyeSnZ2NkZERrVq1YtGiRQwZMoRnnnkGMzMzoPwmbWRk/W8ZKhL9Hai1ahYeX4ifgx893XsaOpwKFioLurp1JSohirc6vtVgLkCCINwqNDSUvXv33vb+9u3b9R8MYtTNHf198W+S85N5KfilBpdMwz3DuVpwldOZpw0diiAIjYRI9P+h1qhZdHwRAY4B9Gje8Ea3hHmEoZSUYu0bQRCqrcpEL0nSUkmSUiVJuutdBEmSOkqSVCZJkn7m9NaTNRfXcKXgSoNszQPYmdoR2iyUqASR6AVBqJ7qtOiXAw/e7QRJkpTALGCzDmIymFJNKd+d+I5Ap0C6u3U3dDiVCvcMJzYnlticWEOHIghCI1BlopdleSeQWcVpE4HfgVRdBGUoay6s4VrBNcYHj2+QrfkbenuWD/cUG4cLglAdde6jlySpOTAYWFD3cAynRFPCohOLCHEOoatrV0OHc1cuFi4EOAaIfnpBEKpFFzdjvwImy7Jc5VbmkiSNkSTpsCRJh9PS0nRQte78fv53UgtTG2zf/H/19uzNyYyTXM2/auhQBEH4j7i4OPz9/W95b/r06cyePZv9+/fTuXNngoODadeuHdOnT6/3eHSR6DsAKyVJigOGAN9IkjToTifKsrxIluUOsix3cHJy0kHVulFcVsySE0sIbRZKZ5fOhg6nWvp49gFga6LovhGExmTEiBEsWrSImJgYTp48ydChQ+u9zjonelmWfWRZ9pZl2Rv4DXhJluU/6xyZHv12/jdSi1IbfN/8zbxtvGlp01KMvhGERiY1NRVXV1egfD0cX1/feq+zOsMrfwH2AW0lSUqSJGmUJEljJUkaW+/R6UFxWTFLTi6ho0tHOrp0NHQ4NRLuFU50SjSZxVXdKxcEoaF47bXXaNu2LYMHD2bhwoUUFxfXe51VLoEgy/Kw6hYmy/LzdYrGAFafW016UTqfPfCZoUOpsT6efVh0fBE7EncwuPVgQ4cjCA3SrIOzOJt5Vqdl3md/H5M7Ta70eGU9A5Ik8d577/HMM8+wefNmfv75Z3755Zd6Xxrhnp4ZW6guZMnJJXR27dwoFwm7z/4+3CzciEyo/0WRBEGoPgcHB7Kysm55LzMzs2KnqZYtWzJu3DiioqI4duwYGRkZ9RrPPb2o2epzq8kszmR88HhDh1IrkiQR7hXOyrMrKVAXYKGyMHRIgtDg3K3lXV8sLS1xdXVl69at9O7dm8zMTDZu3Mgrr7zC+vXrefjhh5EkiQsXLqBUKrG1ta3XeO7ZFn2JpoRlp5bRza0bIc4hhg6n1sI9w1Fr1exM2mnoUARBuMkPP/zAjBkzCA4Opnfv3kybNo2WLVvy448/0rZtW4KDgxk+fDgrVqxAqazfjYTu2Rb9gasHyCzO5Nl2zxo6lDoJdgrGycyJd/e8y4bLG+jr1ZeeHj2xNrY2dGiCcE/z9fVl27Ztt72/cuVKvcdyzyb6HYk7MDMyo5NrJ0OHUidKhZLFEYtZfX41W+K3sC1xG0YKI7q4dqGvV196efTCztTO0GEKgmBA92Sil2WZ7Unb6ebWDROliaHDqbMWti2Y0mkKb3V8ixPpJ4iMj2RL/Bam7Z3GB9IHdHDpQIRXBL09e+No5mjocAVB0LN7MtGfyTxDamEqYR5hhg5FpxSSgiCnIIKcgpgUOokzmWcqkv6M/TP4cP+HhDiHEOEdQbhnOC4WLoYOWRAEPbgnE/2OxB1ISA1yYxFdkSQJXwdffB18mRgykYvZF8uTfsIWZh6cycyDMwl0DKSvV1/6ePXB3crd0CELglBP7slEvz1pO4FOgTiYORg6FL2QJInWdq1pbdeaccHjiMuJIzKhvKX/efTnfB79Oe3s2/Fe1/fwd/SvukBBEBqVe254ZUpBCqczTje5bpua8LbxZnTAaFYNWMWGxzbwRoc3yCnJ4cUtL3Ih64KhwxMEQcfuuUS/I2kHAGHuYYYNpIFwt3JnhN8IlvRbgqnSlBe3vEhiXqKhwxKERk+SJF5//fWKn2fPnl2xJPGNJYv15Z5M9O6W7rS0bWnoUBoUdyt3FvZdSKm2lDGbx5BW2LD2CxCExsbExIQ//viD9PR0Q4diuESvKatynxKdK1QXsv/KfsI8whrNcsT61MquFQvCF5BRnMGYLWPIKckxdEiC0GgZGRkxZswYvvzyS0OHYrhEn3W1EFkr67XO/Vf3U6otpadHT73W25gEOAXwde+vic+N56WolyhUFxo6JEFotMaPH8+KFSvIyTFso8lgo240ZRlkXi3Aobml3urckbQDK5UVoc1C9VZnY9TFtQuf9fyMSdsn8eq2V5kXPg9jpbGhwxKEWrn28ceUnNHtMsUm7e7DZerUKs+ztrbmueee4+uvv8bMzEynMdSE4froZTWXjl7SW3VaWcuOxB10b94dlUKlt3obq3DPcN7v9j77ru5jyq4paLQaQ4ckCI3Sq6++ypIlSygoKDBYDAYdRx8bHU2nAUF6qetk+kkyijNEt00NDGo1iLzSPD499Ckf7P+A6V2ni3sbQqNTnZZ3fbK3t2fo0KEsWbKEkSNHGiQGg7XoJUlJWvxpvdW3PXE7SknZpGfD1ofhvsN5MfBF/rjwB19Ef4Es6/e+iiA0Ba+//vpto28+/PBD3N3dKx71yWAteiMTU0oL48hNL8Ta0bze69uetJ0Q5xBsTGzqva6mZnzweHJLc1l+ajk2JjaMDhht6JAEocHLz8+veN2sWTMKC/8d2DB9+vSKMfX6YLAWvYm5OcjFnN13vN7rSs5P5kLWhXt6NmxdSJLElE5T6N+iP3OOzGH1udWGDkkQhBowWKI3syzf9i72yNF6r2t74nYAkejrQCEpmNF9Bj3de/Lh/g/ZcHmDoUMSBKGaDJboFUZGGJs300s//Y7EHXhbe+Nl7VXvdTVlKoWK2T1n075Ze6bumiq2LxSERsKgSyA4e/tSWpBAflZ+1SfXUn5pPodSDonWvI6YGpkyt/dcWtu1ZtL2SUSnRBs6JEEQqmDQRN+ifSig4dTOw/VWx54reyjTlolEr0NWxlZ82/dbXC1cmRA1gTMZZwwdkiAId2HQRO/XsyOgIPbIkXqrY0fiDmxMbAhy0s94/XuFvak9i/ouwtLYkrGRY4nLiTN0SIIgVMKgE6bMrS0wsfQgvZ766cu0ZexK3sUDzR/ASHFP7rFSr1wtXVnUdxHPb3yeMVvG8MNDP9yyPaFGqyGvNI/c0tzyR0nuv6//+/P11/6O/rzX9T0DfitB0A1LS0v27dvH8OHDAUhISMDGxgYbGxscHR2JjIzUWywGz37O3n4knvyH3IxMrB3sdVr2sbRjZJdki9mw9cjHxocFfRYwatMonl7/NA5mDhVJO19993svxgpjrE2ssTYuf2hkDb+e/5UxgWPEfrZCkxAQEEBMTAwAzz//PAMGDGDIkCF6j8Pgib5lh1AST/7Dqe0H6Pr4Qzote0fiDowURnR3667TcoVb+Tr48k2fb1gQswCVUkUr21ZYG1tjY2JTnsRvSuY3/2xqZHpLOQm5CfRf05/NcZt5zu85A30bQWh6DJ7o23UPYvv3JsQePaLzRL89aTsdm3XE0lh/K2Teq0KcQ1gUsahOZXhae9LOvh2b4jeJRC8IOlRlopckaSkwAEiVZfm2naMlSXoUmAFogTLgVVmWd1c3AHNrU0wtfUhPOIMsyzpbNCs+N57LOZd5su2TOilP0I8I7wjmHJnD1fyruFq6GjocoQnYtfo86Ym6HcLt6GFJj6FtdFpmfarOqJvlwIN3OR4FBMmyHAyMBBbXNAgnH1/KSrLJvJJc049WSsyGbZz6efUDYHP8ZgNHIghNR5UtelmWd0qS5H2X4zdfKi2AGi9v2Co0lMTjf3Bm9wHuf1I3q7jtSNpBa7vWNLdsrpPyBP3wsPagnX07NsdtZoTfCEOHIzQBjanlXV90Mo5ekqTBkiSdBdZT3qqvkZahrZEU1lw+qpvx9DklORxJOUKYe5hOyhP0K8I7guPpx7mSf8XQoQhCk6CTRC/L8hpZlu8DBlHeX39HkiSNkSTpsCRJh9PS0iret3Y0w9jCh/TEs2g1dd/JaHfybjSyRgyrbKRudN9sid9i4EgEofZuXqYYYPny5QYZWgk6nhkry/JOoIUkSY6VHF8ky3IHWZY7ODk5VbwvSRLO3n5oy0q4eul8nePYkbgDe1N7AhwD6lyWoH8e1h74OviyKW6ToUMRhCahzolekqRW0vWhMpIktQdMgIyaltMytD0AFw7Ubd0btVbN7uTd9HTviUIy6AoPQh1EeEVwIv0Eyfm6u0EvCPeqKjOhJEm/APuAtpIkJUmSNEqSpLGSJI29fsrjwElJkmKA+cCTci32m/MKcEdSOnP5aN3Wpz+ScoQ8dZ7otmnkIrwjANgSJ7pvBKGuqjPqZlgVx2cBs+oaiL2bBSozH7KuHKa0uAhjU7NalbM9cTvGCmO6unata0iCAXlYeeDn4MemuE087/+8ocMRhEatwfRtKBQSzt6+yLKGpNMna1WGLMtsT9xOZ9fOmKvqfx9aoX5FeEdwMuOk6L4RhDpqMIkewCckEFDWetni2JxYkvKTxCSpJiLCq7z7ZnOcmDwlCHVhsESfV5p323vu9zmhMHKv9Xj6G7Nhe7qL/vmmwN3KHX8HfzH6RmiUlEolwcHBFY+ZM2cCsG7dOkJCQggKCsLX15eFCxfWeywGW9QsMS+R9bHr6d+if8V7zl5WKE08yU3fRX5WJpZ2NVu2eHvidtrZt6OZRTNdhysYSIR3BF9Ef0FSXhLuVrqZNS0I+mBmZlaxRPENarWaMWPGcPDgQdzd3SkpKSEuLq7eYzFYi95cZc7U3VPZcHlDxXtGKiVOXn4AJJyIqeyjd5RZnMmxtGP08uil0zgFw7ox+kasfSM0BXl5eZSVleHg4ACAiYkJbdu2rfd6DZboPa08CXEO4e1db7MxbmPF+14BbUEy43JMzbpvdiXtQkYWwyqbmOaWzQlwDBDdN0KjU1RUdEvXzapVq7C3t+eRRx7By8uLYcOGsWLFCrRabb3HYrCuG4Wk4JvwbxgXOY4pO6egQEGEdwRure1QGHkSdzymRssWb0/cjrO5M+3s29Vz5IK+RXhF8Hn05yTmJeJh5WHocIRGZtvyRaTGx+q0TGevFvR6fsxdz7lT1w3A4sWLOXHiBJGRkcyePZstW7awfPlyncb3XwYddWOuMuebPt8Q6BTIWzvfYkv8Flxa2KAw9qQ4L5uMpIRqlVOqKWXvlb2EuYfpbD17oeGo6L4Ro2+EJiIgIIDXXnuNLVu28Pvvv9d7fQbfYcpCZcGCPgsYu2Usb+14i9k9Z+PQ/D5Szm8h/ngMjh5eVZZx6NohCssKRbdNE+Vm6VbRfTMqYJShwxEamapa3vqUn5/P4cOHCQsLAyAmJgYvr6pzXF01iHH0N5K9r6Mvb+x4A8lDhaS0I/5E9ZZD2Ja4DTMjMzq7dq7nSAVD6efdjzOZZ0jMTTR0KIJQLf/to58yZQqyLPPpp5/Stm1bgoODmTZtWr1320ADaNHfYGlsybd9vuXFLS/yx7mf6GHkSeKpE2jK1CiNVJV+TpZldiTtoKtrV0yUJnqMWNCnvl59mX14NpviNzE6YLShwxGEKmkqWXL9n3/+0XMkDaRFf4OVsRXf9v0WSw8FCiNPykpLuHrh3F0/cy7rHNcKronZsE2cm6UbgY6Bop9eEGqhQSV6AGtja+Y++gVqKztkYNeev+96/vbE7UhI9HDvoZ8ABYOJ8I7gTOYZEnKrd5O+tk6mnySlIKVe6xAEfWpwiR7Kk/19/m2QVM4cP7Sd3cm7Kz13R+IOApwCcDS7414nDV5xfj656amGDqNRqFj7ph4nT228vJFh64fR57c+PPj7g0zZNYVVZ1dxLvMcGm3ddz8TBENoMH30/+XV1okLu31wyE7ljU2v8kW/r+nWvNst56QWpnIy4yQvh7xsoChrr7S4iCPr/+LQ2j+QJIlRcxdjZmllsHgykhOxc3VDoVAaLIaquFq6EugUyKa4+umnTytM48MDH+Lv4M/DLR7maOpRDl49yPrY9QBYqiwJcg4ixCmEEOcQ/B39xSqpDVhN5uE0RLXY1qNSDTbRu7ayQWnkhYYDBBR58PK2l5nbey5d3crXmS9LT2d3QvlsycbUP68pU3M8ciP7/1hFYU423kHtiTt+lMNr/6DHsBEGienK+bP88u4b9Hx2JB0GPmaQGKqrn1c/Pjv8GfG58XhZ625YmizLTNs7jZKyEj7u8TE+Nj4M9x2OLMsk5ScRkxrD0dSjHE09yrzkeQAYSUa0tW9LiHNIxcPJ3KmKmgR9MDU1JSMjAwcHh0aZ7GVZJiMjA1NTU52U12ATvb2LBabWHpQVGTNI1YMM611M3DqReeHz6GDShtjBg/EszaXjs060sm1l6HCrpNVqOLtnJ3tX/0ROagruvv48+sY7uLW5j3VfzeLohrWE9h+EubWNXuOSZZndv3wPwJGNa2n/8KMolA23VR/hHcFnhz9jc9xmXgh8QWfl/nHhD3Yl72JKpyn42PhUvC9JEh5WHnhYeTCw5UAAckpyOJZ2rCL5/3r+V3468xNQvmRDiHMInV07079Ff1SKykeMCfXH3d2dpKQk0tLSDB1KrZmamuLurpuF/CRd/nlQEx06dJAPH777/rDrvznO5cNLMbcuYtDMTxi1aRRJuYks3dYao0OnyDQtw0qtpMW8b7G8v7ueIq8ZWZaJPXKI3St/ID0hDifvFjwwbAReQe0rWhoZyYl8//p42vd/lLDh+p0QFHfsCL9//B7ewaHExUTzyOtTad2pW9UfNKBn/3mW4rJifnvkN52Ul5SXxON/P46/oz/fRXxX472G1Ro1ZzLPVLT4j6YeJbM4Ex8bHyZ3nEz35g3z36bQOEmSFC3LcoeafKZB3oy9wbWlDRptc7KuJmOUX8biiMU8dtoSo70xnBkaytsjFCjcXEgcO5bsP9YYOtzbJJ09xcppk/nz0w8oKymh/8tvMvyTr/AODr3lz0mH5h60u78nxzatJz8rU2/xyVotu1f+gLWTM49MehtrJ2eOblirt/prq593P85lnSMuJ67OZWllLe/ueRdJkpjRfUatNpRXKeyxK4kAACAASURBVFUEOgUywm8EX/X6iu1DtzOv9zw0Wg1jI8cyMWpivY8UEoS7adCJ3q21LQpVeT9s/IkYLK/mMGhDNudbmzPd4xBqeyta/7Iai04duTp1Kmnz5+v0BkZtpcVfZs2s91k1bTI5KVfpM/olnv9iAfd174mkuPOvvMuQYWg0ZRz881e9xXn+wF5SYi/S7YlnUJmYEhzRn8TTJ0iLv6y3GGqjr1dfQDejb346/ROHUw4zueNk3Czd6lwelHf39PToyZpH1/Bq+1c5eO0gg/4axFfRX1GoLtRJHYJQEw060Tt5WGFk4oTK1Ir4mCNceeNNlKZmdJm3gvscfBnQYgAmNnZ4fPstNo8+SvrceVx9911ktdog8WanXOOfubP5YfLLJJ87zf3DRjDq6+8I6vswSqO73w6xc3HDr2cfjkduIDe9/vsVtRoNe1b/hIO7J+16hAHg3zsCI2MTjm5s2K16FwsXgp2C67x0cWx2LHOOzCHMPYxBrQbpKLp/GSuNGRUwinWD1/GQz0MsObmEAWsGsPbS2gbRIBHuHQ060StVClx8bFCZ+RB3+ABFp0/jMuMDmnndx+qBq5naeSoAkrExrjM/wWHcWHJ++53El8ajLSjQW5wF2VlELV3AstfGcuHgPjo98jijv15C50FPoDKp/l3zro8/hSzDgTWr6jHacqd2RJF1JYnuTw2vGFJpZmmFb49enNm1naK83HqPoS76effjfNZ5LufU7q8PtVbN1N1TMVeZM63btHodmeFk7sRH93/ETw//RDPzZkzdPZXhG4ZzKv1UvdUpCDdr0IkeyodZqkvdKClTIw98COu+fSuO3fw/pyRJOL/yCi4fvE/B3r3ED3+Osnq84y7LMhlJCexe+QOLXx7NsS0bCOjdl1FzFtHj6ecxtbSscZnWTs4E9I7g5LYt5KReq4eoy5WVlrL3t59xbdWWVh263HIs5MEBlKlLObG1YS810MerD1D7pYsXn1jMqYxTvNvlXb1NtgtyCmJF/xV80O0DkvKSGLZ+GO/teY/0onS91C/cuxp8om/mZozCyBOAgs4dqzzfbuhQPL6ZT8nly8Q9+RQlly7pJI4biT1m03rWfjmTBWOeZfnrL3FgzWpahnbmf18soM/o8VjaO9Spns6PDUVSKNj3+0qdxH0nx7b8Q35GOvcPe+62lqyjpzee/oHEbF6PtpJFmRoCFwsXQpxD2BRf8+6bUxmnWHRsEQ/7PFyx1r2+KCQFg1sPZt3gdYzwG8HaS2sZuGYg35/6HrXGMF2OQtPXoBO9LMtIP89Dkswxs3Ak4dzpan3OsmdPvH74AW1JCXFPP0NhFcM4K6v7Tok9aukCrlw4i09QeyLGvszouYsZ8Mpb2Lk2r3Edd2Jl70hQn4c4vXMrWVeTdVLmzUqLCjmwZjWeAcF4+gfd8ZyQBx8hLz2NS4cP6Lx+Xern3Y8LWReIzan+7kElmhL+b9f/YW9qX9H1ZwiWxpa83uF1/nj0D4Kdg5l9eDaP/f3YXZf7EITaarATpgBy166laMPf2D7YkyLT1iSfiaastBQjY+MqP2sW4I/3qpUkvjCGhJGjcPt0FtYPPljp+bIsk5mcSOKpEySeLn8U5eYAYOngiE9Qe9z9AvDwDcTGuVm99ul2GvQEx6M2se+3X3h44hs6Lfvwuj8pysulx1PPVXpOi9COWDs148jGv2ndueGOqe/j2YeZB2eyOW4zY4PGVuszc4/M5VLOJb7t8y02JvqdnHYnPjY+LOizgJ1JO/n00KeMixxHmHsYb3Z8E09rT0OHJzQRDTbRlyYlc+2DGZi1b49H55ac2H6NMnUpyedO4xUQXK0yjN3d8fp5BUnjJ5D86muop1zD4fnnK45nXU0m/njMbYndysFJr4n9vyxs7Qju15/D69bQefBQHNwr/x9ek5tL7j//oMnJxcjJCSNn5+vPTihtbW+JuzA3h8Pr1tC6czdcWrWptEyFQklwv/7s/GkpqXGxOHu30On305VmFs1o79yeTXGbqpXoD187zA+nf2Bom6ENbhLTA+4P0MW1Cz+d+YmFxxYy6K9BPOf7HGMCx4j1dIQ6a5CJXtZouDJ5Msgybp/OQn1NxfHtbkgKJQknYqqd6AGM7OzwXLqEK29NJnXmLNRXruD4+iT2/bGKg3/9BrJs8MR+Jx0feZxjWzaw99efGfjalFuOybJM8cmTZK1cSe76f5CLi+9YhqRSoXRyROXkjJGzE8c0RZQVFxFo50L+rl0VFwalre1t4/sDekWw99cVHN24jn5jG+6icRHeEcw8OJPY7Fha2FZ+QSpQF/DOnndobtmc1zu8rscIq89YacxI/5EMbDGQr458xZKTS9hweQNTOk2hl2cvQ4cnNGINMtFnfPcdRdHRuM2aibG7O26WJUiSMTbOPsSfiKGmK88rTE1p/tWXpM6aRcLKX/jnVDRZZSX494qg8+ChDSKx/5e5tQ3tH3qEA2tWVbSqtQUF5KxfT/bKVRSfPo1kbo7NwIHYPvUkJi1aUJaWVv5ITb3tdVbcZc6byTTPyqNo1mfcsiGfkREqFxdcpk3Dssf9AJhaWuLboxend2ylx9Mj9L4GT3X19erLrIOz2BS/iXG24yo9b/bh2VzJv8LyB5c3+BbyjeGYj7V+jA/3f8jL214mzD2MKZ2n0NxSN/eChHtLg0v0RSdOkDZvPtYPP4z1I48AYGFrgrWjKXKZNymXoyjKy8XMyrpmBUsS1zoEsef4fhTFhXRRWdL5yeEY2dnVw7fQjQ4DBhOzaR27ly2km9KCnL/+RltQgEmbNjR7711sBg5EafXv0sbGnp4Ye965m2fTt18j7dpKv+UrMJclylJvuiCkppK3dSvJkybh8+tqjL29AQh5cCDHIzdyYutmOg96Qh9fucaczZ0JcQ5hc9xmxgXdOdHvStrFb+d/439+/6N9s/Z6jrD2QpuFsnrgalacXsE3x75h0J+DeDHoRUb4jkClFIulCdVX5agbSZKWSpKUKknSyUqOPyNJ0nFJkk5IkrRXkqQ7D+WoBm1BAVfeeBMjJydcpt86icW1lS3FhS4gyyScPF6jcgtzsvnzsxlELv4Gd/9AnnhmNA6nzxM/7Gkyli0n5++/yd+1m+LTp1GnpCCXltb2K+iMtriYkqgoWhaVcfnsKeLW/Y1Vnz54/fwzPn/9if3TT9+S5O8m80oSp7ZHEtT3YWybe2Ds7o55+xCsH+yH/fBncX59Ep6LFiIplSRNnFgx2czRwwtP/6AGP9Syn3c/LmZf5FL27UNpc0pymLZ3Gq1sWzE+ZLwBoqsblULF8/7P8/egv7m/+f3MOTKHx9c+zsGrBw0dmtCIVKdFvxyYB/xQyfHLQE9ZlrMkSXoIWAR0rk0wKTNnUpqQgOf3y1Fa39pid2tly9l9jqhMzYg/cZS2Xe+vVpmxRw+xacEcSgoL6DXiBUIeHIikUGDj5U3Sq6+SOmvWHT+nsLbGyN4epYPD9Wf78md7B4wcbn62R2ljg6SjpX1LYi+TvWoV2X/+iTYnBx9vby45mpE0IIIu731cqzL3rPoJI2NjOg8eWuk5qubNaf7F5ySMfoEr77xD8y++QJIkQh56hL8+m8HFQ/to06V6v3N96+vVt2L0zbjgW1v1Hx34iKziLOaHz2/Um8e7WLjwZa8v2Zm0k08OfMKozaPo36I/b3R4o9HuriboT5WJXpblnZIked/l+N6bftwP1GoB5dwtW8j+9TccXhiNRadOtx13bWWDJCmwc2tDwomYKstTl5aw86elxGxaj6OnN0Pe+RAnT++K4+ahobTeuRNtfj6ajAzKMjMpy8hAk5FJWWYGmswsNJkZlGVkUhp3mbLoaDRZWXCnNUoUCpQ2NuVJ384WI7vrFwB7O4zs7FDa3fTavvyY4qYhonJpKXlbt5K1chWF+/eDkRFWfftg9+RTmHfuRM5fv7H7l++5cv4Mbm3a1ej3mhJ7kfP7d9Pl8WGY29je9VyLbt1wnvQaqbM/J9M/AIdRI2nRvgM2zs04unFdg030TuZOtG/Wns3xtyb6TXGb2HB5A+ODx9POoWa/t4bqAfcH6OTSicUnFrP05FJ2Ju5kYvuJDG0zFGUD3h1MMCxd99GPAjbU9EPqlFSuvfsepr6+OE2ceMdzbJuZY2qpQmXqQ2rsMbKvXcXWxfWO56bGxbL+68/ITE4ktP+j3P/UiDuOvZckCaWVFUorq4p+6buRNRo02dnlF4SbLwxZmWiysq5fHDIpuRyLJjoaTXY2aLV3LEthYYHyeuJXX7mCJj0dlZsbTq+9hu1jgzFy+nenopAHBxC9/k/2rPqJJ979qMo4b7brl+8xtbKmw4DB1TrfftQoik6cJPXzzzH188WiSxeC+w1gx49LGvRQy37e/fh4/8dErfsJUvMoKM4nKnYLA5UtcUlPZ83G99GUlaEpU5c/q9Voy8pufe/6+8gyrTp2ocPAxxrk9zU1MmVCyAT6t+jPRwc+4uMDH/PnxT95t8u7+Dv6Gzo8oQHSWaKXJKkX5Ym+0mafJEljgDEAntdvGspaLVenTkVbXIzb7M+QKpkMJUkSri1tSI1zASD+xNHbEr2s1XJ43Rp2r/wRc2trhvzfh3gFVn8oZlUkpRIjBweMHKq3zIGs0aDJzb1+EcikLDOz/GKQnfXv66wsVO3bYzvkcSy6d79jF5CxqRmdHh3Cjh+XkHj6BB6+AdWqP/HUceKPH6XnsyMxMa/eSBNJknD96CNKLl0k+bVJ+Pz+G/69+rJn9U8c3biWfmNfqVY5+tbHI5zIZQuIiVuJiYUFBXIx9rKSZlZ25Fy9isLICKWREUqVCmNTM5SWViiNVLe8r7z+urSoiLN7dnJm93a8AkPoOPBxPAOCGtzILB8bH77r+x0b4zby6aFPeXr90wxtO5SJIRMbxGQwoeGo1g5T17tu1smyfMfmgiRJgcAa4CFZls9Xp+IbO0xl/vADKR9/gsv0adg99dRdP3N0SwJ7fruASvoR1zZteGTSv1PYc9PT2Dj/CxJPn6B1p270HTOh5iNzGjB1aQlLXn4B22auPDl9ZpVJR5Zlfnn3DfIy0hk5ZxEq45r1T5dcvkzcE0Mx9vLC6+cVbP1xMSe3RzLmm+UNbqilVqth88K5nNoeSVJbiR7P/o9p+6bxVse3GO47vFZlFufnc2zLPxzduJaC7CycvFvQceBjtOlyf5VLThtCXmke82Pm88vZX7A1seWNDm8woMWABndxEurOIDtMSZLkCfwBDK9ukr+h+Nx5Umd/jmWvXtg++WSV57u1Kp/pae9+H4knj6PVlo8EObt3Jz+8NYFrsRfpN/YVBk56u0kleQCVsQmdBz1B8tlTxFfjHsWl6INcvXCOrkOG1TjJA5j4+OD26SyKT53i2vsfENxvABq1mhNRdVsDXtfK1GrWf/Upp7ZHYhUWQGSLOD4++DEdXTryTLtnal2uqaUlnQcPZfS8pUS8+DKa0lL+mTubJa+8QPT6vygtLtLht6g7K2MrpnSawsr+K3G3dGfq7qmM3DRS7GwlANVo0UuS9AsQBjgCKcA0QAUgy/K3kiQtBh4H4q9/pKw6V5sOoaHyarfmlGVm0uLvv6rVHaLRaFn82k6aeV7j0qGfGPJ/H3J6ZxSnd23DtXVbHp7wRqX99k1BmVrN0lfGYGlnz7APZ1faWtNqNfz41stoysp4/vNv6rTZd9rXc0n/5htcpk8j8uJJMq8kMfrrxQ2iVasuKebvzz8m7tgRwp57Aa/e3em9ujfmKnN+f+R3nU4ukrVaYo8e4tDff5B89hQmFhYE9X2Y9g89goVtw5qLoZW1/H7hd76M/hITpQlL+i2hhU3Du9cg1E5tWvQG2xw8yN1dXmlphcfCb7Hs2bPan/vzy6MU5eZw5fRsFEolsizT5bGn6PLYk3VKaI3F8ciNbPluHoMnT6NF+zsv23x61zY2zPucAa9Opm3Xms4jvpWs1ZI4bhwFe/chv/s2G35fwYBXp1R7eGt9KSksYM2s97ly7ix9X5xAQK/y5YaXnVyGj40PYR5h9Vb3lfNnObz2Dy4c2odSqcT3gd6EDhiMQ3OPequzNi5lX2LkppEoJIVI9k1Io0r0/qZmcuT//R8u775To88dWBtL9D9x2DltoiA7g4cnvF7jIYeNmaasjGWvvYiJhSXPfvLVba16TZmaZa+NxcTckmc/+bLSPWprVGdODpefGIq2qIidgS2xdHTiqfc/rXO5tVWYm8PvH79HekI8D098w2AXnayryUSv/5NT26MoU5fSskNnOgx8jOZtfRtM3/jNyX5pv6X42PgYOiShjgzSR19bkqkJzm/WfAlet5a2yDJ0GfIqI79aeE8leQClkRFdHh9G6uVLXDy077bjx6M2kZOaUr6piA6SPIDSxgb3uXPR5ufjlZlH8tnTpFzWzYYuNZWXmc6qaZPJTEpk0JvvGPQvCzvX5vQZPZ4X5i+ly+PDSD53hlXTJvPLu29wsYGs5d/StiVLIpaglbWM2jSq1lsvCo2bwRK9SYsWKEyrv5/qDc1aWCMpJFLjiir2Or3X+PbohZ1rc/auXoF80zh9dXEx+39fiXs7f7yDdLumi2nbNrh+OINmx85gpFAYZAPx7GtXWfneZPKzMnh86gf4hNSoUVNvzG1s6T70GcbMX0rvkWMpzM3hr89msHvljw1iE/BWdq1YErEEjawRyf4eZbgdpmrZ2jQ2NcLR3ZKrF7N1HFDjoVAq6TpkGOmJ8Zzb/++OREc2/E1hTjb3DxtRL10HNv370+y553BLzeLszm0UXl+/Xx/SE+JYOX0ypcVFDH3vE9x9G97EIJWJKSH9BjDyy4UEhPfjwJpVRC6eXzE6zJD+m+zjcuIMHZKgRw16K8HKuLWyJeVyLpqyO886vRe07dYDB3dP9v36M1qthuL8fA6t/Z0WoZ1o3rb+urOc33id+1w90Wg1HPnlx3qr52ZXL55j1ftvIwFPTZ9Jsxat9FJvbSmUSvq+MIFOjw7heORG1s/5jDK14feDbWXXisURi0Wyvwc1ykTv2sqGMrWWtIQ8Q4diMAqFkm5PPE3mlSTO7t7Bob9/o6SwkPvvskWgLkhGRrSb8zVOJRqObdlASXpavdaXeOo4v854BxMLC5764NO77rYll5WR+sWXpM2bj/ratXqNqyqSJNHj6efp+exIzu/fzZ+fftAgxt63tmvN4ojFqLVqRm0aRXxufNUfEhq9RproyxfnunpRf10HDVHrTt1w8vJhz+qfOLJhLe2697xl4bb6YuTgQMfn/kexUuLwpFeR62kJ40vRB/n9k2lYOzrx1PRZ2Di7VHqutrSU5NdeI2PRItLnzeNi73ASXxpP/o4d9RZfdXQY+Bj9xr5Cwolj/DbjHYrycg0Wyw2t7VqzpN8S1Fo1IzeOFMn+HtAoE725tTF2Luac2pVMftadt9G7F0gKBd2GPktuWipaTRndnqj9TNCaum/QEKwsrDiXeY20r+bovPyze3bw9+cf4ejhzdBpn2BpX/mEOm1hIUnjXiJvSyTNpk6lZeQWHEaPpuj4cRJfHMulvhGkf/st6tRUncdZHf69+jLw9bdJjY9l1fQp5GWmGySOm7W2a83ifuUt+5GbRLJv6hplogcIe/Y+CvNK+eOzI2SnFho6HINpGdqJlh060+nRIXqdFSwpFIQ+/hRZFmbE/vQ9uZs266zs45EbWT93Nm5t2vHEux/ddW0dTV4eCS+MoWDfPlw/+gj754Zj7O6O86TXaL01iuZffYnKy5O0r+ZwsXc4SRNfJn/PnltGK+lD645defzt98nLSGPle2+ReSVZr/XfSRu7NuXJXqMWyyU0cQabMHVjUbO6SI3PZe3cY0gKiUdfCcahuaWOohOqo6SwgIVjR+BWUkbAhUS8V6/CpFXdbpQeWvsHO39aik9IBwZOevuu6/SUZWWROGo0xefP03z2Z1g/+GCl55bGxZG1+ldy/vgDTXY2Kg8PbIc+ge1jj1V7NdLq0hYXo8nIACMVkrEKhbFx+aqsRkakXr7E759MA+Dxt99vEDeWz2WeY/Tm0RgrjVnWbxme1pXfBxEMr1HNjNVFogfIvFrA33NiKCvVMGBCEC4tGtbKik1d1NIFHI/cRJ/EDMzNLXBfsACTFjWbfZmTeo344zFcOnKQ2OiDtO3ag4cmTEJpVPm+qOqUVBJGjUSdmIT713OqvYyGtrSUvM1byF65ksLDh0GlwrpvH2yHPol5507VGpYqazSUpaRQmpSEOjEJdXLSv6+TkihLq+QGtSQhGRtTYGHGAVc71AqJzoVanBUqpOsXg5sfJq1aYf/8CL3sa3wj2ZsoTVjab6lI9g3YPZnoAXLTi/hrTgyFuaU8PC4Aj/vsdVKuULWM5ESWTxpHpx69cf5xNXJREY4TJuDwv+eRVHdO1CWFBSScOk788Rjijx8h+9pVACwdHPF7oDfdhj5z18lwpUlJJPxvJJqMDNwXLMCi8+07klVHyaVLZK9eTfaaP9Hm5mLs7Y3t0KHYDB6EJEmUJiWjTkpEnZRE6fUkXpqUiPrKVbh5uKRCgcrFBZW7Oyp3d4w93DFyckIu0yCXliKrS5FLS9GWlj/LpWoK8vPYmniefHUp3WyccJVUFcfk0lLkkhJKLl5EYW6Ow6iR2D/3HAoLi1p9z+q6Odkv67cMD+uGtXaPUO6eTfQABTkl/D0nhuzUQvqN9qdFsFPVHxJ04reP3iUjMZ7np88i7ZNZ5G3ahEm7drh99CGmvr5oNRquXjxP/PGjxB8/ytWL55C1WlQmpnj4BeAVGIJXYAj2bu5VtqhLYmNJ+N9ItMXFeH63CLPAwDrHry0uJnfjRrJXrabo6NE7nqO0tS1P5B7uGLu7o3L3QOXeHGMPD1QuLpVumHM3RXm5rJn5PtdiLxDx4sv4h/W55XjJhQukzplDfmQUSgcHHMeOxfbJobdsQ6lruk72aq2a/NJ81Fo1ZdqyiseNnyvel8tuOf7fYzbGNvg5+uFm4dZg1hEylHs60QMUF6hZO/cYaQl5hI9oR9vOlQ/Hayhy0orIulaAibkKUwsjTC1UmJgboVA2nvvksUcOsWbW+/R/5S3u6/YAuZs3c+njj0jRlJLrdx+pJQWUFBaCJOHSohVege3xDgzBtU3bu3bP/Ffx6dMkjH4BFAo8lyzBtG0bnX+X4nPnydu8GYWlJcYe7hWtdKVl/dz/KS0u4u/PP67YCazDwMduO6coJobUL76k8OBBVG5uOL48EZuBA3W2If1/ncs8x6jNozAzMmNpxNJbkr1W1pJXmkdGcQaZRZlkFt/9kVOi2yHQdiZ2+Dr64u/gj5+DH36OfjibO+u0jobunk/0AKXFZfyz4ATJ57J44Kk2BITVaq/yelWUV8rF6FTOH7zGtdg7j6s2NjOqSPymFipMrj+bWhjd9PrGMSMsbU0wMjbM2j+yVsvSV19EZWKCa5v7iD8RQ05K+YQls1I1zihpO+RJWj0yuNYbwhQePUrimBdRWFriuXQJJj5NZxXGMrWaDfM+5/z+3XR6dMgdl7CQZZmCPXtJ+/JLik+dwqR1K5xeeQXL8PB6aeHeSPbGCmNa2rasSNxZxVlo5DvPS7A1scXe1B57U3vsTO2wN7XHwdQBaxNrVAoVKoUKI4VRxeOWn6U7vHfTz2lFaZxKP8WpjFOcTD/JpexLFXE4mzn/m/wd/fBz8MPOtGHtEaBLItFfV6bWsOm7U8QdT6fLoBa07+dl8D/31CUaLh9P4/yBFBJPZ6LVyjg0t6BNJxfcWttSUlRGSYGa4gI1xQVlFBeo//05X01xYfnxksKyO1cggaWdCbbO5tg2M694tnE2w9rBtN7/Qji6cS1bly3E2MwMD79AvAJD8A4MQRUbx7X3pqFOTsbu6WE4TZpU49Zxwb59JI6fgJGTI17LlqFyc6unb2E4Wq2GqCULOB65kYDwfvQZ/dId71PIskzeps2kffUVpXFxmAYF4vzaJCy6dNZ5TGczzzJj/wwkJOxM7XAwdahI5Pam9tib2WNnYoeDmQO2JrYYKfS3GU1RWRHnMs9xMv1kRfKPy42rON7csnlFi9/fwZ92Du2wMrbSW3z1SST6m2g0WrZ+f4bzB1MIifCk6+CWek/2Wo2WxLNZnD94jdiYdMpKNFjamdCmUzPadHKp1XBQrVampFBNyfWLQXGBmuK8UvKySshOLSQ7pYjslEJKi/69ICiUEtaOZtcvAGYVFwIbZ3MsbI118nuRtVrSkxKwd3O/bfcpbWEhaXPmkPnDjxi5uOA6fVq1R8nkbd1K8iuvYuzjg+eSxRg5Nd17L7Iss2fVTxxYs4rWnbvx8MQ3MarkhrZcVkbOn3+SNm8+ZdeuYdG9O06vvYaZv5+eo2448kvzOZ1xmlMZ/7b8k/P/na/Q0qYlwc7BhDiHEOwcjKeVp8EbgLUhEv1/yFqZnSvPc3JnMr493Og5rC0KRf3+h5VlmdS4PM4fvMaFwykU5akxMTeiZXtn2nRqVr7vrS5jyEuBHx4F1yAY/C1IErIsU5yvJjulsCL556Ref51ahEb972QhIxMlts5m2DUzJ6SfF04e9dfqKYqJ4co771B68RLWjwyk2dtv33XoYM669VyZPBlTPz88Fy1EaWtbb7E1JNHr/2T7D4txcPekdefu+AS3x6VVmzu28LXFxWT9/AsZixahyc7Gql8/nF55pcZDXJuq7OLsiqQfkxbDsbRj5JWWr5Flb2pPsFNwRfL3dfDFWFl/N7p1RST6O5Blmf1/xXJkYzytOzgT/j9flPXQjZGdWsj5gymcP3iNnNQilEYKvAMcaNPZBS8/B5Sqeug6KcqG5f0h5RQgw+NLIGDIXT8ia2Xys0vKLwLXLwQ5qUWkXM6lTK0hfIQvrULr7+aWtrSUjG8Xkr5oEUpra1ze+T+sHnrotpZV1urVXJs2HfMOHXBfsAClZf0OLWxoyeauggAAIABJREFUzu3bTfQ/f3LtwnlkWYuphSWegSH4BLXHOzgUS7tbhxBr8vPJXLqMjOXLkUtKsBk8CKfx41G5Nt09lGtDK2uJzY7laNpRYlJjiEmNISGvfEawSqHCz8GPEOcQgpyDCHYKxsFMt5PpdEEk+rs4simefWsu4RXgwIMv+Nf5xqW6REPWtQKuXszh/KEUUuNyQYLmbexo06kZLds7Y2JWj32WpYXw42BIjoZhv8D2mZB5CV46AFbNalxcQU4JGxee4FpsLh36e9Opv49u//L4j+Jz57n6zjsUnziBZe/euEx7D1Wz8rgzli0nddYsLB7ogfvXX9dqg5qmoig/j4QTMVyOiSbu2BEKsjIBcPLywTs4FJ+g9ri1bVcxeqksI4P0hQvJ/mUlSBK2Tz2Jw+jRqJzvrZEpNZFelM6xtGPEpMZwNPUopzNOo9aWz5PwsvYiyCmIEOcQAhwDsDK2uuUm8Y1npaTUWzeQSPRVOLkzmR2/nMOtlS39XwrEuBqJWKPRkp1SSOaVAjKS88ufrxSQm14E1391jh6WtOnoQuuOzbC0q3zKvs6UlcLKp+FSFAxZBn6DIO08fHs/tOoDT62AWvyj06i1bP/5LGf3XaNFsBPhz7fD2LT+LlayRkPmDz+SNmcOkpERzm++SVlqKunz52P14IM0//T/2zvv+DiKs/F/54q6ZNlq7pZ7t3AFE5teHcAGjIEAptqhJoGQBF7eAG/y5vcmgTSSEAcMhhASmrHpHRyDC+6WJTfJtiRkSZZVbPVrO78/Zk86tdPd6VQs5vv53Gd3Z3dmZ/dmn5l55plnfhOSfXpfRUpJWUGeEvq7tnP0wF4Mjwd7VDTDp2Qw8rQZpGfMpF9qGq5vCjn++H2c3HQQYbeTuGSJEvhpWuB3hMPjYG/5XnaW7mRn6U52l+6m0lHZYbyWwt+77xseHxHPhAETmJQ0iclJkxmeMByLCK63rwV9ABzcWsJnq/aRPCyOy+7LIDpOCRJpSKrKG6goqqG8qLZRsJ84VofhUe9IWASJqdEMGBxH0pBYkgbHkTQ0jn4p0d33AIYHVt8B2W/C5U/BzJubzm14Cj75OVz1LExbElLyUkoyPy9kwxs5DBgcy4K7ppGQ3LXP5ywooPjnj1L3tVpntd9VVzHol7/oMjvxvoKzvo6CrEzydm/nyK7tVB1X3jkHDB5Ker86Rtb8h7QIC5XOhZz84FOE1aoE/rI7GntPmo6RUpJflc++in00uBtwGa5WE758J4T5C6toqOBg5UEcHgcAcfY4JiZNZHLS5EbhPyx+mN/egRb0AZKXWcaHz2SRkBzFwFH9lGAvrsXtaLIPjk+KImlwLAMGxzFgcCxJQ+LonxbTNbr2QJES3nsAtj0PF/4CvvPD5ucNDzx/CZQdhLs3Q0Lo+tmCveV8vDIbYRFcsnwKQ8Z1rV2ylJKTa9biqShnwG23hbawuWHA2/eBLQLm/xj69b45FF2FlJLK4qPk7drOkc9fo7CwAre0MiimloWzI7AvWEHZyuc4ufYthMVC4uLFJC1fhn1g759U2NdwGS4OnzjcaCG0t3wv+yv2N6qL4u3xTEqaxKTkSY3Cf2hc06xxLeiD4OiBSj58NgshaNZCHzA4lgGDYgNS63Q7n/0CvvwdzLsfLni87WvKcmHFd2DUOXD9KyGpcLycOFbHe09nUnW8nvnXjWPKWUNCTqtb2P4ivPMDEBaw2GDmLUrgx3+LhNmGP8Enj+KaegMHk6/m02eeIkbUctXCmSRd8xuchYWU//3vnFizFiEEidcsJmnZMj1o28O4PC5yT+Q2E/4HKg/gNpSZdEJEQqPQv3/W/VrQB4M0ZJcOOIYVr1pm5i1w2R/9C/BNT8NHD8OiFXDa9Z26raPezccrsyjIrmDK2UOYt2Rsl1gtdZqaUvjLLEibCouehi+fhJ0vg9UOs++A7/wI4vquDT6genrv3g+Tr1QWWBYrJbkHWfvLn+ByOrhi6TWMuPR2AJyFR02BvwYhBP0WX03y8uVa4PcinB4nOSdylPAvU8I/pzKHXTfvOoUE/cwZctv2HT1y71OOHf9QKgmfD9gvhtFkdnnPZkjo3ExSw5BsWnOIXZ8UMGR8Ipcsm0pUXOA+arqFN26HfW/DnRsgxfSBU3EY/vMEZL4Ctmg4fTmc+QOI6WLvppX5UF0Mw07vVI8qKPa8ocZuxl4I176s1FcmVcUFrHlkORW1Vs5fupRp37228Zyz8CjlzzzDiTVrAEi8+iol8Pvg7OO+gMPjIMoWdQoJ+uExctvGL2HozB65f9ior4ToLtRf730LXr/FVMW82uwD9kv5IfjbdyB9HtzwelgEzv7NxXzxz/3EJUay4K5pvWehl9xP4Z9Xw9kPwbkPtz5flqPMT7NWQ0QczL0bzrgbosM0AcswoGgHHHgfDnwIpdkqfNJCuOLPENXFayTsfx9evRGGz4Ub3wB768FzR0Em7/7iHvKq+zH78iuZ/71bm42DuI4epezZZzmx+k0AEq+6iuTly7AP6eXqukBw1MCR9eo7HTIDbN1gGdeFnFo6+mHRctsd0XDOQzDvAbD2Qp14R+z8J7x1D4y9CM76CQwLzS96uxz6HP51LQw6DZauhYggJw19/Xf44KdwxV9gxk1hyVLJ4ZN8sGIPLoeHC2+bxMiMHlaHOOvg6TPAGgF3bfD/ER/bC+v+T7X8o/rB3PvgjDshMoTZwM46OLxOCfeDH0FtKQgrjDgTxl0Crnp1r8RhygR2yIyQH9Evh9fBy0sgbTIsfQui2ncaZ+z8F5+veJLdJwYz9vQzufSeB7BHNp+j4CoqUgL/jdUAJC5aRMoD93fL4idhxVEDBz+EvWsh51Nw16twWxQMmaX+pxFnqm822O8qVKRUv1AMDXw4tQT9jOly2yMzYc/rqot75d9hwCk0bbu+Ev48U7US6iuhrhxGnqUEfvr8zregC7fBi1dA/3S49b3Qeg2GAS9eDiWZcPemsFmh1FQ6+GBFJqUF1Zx+xShmXtKDTuM+eQw2/BFueU/1XgKheDd88X9w8AOIHqCsl+Ys6/iDrypWwuPgh0rAuhsgMkHNXRi/AMac31wtVPA1vHEb1ByDi/4XTv9+eFU532xV7i/6j1DPH4BKSq65mx2fr2Pd8VEMHDWWRT99lNjE1mXLVVxM+bPPUvn6G9gSExn8xBNd4jgtrDiqVaWbvUb18twNEJcGE6+AiZeDswbyN0L+BlUGpKEG7QedZgr+78DwMzrf0zMMOPmNsn47vh+OH1C/sgMQEQ83vw1Jo0NOvksEvRDieeAyoFRKOaWN8xOAVcAM4BEp5ZOB3LhxMDbzdXjvx+qlL/gtZFzffXrNzvD+T2Hrs/D99TBgFGx/QQ2Y1pSoiuusnygBEMqzHNsLqy5Vwv22DztnNVJxRKlwhp8ON74Ztnfrdnr4/KX95Gw9xphZqZy3dCL27naTfCwb/n4WTLsOFv01+PiF22Hd/1NCITZF9Sxn3QZ2s5UrJRzLggMfqF+ROaaUOFwJ9vGXwvAz/avT6ipg7d2qUplwGSz8S3hUfSVZ8MICVVEFU0actfDseeQebeC9b0YTndCPq372GMnD09u8vGHfPo4+8GOceXkkfX85Kffei7B1X+/bMDxkffEpbkcDGRctaL1+QUOVqniz16r/0eOAuIEw6QqYtEgJ7rbGtBqqoHCLKfg3qhnmHicgIG1KU4t/xJkQ184kM48bKvOUMC874CPQD4Krrum62BRImQDJ41QlFJMEd3wacoXSVYL+LKAG+Ec7gj4VGAEsAiqDFvQAJwpgzZ2qpp20UFmVdPWAWWc4lg0r5sOsW+G7v2sKdzXArn/CV39UNfqgDCXwx3838O5aZR48d7Hav/0j1aLvLFtXqsr08j8pq50wIaVk58cFbFp7iJRh8Vx651TiB3STuwLDgOcvUgOu927rXHkp2Axf/ErpceMHwRl3wYlvlHCvKgQEDJ2lVDLjF0DqxOAqTClh89PwyaMQPxiuWaXSC5WyXNUQsNiUkO8/Irj4pfvgmXM5Fj+LNXv743I4uPz+h0jPaFu9ZNTWUvKr/8fJN98kevp0hjz5RLfo7kvzDvPJs3+hJPcgAElDh3P+7XcxbNRwNRaydy3kfqaEe/wgJTsmLVINrWDVI656Jey9Lf5vtjQJ66SxSuAPng7VJaZgPwjluWblYJIwFFLGN/2Sza1v2czboHph6fPghjdCUll3mepGCJEOvNuWoPe55nGgJiRBD2qyz8an4PNfQWwyLPobjD43kKS6FynhhcvUgNt9O9oWMG4n7HlN2bxXHIaUicqee/KV/v/Y6hJ4/mLlrOzWDyBtUnjybBjw0kI4ukOpcBLDu/BzXmYZHz+fjc1uYc7lo5j4nUFdb4LprbyufAYyru34+kA48qUS+AWblJXO6PNUq33cxe236oKhcDu8cQtUFal5EHPvDb6HdeIbNSnO3aDKSEqIq2yZ40tVM+9n7foyygoLOP+2u8i48NJ2o5x89z1KHnsMrFYG/fKXJFx8UWj37gBnQz0bX/8XO95/i+j4BM5ZegcRVsnnq1ZQdbKWSYnHOSvlELH9U5Rwn7wIhs7ptO67GR6XUu/kbzCF/yZwnFRzNPqnNwnxRqE+LvCxnh0vwdv3wuxl8N2AxGUzTm1B76VoF7y5TNWYc++F837e1JXuDWStVnrX7/4eZt/u/1qPW7U61j8Jx/cpFc+8ByDjOmXf7Ut9Jaz6rmrRL30Lhs0Ob74r8+FvZ6pBwZveCu9HAVQU1fLFP/dTcvgkCSnRnH75SMbOSuuaeQpVxfDXOaqFtfSt8Kr6pFQttX5D27Re6TT1J9QA/v53VQ9h0d8C743UlCohX1sGt7yjeoyhIqXqRWe+ivPa13n3rQ0c2bmNmZddydk33NruzGRnQQFHf/wgDXv2kHjttaQ9/FBYnc4d2v41nz23gury40z7zlzmT4sn6pt1cGQ9LreHLdWT2FIyAHtEBPOuv5VpF13qdyH5sGF4lOYhfmB4ysXH/w0b/wwLnlTjQ0HQ6wW9EGI5sBxg+PDhM/Pz89u+0FmnJgdtXQmpk+HqleFr3XYGZy38ZbbSsS1f17E9uxfDUB/2+ifUwGi/YWoAcPpNqhJz1sI/FkHxLvjea13Xk9m2Ct79kVI3zb4j7MlLKcnPKmfzW4cpL6whaUgsp18xivRpyeEdrH1tqRp0u2tjpwa1egwpYcuz8PEjSn+7+HmlS/ZHfaXqSVYchpvWdHx9IDhq4NlzoeEkxrL/8MXqt9j10buMmX0GC+59EHs7Alw6nRx/6inKVz5H5NgxDP7d74ga17n1e6vLy/j8+afJ3baF5MRILhhawBCPUtmQNFb1qiYtgiEzqSgp4rPn/kZB1m7SRo3hgtvvZuCY8K8f3KUYHuWYMOcTZf485vyAo/Z6Qe9LQDNjD34Mb92tBk4u/B+Y8/2wt0SD4rNfqhmXt30U2ocmpfpj1z+hBoLiBsKZ9ykvlIfXwTUvqkGkrkJK5dr4my1w98bw6P/buo0hyd1RytdvH+ZkaT1pIxM4Y+Eohk4Iw7jLgQ/h39eqnt5ZD3Y+vZ6kaCe8fqtqKZ7332r2blvl21EDLy1SqoTvvapUSuHiWDY8e54qzze+yY6P3mPdiytJHTmKRT99tJXfe19qvtpA0c9+hlFTQ9rDD5N47ZLgKnQpMUoPsPON59iwYR/S8DA3uYCZAyuwjjpLGTOMuaBNazwpJQc2fcm6f6yk9kQlGRdcyrzrlhLVRYu4dwmOajUed7JQDc4GqIbre4IeoOa4mhV68AMYda7q6nbCWVfIVByGv56u9OxXPdO5tKRUA3/rn4C8L1VYGG3d/XKyEJ6eq7r9S98OX8XpdkJdWbNZuB6PwYFNJWx97wg1lQ6GTujPGQtHkzYytAXCcdQom/mIOGXtFOjksd5Mw0l454fKGmPMBcrMODa56byrAf51jRrEW/KiMhMMN9tfUHk497/h7J9waPsW3vvTb4mKi+fKnz1Kyoj2zZ7dZWUU/ewhajdsIP6iixj0y19g7edngpizVo2F5H5Cyc7/8ElOLKUN8Yzs7+D88zPoN2OBsmQKUF3rqKtj4+svs/ODd4iKj+fsG29j0lnnnTpLBJ4oUBVtRBws+zwgNV5XWd38GzgHSAaOAY8BdgAp5QohxEBgG5AAGCgLnUlSyip/6Qbl60ZKVRg/+i81Iebyp7q25dsW/7pOCeV7t4W3ovlmi9Lbjuuaga028bpUuPQJ5RYgVKRU9v67/63cJtdXqnGVC/6n2aCz2+Uhe30R2z7Io6HGxciMZE6/YlTwM2s/egQ2/SX0HlVvRUrlp+bDh9WHfvVzkP4dNSD42lI1KevKv6uxna66v9f19c3vQPo8jh05xNrf/gJHXR2jZ85h0JhxDBo7gZT0Ua3WsZWGQcWqVZT+4Y/YUlMY8uSTxMyY0ZR2WQ7kfqJ6s/kbcTjdbCgfw67yVGJiozj3e99j3PlXdko4l+Yd5tPnnqb44H6GTpzC+bffRfKwIK2ReoqCr+HFy9SA8k1rOmzAnFoTpkJxalaWC2/eobq802+ES34d2qzGYMn5BF5erATYvB91/f26GinV8+RvhDu/Cl7PXXEEMl+DzFfVqla2KGUjbo9S1hwj5ikTwhaWKs4GN7s/+4ZdnxTgdHgYP2cgsy8bGZg//+Ld8Mw5MONmuPyPweX3VKFkj3J3UXEYzvkvZZu95/WQBuyCxlENfz9bmRTe+RXEJlNdUcb6f66icH82NeVlAFhtNlLTRzNo7PjGX0JKGkII6jMzOfrjB3EVFZFy+w0kzbAgst9U5oiATBpPTsRsvthWTk11Ladd9F3mXXcTkTHhmZkqDYOsdZ+y/uVVOOvrmLFgIXMXX09EVDeuFxEqu1+FNcvN8v0nvwYGfV/Qg2rlrPs1fPV7Ne375ne61teM26FUHULAXZv6hroA4ORR9Vxpk9Wsyo5UOPUnlAXR7leU+SGoGcAZ16mZh96p97tfgXd+pCaDXPOimqjVgoYaFzs+zifzi0KkRzJp3mBmLUgnNrEd9wWGB1aer/J875au/b97Gkc1vPuAMs8FOP9RZZrbHRRnwsoLmmy8fcpEdUUZJTkHKcrZT3HOAY4dzsXtVItnxPRLVEJ/2BDS3PnwxrvU768jJtXB4KtHY5+7hJMDZvH56rc5vGMrKemjuHDZPQwaM75LHqOu6iRf/utFsr74mLikZM67eTlj5szt/eocrxvyi/8fzL2n3cu+HYLeS84natR64FS4aa1fHx+d4qs/wqePwQ2rYewFXXOPnmLXv2DtXapndMZdrc+7nWq2YeYrahDU41D2whnXwdQlyo9LW5RkKSdbJ7+Bi/9PtUbb+MhqTzjY9n4ee78qQlgF084ZyqR5g5FSYngkHreBx2Xg2bMWz5YX8Mx9AGPIGSrcbWC4DTxu2XiswiRRcXb6D4yh/8BYEpKjsHSxTb9hSKrK6qkwVyarKKqhrtpF0uBYUkfEkzI8gcSBMVgCNTWVUrXkG052fUu+Jd75Cec/BvMfaPcyj9tN2Tf5FO/dRcmOdRQdOUJlrfespH9UBHEllQzwQMRFF7Jzzw6EEJy55AZmXHoFlm5YPezogX18tvKvHC/II33qdMbOnENUQj8i4xOIjIkhIiZWbaOjsUVE9nxFYBjw+lLY/55aS2LcxW1e9u0S9KBeyGtLlW7rxtUQEROezHmpKlY+zkeepRbg7mtICf++Dg7/R3XXk8eosKM7lHDPWq18+MQkwZTFSsAPnh6Y3Xr9CWWnffADVSlc/sd2fcmcPF7P1nePcGBLSeM6vKEgBFhsFjwuozHMYhX0S41Rgj9NbRMHxtI/LSboxWWklFRXNDQJ9GK1rSyuxe1zz/ikKKLjI6goqsHtVOG2SCspw+JIGR5P6ogEUobHk5gWhPDvLqRU6qN976ie3oi5ra9xNUDOR6oyOvixagD0T6dh3JWUxEynqLSW4twDFB/Yh6NezS5Nq6pjenQiSaedRnRGBlHTphGRnt4lwtVwOHDs20d9VjZ1mZlkH8xmv83A7afCF1JiQ2AXAjsW7BYLdqsNu81GhM2O3W4nKiqawZOmMOK8C4kaNaprKgZnrZorUXEEbv+4TbPyb5+gByWMVt8BI89WtWA4J1etXqbcBN+zWU126otUFcPTp6uZfuMuUrrC8hywRqpZoRnXKxvflhO8AsEw4KvfqdnOqRPh2n/6HQ+oKKrlWF4VVpvAarNgtVmwfPkbrCVbsS5egbX/ECw2gdVqwWo3z1tF074pNB11LiqP1XGipI7KkjoqS2o5cayOk6X1GEZTeY/tF6GE/kBvRRBL4sAY4hIjqat2UnFUCfPyoppGwe5qaFpuMjYxUq1IZq5KljQ4jv6DYhoXVDcMSWVJLccLqjmeX01pfjVlhdWNwt8eaSV5WBypwxNIGRFP6oh4ElNjen4xnIaTyoeQx6UaADED1OS/vPXK7/2+d8BRBbGpMOVqmLoYhsxs1QCQUlJRkM/JzZuIKzpG/e7dNGRmYtQp4W/t14+ojGlET8sgOiOD6GlT/VvstIF0u3Hk5lK/Zw8Ne7Koz9qD42AOuNXKTNaUZKKnTMU2cQJOuxVHXT3O+jqcDfU4HA24HA6cTidOlxOX24XL7cblceOUHtyGgUtK3AJcAgzz+awegySnh0FJqQyfksGQ+WcRPXUqlugwjQWcPKrmN9gi4Y7PWy2Y8+0U9NCkghh3CSx5KTx69PxNsOoSmP8gnP/zzqfXm/EOBIEybcu4Vk1OCZe/9tzPYPXtStd+5QqY8N3A4u17R6mA2lofNwQ8HoOq4/VUltRx4piqACrNysBZ7268zmIRzSqEqDg7SUNiGTAorplgj4oNvvIzPAaVJXUcL6imtKCa4/lVlH1T09gjsEdZSRkWT8rweJKGxBLXP4q4/pHEDYjqXqdxRTvhuYuUR0evM67aUuWtc+IVSrinzw/aV4v0eHAcOkT97t1K8O/OxJGbq3oSQMTIkUroZ0wjOiODyHHjGp2oScPAmZ9PQ1ZWo2Bv2LcP2dAAgCUhgegpk4maMpWoqVOInjoVW1pa2Fre9VUnOfL5p+R9vZGj3+RR5VJjFBEuN0m1DgbF92P4pGkkzzmd6NNOwz5kcOj3ProdVi1QnjVvfruZ++1vr6AH2PqcWjh70iJlntYZ//aGB545G+oq1eBfd/mr7imkVLr45LFdNomKEwVKzVa0Uw0unvuI/5nFDVVq3kJMEiz/IrQeRYBIKamvdjUK/qqyeuL6R6qF4QfFEpPQtQPwXuFfml+tKoD8KsoKa5qpoAAiY23E9Y8ivn+kqgAGRDZVBP2jiEuMDO/i9d71DKyRMP4Spb4be1HYXZJ4amqU8N6lhH99Ziae8nIARFQUUVMmI+x2GrKyMaqrm8InTSJ66hSipkwleuoU7CO61112dXkZR77eyJGNX3I07xD1LuXgLMbhJLm6nlSLnWHjJtJvxkyip08navIkLJFBLHqS9Sa8cavqVS/6W2OP6dst6AE2/VXZ2k+7Tr2YUCcDeSuNxatgylXhzeO3GVeDEhw7XlQrZl39PMQmtX3t+z+FLc/AHZ+d+quQhYDhMaiucFBT2UBNpbk1j6vNY0etu1W86Hh7o/CPHxBFanoCwycPIDouhMpKSjXPI3VC16+S1ey2EtfRo0rwZyrhj9tD1JQpSrBPnUrk6NHd6i65I6SUlBcWkL97B0c2b+To4RzcHjdISb96B8nV9STXOxk0cgwJ8+cRN38+UVOmtOtTqJF1v1YL2FzwOMy7H9CCXrH+Cfj8fwOyR22Tugr48wzlk/rmd04N3/inGjv+Ae89qPy8LPlHa0FeuF2ZU85ZBgue6Jk8ngK4HJ7mFUGlg5oKta02910Oj3Kxnp5A+tQkRkxJJnlYXM9bmPRxPG43JbkHyd+zi/ydWyk+fAgpDYSEuAYHCfVO+gkLaeMnMeSss0k6/wJsA9qYFSulcqKYvUaNcU28TAv6Rrz2qKffqUwHgynU7z6gZuHe+aWyMdd0DUU74dWlaqGWS3+r/OQLoQb9njlHuVO4Z0vXmc1+C5CGpLSgmvyscvL3lFGar9QeMf0iGDE5iRFTkxg2YUDQ1kea4HHW11G4L5vC/dmU5hzk+JFc6uqbFieJcrpJtEeQMiydQbPmMPTsc0gcOFi1+F31Sl9//ADc9iFicIYW9ICqBT96BDb/VXV3zn8sMGFfnKl087OXqdWuNF1LXYWymDr0GZx2o/LNveVZ5bl0yUvd7+aij1NX5aQgu5z8rHIK9lbgrHdjsQoGjUlkxJQk0qcmkZgWo1v73UTtiUpK8w5T/PVmSrJ2U1ZaQrX0NMoqmxAkJaWSNmkyaelDSd3+fyTFuIj4SbYW9I1IqfTs255vdNbU4fWrLlV+8O/b3rdnX/YmDA/85zfqlzZVuVQYdQ5c9y+tNutCPB6DY4dPkp9VTt6eciqK1GynhOQoRkxJZsSUJIaMS8TW3ctDfstxlJZS+NEHFG3eSGneYU5iUB0d2TgHQCD58Wvva0HfDMNQbo53/1stznzmfe1fm/m68qMT5uX2NAFy4ENl4ulxwz1ftz/rVtMlVFc0KBVPVjmF+ytwOw1sdgtDJvRn9PRURk1PIVKreLoVKSWO/fupXv8lpevXUXo4l6oIG4vWb9KCvhUetxLg2Wvadw7lqFEzYOPSlKvQ7lixRtOaqiLl6yWla3ygaALD7fJQdPAEeVnl5GWWUV3egMUmGDE5ibGz00ifmow9Un8j3Y2nupraTZvod/HFQQv6vl9FW21w1bPKOdn7D6plwKbf2Pya9U9AdbHSC2sh33P4+LLX9Bw2u5Xhk5MYPjmJ+UvGciyvitytpeRsP8aR3WXYIiyMnJbMmFlpjJicFF7bfU27WOPjSbgoNHfmfV/Qg5pss3gVvHI9vHWvcqs7dbE6V5ar7O8zvhdZL02+AAAUr0lEQVT+dVo1mlMcIQQDR/Zj4Mh+nLl4DMW5J8jZVsqh7aXkbCslItrGqOkpjJ2VytDx/bvcgZwmNPq+6sYXZx28fI1ys7vkReVD/eVroGCzGoCNT+ve/Gg0pygej8HR/ZXkbDvG4Z3HcTZ4iIqzM2ZGKmNnpzJodGLP++xB+T2qrmigusKBEBAVaycyxkZUrJ2IGBvWU7Bi0nb0geCoVuumFu2C07+vVizqaKBWo9G0i9vloSC7gtxtxziSWYbbaRCbGMmYmamMnZVGanp8l5hsSilx1Lqprmigqrye6vIGqssbqCpvUMK9vKGZD6O2sEdZGwV/ZIydqBgbkT6VQWSMTYXHqm1EtI2IaCsRUTastp6pJLSgD5T6E/Di5VCSqRw23bmh7ywootH0IC6Hh7zMMnK2HSM/uxzDLYmOVwLSFmHFZrdgi7Bij7BgtZvbCCu2CEvjucZthAWbXW3dToOq8npqyhuoMoV4dbk589cHe6SV+KQoEpKiiB8QRXxSNPFJyi8QEhpqXTjq3Djq1LbxuNZFQ60KbzCPDY9/2Wi1W4iIsirhH9VUAbR5bO7bIqwgJVKqigpJ476UapIbvsey9fHEuYP1YGxARCeqxUo+ehjmLNdCXqMJE/ZIK2NnpzF2dhqOOheHd5VRnHsCt9ODy2ngdnrwuAxq6lx4XAYu89h7rqP1CCJjbMQnRdEvJZqhE/oTPyCKBFOYxydFERljC0vvQUqJ22kowV+rBL+jzo2zwY2j3o2rwY2z3oOjwY2r3o2zwYOz3k1VWT3Oeg/OBjfOejc91I5uxbezRa/RaHodUkoMt/QR/k1bm1211E8lW35vZeEV+s56D26nB2EBhECAGscQatBbeLcWgObHQnivg8TUWN2i12g0pyZCCKx20WfMNYUQ2COt2COtxPYLwj1xF9A33qhGo9Fo2kULeo1Go+njaEGv0Wg0fRwt6DUajaaPowW9RqPR9HG0oNdoNJo+jhb0Go1G08fRgl6j0Wj6OFrQazQaTR+nQ0EvhHheCFEqhMhq57wQQjwlhMgVQmQKIWaEP5sajUajCZVAWvQvAJf4OX8pMNb8LQf+1vlsaTQajSZcdOjrRkq5XgiR7ueShcA/pPKOtlkIkSiEGCSlLPaXriEl1Q0uJC3cdJrn1L4KMMx9KZvO+WKxKAdBlkbHQCBMp0AW0XQOARbTUZDFvKZZuoA01L0MM0++9/a9zjBk43O4DYnHkLg95tYwzK302Ro+55uHGxKsFoFVCGxWgUUIdWyGWa3m1tLi5xMmBI159OYXmh97X5v0PqsEfM65PRKXx8BtGLi8++bW5ZEtwn32DbU1DInVYsFuVc9ha9y3YLMI7FYLNqvAblFbm9WC3WKeN8MtFhoz2pTHFs9kPoN3nxbXNC9H3v9SHfuWLcNoXtaMNsqXtyx59wHljKpxvylQNMYRjWWDxvs25cdbfnzv1/L+3vLlmw/ftNs655uflnn1fg/4fif4ONMyI4lW5800fa/3hrdIt9k5mt/DYn6LFtNBl1Wocu77PVosTWEW87z3GwbwGBKPVN+O92e0OPY97z3nNiSGIRudhHnvob4b3/s1nbdaml/b9E5av1983mPzsKZ/pfV/0vpd0eK49Xts+/8PhHA4NRsCfONzXGiG+RX02UVVTH384zDcXtOT2CzCR0gLPEaT8Pe0EFYajaZn6FbvlUKI5Sj1DklDRvLIgolNrjihqQXu08Kw+NRq3n3f1pO3RdfY0vZx0O9tETa2kmRTK1yaPQXfdJtqfJW+t6fgra1b9w7Usbf1arUIbBbVAreZLe1m4RZvS1dgtVgaw4SgeaukjZZLR+FN7xho0Zpq2QJTF7Y+79sCt1vNFrjZEm9sjZvnvNf6a2FIKZv1BNw+rX93s3CJy6fHI3z+35YtJd9WUssWku81vq1B79bbYvP+h749wGbH3oSa9YK85a15z8L7nC17mdJbtiytW4TNWqwWWuWnWT5onQdvPlqG0eI6355cs16cbw/WJ9zbg27eq27+fC17iO31Dn2va/om1b7Hp6fl7dlIM9y35+PtcRlm2laLBasFtTV7B232gs3ersX87rzn8Hkub4vft+fu7fE13bf5ee935n337fU8m/8HTWWk8biFliDQ9+i9btFvWv/nHREOQX8UGOZzPNQMa4WU8hngGVD+6JedNSoMt9f0VoQQRNgEEdq4S6PpUcLxBb4NLDWtb84ATnakn9doNBpN99Fhi14I8W/gHCBZCFEIPAbYAaSUK4D3gQVALlAH3NpVmdVoNBpN8ARidXN9B+clcE/YcqTRaDSasKKVpxqNRtPH0YJeo9Fo+jha0Gs0Gk0fRwt6jUaj6eNoQa/RaDR9HOGdsdXtNxaiGjjQyWT6ASd7OI3ekIfekkZvyENvSaM35KG3pBGOPCQDZZ1Mo6+8i/FSyvigYkivo6Vu/gHbwpDGMz2dRm/IQ29Jozfkobek0Rvy0FvSCFMetLzoxLs41VU37/SCNHpDHnpLGr0hD70ljd6Qh96SRjjyEA6+te+iJ1U326SUs3rk5hqN5pRCy4smQnkXPdmif6YH763RaE4ttLxoIvh30Vl9UXf9gOeBUiDLJ+xVYJf5ywN2BRn/NGCzGX8bMCeEPGQAm4A9qG5ZQgdpDAO+APYC2cAPzfABwCdAjrntH2T8a8xjA5gVYh6eAPYDmcAaIDGENH5pxt8FfAwMDjYNn/M/RnlnTQ4yD4+jPKh6y8aCUPIA3Ge+j2zgtyG8i2DKZ3tpBFRG/cQPuHwCUcAWYLeZxv+Y4SOBr1H+rF4FIkJI414zfrv/Zzh/qFXxDpj3fMgMe9kMy0J9y/YQ0njOfLZM4A0gLtg0fM49BdR09buQUp5Sgv4sYAY+QrbF+d8BjwYTHyWILjX3FwDrgs0DsBU429y/DfhlB2kMAmaY+/HAQWAS8FufwvQQ8Jsg408ExgPr6FjQt5fGRYDNDP9Ne3noII0En2t+AKwINg3zeBjwEZDfnmDwk4fHgQcDLFftpXEu8CkQaZ5LDeU5giif7eUjoDLqJ37A5RPlAj/O3LejhPsZwGvAdWb4CuCuENKYDqSjKrwuFfSAFTgEjAIiUIJ5kvn+hPn7dwfP0V4avuX797QQ3oGkYZ6bBbxENwn6blHdtLfAuBDiPiHEfiFEthDit/7SkFKuByraSV8AS1B/XjDxJZBg7vcDikLIwzhgvbn/CXB1B2kUSyl3mPvVwD7UilwLgRfNy14EFgUTX0q5T0oZkLmqnzQ+llK6zcs2o9YWCDaNKp/LYmlaeyHgNMzTfwB+2on4AeEnjbuAX0spHea50lDzEWD5bC+NgMqon/gBl0+pqDEP7eZPAuehWq/gp2z6S0NKuVNKmddePF+EEJcIIQ4IIXKFEA+ZYfeax1IIkdxBEnOAXCnlYSmlE3gFWCilfN/Mn0T1Otot337SqDLzI4Bo/JTP9tIQQlhRveefhvguXhBCHBFC7DJ/p3WUTpfXJGbt1VZLOOAWk0+cdNpo0Zvpd2hy1DI+qhVcgFoK8SgwIoQ0NgKLzP0HgOog3ku6ef8E4IRPuPA9DiS+T9g6OmjRd5SGGf4OcGMoaQC/Mt9pFpASwrtYCPzJDM8jgBZgi/iPm/EyUV30NtVgHaSxC/gfVIv0P8DsUN9noOWznXyEWka98YMqn6hW6C6gBtWrS0YJK+/5YbTTq24vjRbn/P6ftN+SDrhHACwGVvoc3wT8xefYDuwA5oeSBrAKOIZSlcUEmwbwQ+B+M6zdFr2fd/ECsDjQ8iRlN7XoZdst4YBbTAFwPX5aS364C/XChwH3o/RvwXIbcLcQYjuqy+wMJJIQIg5YDfxINm8FI9W/7K+l4Dd+oLSXhhDiEcCN0mkGnYaU8hHznb6M0s0GnIZ53/8CHu3Ec/wNGI3Sbxej1CbBpmFDjZucAfwEeE10sDKzn/8k4PLZRhpBldE24gdVPqWUHinlaajW7hxgQiD59peGEGJKENHba0kH3CMIgKeB9VLKL0OJLKW8FRiM6jVdG2T0GNR42p8DuLbNdxHk/YCetboZB8wXQnwthPiPEGJ2KIkIIWzAVahBomC5GXjT3H8d9WKDQkq5X0p5kZRyJupjPtRRHCGEHfUxviyl9N7/mBBikHl+EGrQN5j4QdFeGkKIW4DLgBvMCifoNHx4mQ5UWW2kMRo1+LdbCJGHEhY7hBADA82DlPKYKWwM4Fk6+F/beY5C4E2p2IIa5G5XZeDnfQZcPttJI+Ay2s67CLp8mvFOoFqsc4FE8znAz1KhftK4JJDrTYagei9eCglSHYef5U2FEI8BKajeTUhpgKrMUILXX/luK41DwBgg1yzfMUKI3Hbi+3sXvxJCZAoh/iCEiOzgWXpU0AfdYmqHC4D9UsrCEOIWAWeb++ehLF6CQgiRam4twH+jBqv8XS9QrbJ9Usrf+5x6G/VRY27fCjJ+MHluMw0hxCUoveEVUsq6ENMY63PZQpTVSsBpSCn3SClTpZTpUsp0VOGeIaUsCSIPg3wuuxKlQgrqOYC1KPUiQohxqK5zm1PwO/hPAiqfftIIqIz6eRcBl08hRIoQItHcjwYuRLVav0CpIcBP2fSTRrtloIvYCowVQowUQkQA1wFvCyHuAC4GrjcbAaGkMQYa3/cV+H+2ttJYK6Uc6FO+66SUY4J8vodRPa3ZKBn6sw5jBKPn6cyP1rrtD4FzfY4P4Uefi2qNFAMu1Md/uxn+AnBnAPdvFR+YB2xH6b6+BmaGkMYPURYOB4FfY05C85PGPJRaxmuCuAtlDZAEfIb6kD8FBgQZ/0ozTw6U/vCjEPKQi2pBeMP8Wcy0l8ZqlGDNROn5hwSbRotr8mjf6qa9PLyEMifMRFWgg0J4jgjgn+az7ADOC+U5giif7eUjoDLqJ37A5ROYBuw008jCtBJC6Yi3mOXjdcxxtSDT+IFZPt2oymtlO/Hn+pZdlFB7OJDy0CKdBeYzHwIeMcPc5rH3/bRrBdVWGqiG8QazbGWheqwdmVO3ykeL8/509H7fhRl2DvBuR++j22bGCiHSzQxNMY/vRNlYP2q2mD4DhsvuypBGo+l1mCqig8D5KNXHVuB7Usps83weytigsw7Oej3tvQugQkpZbPYq/gA0SCkf8pdWd5lX/hs1aWO8EKJQCHE7yhpilFAml68AN2shr9F8u5HKvPde1ByKfcBrUspsIcQPhBCFKD13phBiZU/mszto710ALwsh9qB6FsnA/3aUVo/5utFoNBpN93Cqe6/UaDQaTQdoQa/RaDR9HC3oNRpNr0AIsch0cRD0JC2Nf7Sg12g0vYXrga/MbcCYvmM0ftCCXqPR9Dim64Z5qLkp15lh5wgh1gsh3jMde60wJ34hhKgRQvxOCLEbZW+u8YMW9BqNpjewEPhQSnkQKBdCzDTD56DWBZiEco9xlRkeC3wtpcyQUn7V7bk9xdCCXqPR9AauR82nwdx61TdbpHLq5UHNTJ9nhntQs7A1AWDr+BKNRqPpOoQQA1B+fKYKISTKPa8E3qO1F1fvcYMp/DUBoFv0Go2mp1kMvCSlHCGVs69hwBFgPsrN8UhTN38tarBWEyRa0Gs0mp7metQaxb6sNsO3ohbr2IcS/i2v0wSAdoGg0Wh6JUKIc1Br/17W03k51dEteo1Go+nj6Ba9RqPR9HF0i16j0Wj6OFrQazSabkcIMUwI8YUQYq8QIlsI8UMzfIAQ4hMhRI657W+G32CukbpHCLFRCJHhk9Yl5szZXCGE3wU4vq1o1Y1Go+l2zHV9B0kpdwgh4lHLJS4CbkGtoPRrU2j3l1L+TAhxJmo93EohxKXA41LK000/NwdRa9MWoqx0rpdS7u2J5+qt6Ba9RqPpdqSUxVLKHeZ+Ncp8cgjKFcKL5mUvooQ/UsqNUspKM3wzaqUpUC4Scs3Zs07UrNqF3fMUpw5a0Gs0mh7FXE96Omrx8zQpZbF5qgRIayPK7cAH5v4Q1IL2XgrNMI0P2gWCRqPpMUyvlauBH0kpq9R61woppTRdIvhefy5K0M9DEzC6Ra/RaHoEIYQdJeRfllK+aQYfM/X3Xj1+qc/104CVwEIpZbkZfBQY5pPsUDNM44MW9BqNptsRqun+HGqA9fc+p94Gbjb3bwbeMq8fDrwJ3GS6MvayFRhr+sOJQPmyf7ur83+qoa1uNBpNtyOEmAd8CewBDDP4v1B6+teA4UA+sERKWSGEWAlcbYYBuKWUs8y0FgB/RHm9fF5K+atue5BTBC3oNRqNpo+jVTcajUbTx9GCXqPRaPo4WtBrNBpNH0cLeo1Go+njaEGv0Wg0fRwt6DV9DiHE40KIB/2cXySEmBRgOkeFELtML4vXhzenGk33oAW95tvIIqBDQW/yBynlaShHWX83Z3NqNKcUWtBr+gRCiEeEEAeFEF8B482wZUKIrUKI3UKI1UKIGNPd7RXAE2ZLfbT5+1AIsV0I8aUQYkLL9KWUOUAd4PWP3mYcIcQLQogVQohtZn70eqeaHkc7NdOc8gghZqKmvp+GKtM7UP7N35RSPmte87/A7VLKPwsh3gbelVK+YZ77DLhTSpkjhDgdeBo4r8U9ZgA5Ukqv75Vn/MRJR7nPHQ18IYQYI6Vs6KLH12g6RAt6TV9gPrBGSlkHYApygCmmgE8E4oCPWkY0vSeeCbzu4zkx0ueS+4UQtwLjgMsDjPOalNIAcoQQh4EJwK7OPqRGEypa0Gv6Mi8Ai6SUu4UQtwDntHGNBThh6uHb4g9SyieFEFcAzwkhRgcQp6VfEe1nRNOjaB29pi+wHlgkhIg2l6W73AyPB4rNAdQbfK6vNs8hpawCjgghrgHlVdF3PVIvUsq3gW3AzQHEuUYIYTErhVHAgXA+rEYTLFrQa055zCXpXgV2o1Ye2mqe+jnKG+IGYL9PlFeAnwghdprC+AbgdiHEbiCb9pei+wXwgBDC0kGcAmCLmZc7tX5e09No75UaTRgRQryAz0CvRtMb0C16jUaj6ePoFr1Go9H0cXSLXqPRaPo4WtBrNBpNH0cLeo1Go+njaEGv0Wg0fRwt6DUajaaPowW9RqPR9HH+P+Rdxv8nh7NiAAAAAElFTkSuQmCC\n",
      "text/plain": [
       "<Figure size 432x288 with 1 Axes>"
      ]
     },
     "metadata": {
      "needs_background": "light"
     },
     "output_type": "display_data"
    }
   ],
   "source": [
    "(df_geo.cumsum() / df_geo.shift().cumsum())[['CN', 'SE', 'US', 'NL', 'IT', 'ES']].loc['20200316':].plot()"
   ]
  },
  {
   "cell_type": "markdown",
   "metadata": {},
   "source": [
    "From this factor (relative increase in cases since yesterday) we can calculate the number of days to double by some logarithmic magic. For NL the number doubled every one or two days in the beginning but now it doubles in over ten days, which is a good sign."
   ]
  },
  {
   "cell_type": "code",
   "execution_count": 35,
   "metadata": {},
   "outputs": [
    {
     "data": {
      "text/plain": [
<<<<<<< HEAD
       "<matplotlib.axes._subplots.AxesSubplot at 0x7f17222e38d0>"
=======
       "<matplotlib.axes._subplots.AxesSubplot at 0x7f3eec8e20b8>"
>>>>>>> 6185f89dbbde69b1c2bf42de612da293244ef22e
      ]
     },
     "execution_count": 35,
     "metadata": {},
     "output_type": "execute_result"
    },
    {
     "data": {
      "image/png": "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\n",
      "text/plain": [
       "<Figure size 432x288 with 1 Axes>"
      ]
     },
     "metadata": {
      "needs_background": "light"
     },
     "output_type": "display_data"
    }
   ],
   "source": [
    "(np.log10(2) / np.log10(df_geo.cumsum() / df_geo.shift().cumsum()))[['NL', 'SE']].loc['20200301':].plot()"
   ]
  },
  {
   "cell_type": "markdown",
   "metadata": {},
   "source": [
    "Rolling window functions can be used to smooth a curve, in this case the moving 5 day mean new cases for NL."
   ]
  },
  {
   "cell_type": "code",
<<<<<<< HEAD
   "execution_count": 19,
=======
   "execution_count": 36,
>>>>>>> 6185f89dbbde69b1c2bf42de612da293244ef22e
   "metadata": {},
   "outputs": [
    {
     "data": {
      "text/plain": [
<<<<<<< HEAD
       "<matplotlib.axes._subplots.AxesSubplot at 0x7f1724f3d690>"
      ]
     },
     "execution_count": 19,
=======
       "<matplotlib.axes._subplots.AxesSubplot at 0x7f3eeca33470>"
      ]
     },
     "execution_count": 36,
>>>>>>> 6185f89dbbde69b1c2bf42de612da293244ef22e
     "metadata": {},
     "output_type": "execute_result"
    },
    {
     "data": {
      "image/png": "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\n",
      "text/plain": [
       "<Figure size 432x288 with 1 Axes>"
      ]
     },
     "metadata": {
      "needs_background": "light"
     },
     "output_type": "display_data"
    }
   ],
   "source": [
    "df_geo['NL'].rolling(5).mean().loc['20200301':].plot()"
   ]
  },
  {
   "cell_type": "markdown",
   "metadata": {},
   "source": [
    "Let's look at 'the curve' which we are supposed to flatten. We assume that an infection lasts 15 days on average (which is under discussion, but currently used by EU CDC), so we only sum new cases from the last 15 days. By leaving out older infections this shows us the current number of infections. China is clearly through their (first) curve."
   ]
  },
  {
   "cell_type": "code",
   "execution_count": 37,
   "metadata": {
    "scrolled": true
   },
   "outputs": [
    {
     "data": {
      "text/plain": [
<<<<<<< HEAD
       "<matplotlib.axes._subplots.AxesSubplot at 0x7f17221438d0>"
=======
       "<matplotlib.axes._subplots.AxesSubplot at 0x7f3eebb0fcf8>"
>>>>>>> 6185f89dbbde69b1c2bf42de612da293244ef22e
      ]
     },
     "execution_count": 37,
     "metadata": {},
     "output_type": "execute_result"
    },
    {
     "data": {
      "image/png": "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\n",
      "text/plain": [
       "<Figure size 432x288 with 1 Axes>"
      ]
     },
     "metadata": {
      "needs_background": "light"
     },
     "output_type": "display_data"
    }
   ],
   "source": [
    "df_geo[['CN', 'IT']].rolling(15).sum().plot()"
   ]
  },
  {
   "cell_type": "markdown",
   "metadata": {},
   "source": [
    "Assuming for NL that we have a maximum of 2400 ICU places and about 10% of currently infected are there, we can monitor the situation with the following graph."
   ]
  },
  {
   "cell_type": "code",
   "execution_count": 38,
   "metadata": {
    "scrolled": true
   },
   "outputs": [
    {
     "data": {
      "text/plain": [
<<<<<<< HEAD
       "<matplotlib.axes._subplots.AxesSubplot at 0x7f17220ef390>"
=======
       "<matplotlib.axes._subplots.AxesSubplot at 0x7f3eeb8aec50>"
>>>>>>> 6185f89dbbde69b1c2bf42de612da293244ef22e
      ]
     },
     "execution_count": 38,
     "metadata": {},
     "output_type": "execute_result"
    },
    {
     "data": {
      "image/png": "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\n",
      "text/plain": [
       "<Figure size 432x288 with 1 Axes>"
      ]
     },
     "metadata": {
      "needs_background": "light"
     },
     "output_type": "display_data"
    }
   ],
   "source": [
    "df_geo['NL'].rolling(15).sum().loc['20200301':].plot()"
   ]
  },
  {
   "cell_type": "markdown",
   "metadata": {},
   "source": [
    "So currently we are just over half capacity and still rising rapidly, but the first signs of flattening are showing."
   ]
  },
  {
   "cell_type": "markdown",
   "metadata": {},
   "source": [
    "Keep exploring! Stay home, wash your hands, keep your distance."
   ]
  },
  {
   "cell_type": "code",
   "execution_count": null,
   "metadata": {},
   "outputs": [],
   "source": []
  }
 ],
 "metadata": {
  "kernelspec": {
   "display_name": "Python 3",
   "language": "python",
   "name": "python3"
<<<<<<< HEAD
=======
  },
  "language_info": {
   "codemirror_mode": {
    "name": "ipython",
    "version": 3
   },
   "file_extension": ".py",
   "mimetype": "text/x-python",
   "name": "python",
   "nbconvert_exporter": "python",
   "pygments_lexer": "ipython3",
   "version": "3.6.9"
>>>>>>> 6185f89dbbde69b1c2bf42de612da293244ef22e
  }
 },
 "nbformat": 4,
 "nbformat_minor": 1
}
