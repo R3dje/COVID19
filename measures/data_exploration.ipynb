{
 "cells": [
  {
   "cell_type": "code",
   "execution_count": 2,
   "metadata": {
    "colab": {
     "base_uri": "https://localhost:8080/",
     "height": 34
    },
    "colab_type": "code",
    "id": "FxiOQ4sWtwJJ",
    "outputId": "51794fa4-2005-4496-c98c-e44a5b61322e"
   },
   "outputs": [],
   "source": [
    "%matplotlib inline\n",
    "import os\n",
    "import numpy as np\n",
    "import pandas as pd\n",
    "import matplotlib.pyplot as plt\n"
   ]
  },
  {
   "cell_type": "markdown",
   "metadata": {
    "colab_type": "text",
    "id": "YPROiEd9vthb"
   },
   "source": [
    "This notebook explores the [COVID19 Government Measures Dataset](https://www.acaps.org/covid19-government-measures-dataset)"
   ]
  },
  {
   "cell_type": "code",
   "execution_count": 3,
   "metadata": {
    "colab": {
     "base_uri": "https://localhost:8080/",
     "height": 442
    },
    "colab_type": "code",
    "id": "BidDsuT4uRj2",
    "outputId": "92896635-f031-41b9-e7e8-ac785e3db185"
   },
   "outputs": [
    {
     "name": "stdout",
     "output_type": "stream",
     "text": [
      "<class 'pandas.core.frame.DataFrame'>\n",
      "RangeIndex: 8294 entries, 0 to 8293\n",
      "Data columns (total 18 columns):\n",
      " #   Column              Non-Null Count  Dtype         \n",
      "---  ------              --------------  -----         \n",
      " 0   ID                  8294 non-null   int64         \n",
      " 1   COUNTRY             8294 non-null   object        \n",
      " 2   ISO                 8294 non-null   object        \n",
      " 3   ADMIN_LEVEL_NAME    764 non-null    object        \n",
      " 4   PCODE               0 non-null      float64       \n",
      " 5   REGION              8294 non-null   object        \n",
      " 6   LOG_TYPE            8294 non-null   object        \n",
      " 7   CATEGORY            8294 non-null   object        \n",
      " 8   MEASURE             8294 non-null   object        \n",
      " 9   TARGETED_POP_GROUP  8294 non-null   object        \n",
      " 10  COMMENTS            8153 non-null   object        \n",
      " 11  NON_COMPLIANCE      7085 non-null   object        \n",
      " 12  DATE_IMPLEMENTED    8072 non-null   datetime64[ns]\n",
      " 13  SOURCE              8278 non-null   object        \n",
      " 14  SOURCE_TYPE         8281 non-null   object        \n",
      " 15  LINK                8263 non-null   object        \n",
      " 16  ENTRY_DATE          8294 non-null   datetime64[ns]\n",
      " 17  Alternative source  765 non-null    object        \n",
      "dtypes: datetime64[ns](2), float64(1), int64(1), object(14)\n",
      "memory usage: 1.1+ MB\n"
     ]
    }
   ],
   "source": [
    "df = pd.read_excel(\"acaps_covid19_goverment_measures_dataset.xlsx\", sheet_name=\"Database\")\n",
    "df.info()"
   ]
  },
  {
   "cell_type": "markdown",
   "metadata": {
    "colab_type": "text",
    "id": "45FZRNZIwBIz"
   },
   "source": [
    "Remarks about the info results:\n",
    "- The PCODE column is empty\n",
    "- ADMIN_LEVEL_NAME and Alternative source are mostly empty\n",
    "- All rows have ID, COUNTRY, ISO, REGION, LOG_TYPE, CATEGORY, MEASURE, TARGETED_POP_GROUP and ENTRY_DATE\n",
    "- Not all measures have a source or link\n",
    "\n",
    "We filter out all rows without a link or source and alternative source. We can also drop the PCODE column."
   ]
  },
  {
   "cell_type": "code",
   "execution_count": 4,
   "metadata": {
    "colab": {
     "base_uri": "https://localhost:8080/",
     "height": 34
    },
    "colab_type": "code",
    "id": "VIS6jC8FwsAG",
    "outputId": "744a4a22-cc75-41f1-d1a4-f066735d474f"
   },
   "outputs": [
    {
     "name": "stdout",
     "output_type": "stream",
     "text": [
      "Dropped 33 rows. 8261 rows remain.\n"
     ]
    }
   ],
   "source": [
    "df = df.drop(columns=[\"PCODE\"])\n",
    "\n",
    "old_shape = df.shape\n",
    "df = df.loc[~((df[\"SOURCE\"].isna() | df[\"LINK\"].isna()) & df[\"Alternative source\"].isna())]\n",
    "print(f\"Dropped {old_shape[0] - df.shape[0]} rows. {df.shape[0]} rows remain.\")"
   ]
  },
  {
   "cell_type": "markdown",
   "metadata": {
    "colab_type": "text",
    "id": "ixbKquWF0iZA"
   },
   "source": [
    "This paper is about measures, so lets inspect that column"
   ]
  },
  {
   "cell_type": "code",
   "execution_count": 5,
   "metadata": {
    "colab": {
     "base_uri": "https://localhost:8080/",
     "height": 731
    },
    "colab_type": "code",
    "id": "M3m15o_Z0mTA",
    "outputId": "cdeb55fe-e125-491a-fea1-69652f533f33"
   },
   "outputs": [
    {
     "name": "stdout",
     "output_type": "stream",
     "text": [
      "There are 39 unique measures:\n",
      "\n",
      "Economic measures                                               1152\n",
      "Strengthening the public health system                           841\n",
      "Limit public gatherings                                          640\n",
      "Isolation and quarantine policies                                506\n",
      "Public services closure                                          452\n",
      "Awareness campaigns                                              355\n",
      "General recommendations                                          341\n",
      "Border closure                                                   332\n",
      "International flights suspension                                 314\n",
      "Domestic travel restrictions                                     307\n",
      "Schools closure                                                  306\n",
      "Partial lockdown                                                 305\n",
      "Visa restrictions                                                295\n",
      "Emergency administrative structures activated or established     268\n",
      "Curfews                                                          237\n",
      "Other public health measures enforced                            213\n",
      "Health screenings in airports and border crossings               210\n",
      "Surveillance and monitoring                                      203\n",
      "State of emergency declared                                      174\n",
      "Testing policy                                                   120\n",
      "Requirement to wear protective gear in public                     90\n",
      "Full lockdown                                                     84\n",
      "Changes in prison-related policies                                76\n",
      "Military deployment                                               72\n",
      "Additional health/documents requirements upon arrival             72\n",
      "Psychological assistance and medical social work                  69\n",
      "Border checks                                                     57\n",
      "Limit product imports/exports                                     33\n",
      "Amendments to funeral and burial regulations                      32\n",
      "Checkpoints within the country                                    29\n",
      "Mass population testing                                           20\n",
      "strengthening the public health system                            20\n",
      "Lockdown of refugee/idp camps or other minorities                 17\n",
      "limit public gatherings                                            5\n",
      "curfews                                                            4\n",
      "testing policy                                                     3\n",
      "Humanitarian exemptions                                            3\n",
      "Complete border closure                                            2\n",
      "Obligatory medical tests not related to COVID-19                   2\n",
      "Name: MEASURE, dtype: int64\n"
     ]
    }
   ],
   "source": [
    "print(\"There are\", len(df[\"MEASURE\"].unique()), \"unique measures:\\n\")\n",
    "\n",
    "print(df[\"MEASURE\"].value_counts())"
   ]
  },
  {
   "cell_type": "markdown",
   "metadata": {
    "colab_type": "text",
    "id": "udMF30PO1Uf6"
   },
   "source": [
    "Inspection of results shows that there are less than 39 unique measures due to capitalization inconsistencies. We fix this below."
   ]
  },
  {
   "cell_type": "code",
   "execution_count": 0,
   "metadata": {
    "colab": {
     "base_uri": "https://localhost:8080/",
     "height": 34
    },
    "colab_type": "code",
    "id": "HFEp4Cp_1dSW",
    "outputId": "43c45c1c-ca34-45c4-baa3-d41bed4db305"
   },
   "outputs": [
    {
     "name": "stdout",
     "output_type": "stream",
     "text": [
      "There are 35 unique measures.\n"
     ]
    }
   ],
   "source": [
    "df[\"MEASURE\"] = df[\"MEASURE\"].str.lower()\n",
    "measure_counts = df[\"MEASURE\"].value_counts()\n",
    "\n",
    "print(\"There are\", len(df[\"MEASURE\"].unique()), \"unique measures.\")"
   ]
  },
  {
   "cell_type": "markdown",
   "metadata": {
    "colab_type": "text",
    "id": "1YhuOJaH6G0q"
   },
   "source": [
    "With measures cleaned up, we can investigate countries."
   ]
  },
  {
   "cell_type": "code",
   "execution_count": 6,
   "metadata": {
    "colab": {
     "base_uri": "https://localhost:8080/",
     "height": 841
    },
    "colab_type": "code",
    "id": "70NNMU4B5jBx",
    "outputId": "a5637478-0563-4da0-e7dd-fcf9917f372f"
   },
   "outputs": [
    {
     "name": "stdout",
     "output_type": "stream",
     "text": [
      "The Netherlands implemented the following amount of measures:\n"
     ]
    },
    {
     "data": {
      "text/html": [
       "<div>\n",
       "<style scoped>\n",
       "    .dataframe tbody tr th:only-of-type {\n",
       "        vertical-align: middle;\n",
       "    }\n",
       "\n",
       "    .dataframe tbody tr th {\n",
       "        vertical-align: top;\n",
       "    }\n",
       "\n",
       "    .dataframe thead th {\n",
       "        text-align: right;\n",
       "    }\n",
       "</style>\n",
       "<table border=\"1\" class=\"dataframe\">\n",
       "  <thead>\n",
       "    <tr style=\"text-align: right;\">\n",
       "      <th></th>\n",
       "      <th>LOG_TYPE</th>\n",
       "      <th>MEASURE</th>\n",
       "      <th>COMMENTS</th>\n",
       "    </tr>\n",
       "  </thead>\n",
       "  <tbody>\n",
       "    <tr>\n",
       "      <th>5313</th>\n",
       "      <td>Introduction / extension of measures</td>\n",
       "      <td>Isolation and quarantine policies</td>\n",
       "      <td>residents with symptoms requested to self-quar...</td>\n",
       "    </tr>\n",
       "    <tr>\n",
       "      <th>5314</th>\n",
       "      <td>Introduction / extension of measures</td>\n",
       "      <td>Limit public gatherings</td>\n",
       "      <td>limit of public gatherings to 100 persons unti...</td>\n",
       "    </tr>\n",
       "    <tr>\n",
       "      <th>5315</th>\n",
       "      <td>Introduction / extension of measures</td>\n",
       "      <td>Schools closure</td>\n",
       "      <td>closure of schools and nurseries from 15 March...</td>\n",
       "    </tr>\n",
       "    <tr>\n",
       "      <th>5316</th>\n",
       "      <td>Introduction / extension of measures</td>\n",
       "      <td>Public services closure</td>\n",
       "      <td>All bars, cafes, restaurants, sports clubs, gy...</td>\n",
       "    </tr>\n",
       "    <tr>\n",
       "      <th>5317</th>\n",
       "      <td>Introduction / extension of measures</td>\n",
       "      <td>General recommendations</td>\n",
       "      <td>Everyone in the Netherlands is requested to ke...</td>\n",
       "    </tr>\n",
       "    <tr>\n",
       "      <th>5318</th>\n",
       "      <td>Introduction / extension of measures</td>\n",
       "      <td>Economic measures</td>\n",
       "      <td>The SME credit guarantee (BMKB) scheme will be...</td>\n",
       "    </tr>\n",
       "    <tr>\n",
       "      <th>5319</th>\n",
       "      <td>Introduction / extension of measures</td>\n",
       "      <td>Economic measures</td>\n",
       "      <td>The Temporary Emergency Bridging Measure for ...</td>\n",
       "    </tr>\n",
       "    <tr>\n",
       "      <th>5320</th>\n",
       "      <td>Introduction / extension of measures</td>\n",
       "      <td>Economic measures</td>\n",
       "      <td>Self-employed professionals can apply for an e...</td>\n",
       "    </tr>\n",
       "    <tr>\n",
       "      <th>5321</th>\n",
       "      <td>Introduction / extension of measures</td>\n",
       "      <td>Limit public gatherings</td>\n",
       "      <td>All gatherings are prohibited until 1 June, ev...</td>\n",
       "    </tr>\n",
       "    <tr>\n",
       "      <th>5322</th>\n",
       "      <td>Introduction / extension of measures</td>\n",
       "      <td>Limit public gatherings</td>\n",
       "      <td>Gatherings of 3 or more people that do not kee...</td>\n",
       "    </tr>\n",
       "    <tr>\n",
       "      <th>5323</th>\n",
       "      <td>Introduction / extension of measures</td>\n",
       "      <td>Emergency administrative structures activated ...</td>\n",
       "      <td>Mayors will have the option of enacting an eme...</td>\n",
       "    </tr>\n",
       "    <tr>\n",
       "      <th>5324</th>\n",
       "      <td>Introduction / extension of measures</td>\n",
       "      <td>Limit public gatherings</td>\n",
       "      <td>Public transport and shops are required to tak...</td>\n",
       "    </tr>\n",
       "    <tr>\n",
       "      <th>5325</th>\n",
       "      <td>Introduction / extension of measures</td>\n",
       "      <td>Limit public gatherings</td>\n",
       "      <td>Limit the visitors at home to three visitors.</td>\n",
       "    </tr>\n",
       "    <tr>\n",
       "      <th>5326</th>\n",
       "      <td>Introduction / extension of measures</td>\n",
       "      <td>Public services closure</td>\n",
       "      <td>Businesses in contact-based industries, such a...</td>\n",
       "    </tr>\n",
       "    <tr>\n",
       "      <th>5327</th>\n",
       "      <td>Introduction / extension of measures</td>\n",
       "      <td>Public services closure</td>\n",
       "      <td>Casinos are now subject to the same restrictio...</td>\n",
       "    </tr>\n",
       "    <tr>\n",
       "      <th>5328</th>\n",
       "      <td>Introduction / extension of measures</td>\n",
       "      <td>Public services closure</td>\n",
       "      <td>The Netherlands has extended all of it's covid...</td>\n",
       "    </tr>\n",
       "    <tr>\n",
       "      <th>5329</th>\n",
       "      <td>Phase-out measure</td>\n",
       "      <td>Schools closure</td>\n",
       "      <td>Primary schools, including special primary sch...</td>\n",
       "    </tr>\n",
       "    <tr>\n",
       "      <th>5330</th>\n",
       "      <td>Introduction / extension of measures</td>\n",
       "      <td>Limit public gatherings</td>\n",
       "      <td>Upon opening of primary schools, the size of c...</td>\n",
       "    </tr>\n",
       "    <tr>\n",
       "      <th>5331</th>\n",
       "      <td>Introduction / extension of measures</td>\n",
       "      <td>Limit public gatherings</td>\n",
       "      <td>Parents are asked to take their children to sc...</td>\n",
       "    </tr>\n",
       "    <tr>\n",
       "      <th>5332</th>\n",
       "      <td>Phase-out measure</td>\n",
       "      <td>Schools closure</td>\n",
       "      <td>CHECK AGAIN CLOSER TO DATE: Secondary schools ...</td>\n",
       "    </tr>\n",
       "    <tr>\n",
       "      <th>5333</th>\n",
       "      <td>Phase-out measure</td>\n",
       "      <td>Limit public gatherings</td>\n",
       "      <td>Children aged 12 and under will be allowed to ...</td>\n",
       "    </tr>\n",
       "    <tr>\n",
       "      <th>5334</th>\n",
       "      <td>Phase-out measure</td>\n",
       "      <td>Limit public gatherings</td>\n",
       "      <td>Young people aged 13 to 18 will be allowed to ...</td>\n",
       "    </tr>\n",
       "    <tr>\n",
       "      <th>5335</th>\n",
       "      <td>Phase-out measure</td>\n",
       "      <td>Limit public gatherings</td>\n",
       "      <td>Top-level athletes will be allowed to resume t...</td>\n",
       "    </tr>\n",
       "    <tr>\n",
       "      <th>5336</th>\n",
       "      <td>Phase-out measure</td>\n",
       "      <td>Limit public gatherings</td>\n",
       "      <td>From 29 April people aged over 70 who live ind...</td>\n",
       "    </tr>\n",
       "    <tr>\n",
       "      <th>5337</th>\n",
       "      <td>Introduction / extension of measures</td>\n",
       "      <td>Limit public gatherings</td>\n",
       "      <td>The ban on events that require a permit has th...</td>\n",
       "    </tr>\n",
       "  </tbody>\n",
       "</table>\n",
       "</div>"
      ],
      "text/plain": [
       "                                  LOG_TYPE  \\\n",
       "5313  Introduction / extension of measures   \n",
       "5314  Introduction / extension of measures   \n",
       "5315  Introduction / extension of measures   \n",
       "5316  Introduction / extension of measures   \n",
       "5317  Introduction / extension of measures   \n",
       "5318  Introduction / extension of measures   \n",
       "5319  Introduction / extension of measures   \n",
       "5320  Introduction / extension of measures   \n",
       "5321  Introduction / extension of measures   \n",
       "5322  Introduction / extension of measures   \n",
       "5323  Introduction / extension of measures   \n",
       "5324  Introduction / extension of measures   \n",
       "5325  Introduction / extension of measures   \n",
       "5326  Introduction / extension of measures   \n",
       "5327  Introduction / extension of measures   \n",
       "5328  Introduction / extension of measures   \n",
       "5329                     Phase-out measure   \n",
       "5330  Introduction / extension of measures   \n",
       "5331  Introduction / extension of measures   \n",
       "5332                     Phase-out measure   \n",
       "5333                     Phase-out measure   \n",
       "5334                     Phase-out measure   \n",
       "5335                     Phase-out measure   \n",
       "5336                     Phase-out measure   \n",
       "5337  Introduction / extension of measures   \n",
       "\n",
       "                                                MEASURE  \\\n",
       "5313                  Isolation and quarantine policies   \n",
       "5314                            Limit public gatherings   \n",
       "5315                                   Schools closure    \n",
       "5316                           Public services closure    \n",
       "5317                            General recommendations   \n",
       "5318                                  Economic measures   \n",
       "5319                                  Economic measures   \n",
       "5320                                  Economic measures   \n",
       "5321                            Limit public gatherings   \n",
       "5322                            Limit public gatherings   \n",
       "5323  Emergency administrative structures activated ...   \n",
       "5324                            Limit public gatherings   \n",
       "5325                            Limit public gatherings   \n",
       "5326                           Public services closure    \n",
       "5327                           Public services closure    \n",
       "5328                           Public services closure    \n",
       "5329                                   Schools closure    \n",
       "5330                            Limit public gatherings   \n",
       "5331                            Limit public gatherings   \n",
       "5332                                   Schools closure    \n",
       "5333                            Limit public gatherings   \n",
       "5334                            Limit public gatherings   \n",
       "5335                            Limit public gatherings   \n",
       "5336                            Limit public gatherings   \n",
       "5337                            Limit public gatherings   \n",
       "\n",
       "                                               COMMENTS  \n",
       "5313  residents with symptoms requested to self-quar...  \n",
       "5314  limit of public gatherings to 100 persons unti...  \n",
       "5315  closure of schools and nurseries from 15 March...  \n",
       "5316  All bars, cafes, restaurants, sports clubs, gy...  \n",
       "5317  Everyone in the Netherlands is requested to ke...  \n",
       "5318  The SME credit guarantee (BMKB) scheme will be...  \n",
       "5319   The Temporary Emergency Bridging Measure for ...  \n",
       "5320  Self-employed professionals can apply for an e...  \n",
       "5321  All gatherings are prohibited until 1 June, ev...  \n",
       "5322  Gatherings of 3 or more people that do not kee...  \n",
       "5323  Mayors will have the option of enacting an eme...  \n",
       "5324  Public transport and shops are required to tak...  \n",
       "5325      Limit the visitors at home to three visitors.  \n",
       "5326  Businesses in contact-based industries, such a...  \n",
       "5327  Casinos are now subject to the same restrictio...  \n",
       "5328  The Netherlands has extended all of it's covid...  \n",
       "5329  Primary schools, including special primary sch...  \n",
       "5330  Upon opening of primary schools, the size of c...  \n",
       "5331  Parents are asked to take their children to sc...  \n",
       "5332  CHECK AGAIN CLOSER TO DATE: Secondary schools ...  \n",
       "5333  Children aged 12 and under will be allowed to ...  \n",
       "5334  Young people aged 13 to 18 will be allowed to ...  \n",
       "5335  Top-level athletes will be allowed to resume t...  \n",
       "5336  From 29 April people aged over 70 who live ind...  \n",
       "5337  The ban on events that require a permit has th...  "
      ]
     },
     "execution_count": 6,
     "metadata": {},
     "output_type": "execute_result"
    }
   ],
   "source": [
    "country_groups = df.groupby(\"COUNTRY\")\n",
    "measures_per_country = country_groups[\"MEASURE\"].value_counts()\n",
    "\n",
    "print(\"The Netherlands implemented the following amount of measures:\")\n",
    "country_groups.get_group(\"Netherlands\")[[\"LOG_TYPE\", \"MEASURE\",\"COMMENTS\"]]"
   ]
  },
  {
   "cell_type": "markdown",
   "metadata": {
    "colab_type": "text",
    "id": "BsfQ0NOA7RTI"
   },
   "source": [
    "Remarks:\n",
    "- Introduction and extension measures are grouped. Measure 5337 is for example an extension of 5321. Measure 5328 is an extension of all measures before. This may have to be dealt with.\n",
    "- The dataset has uncertainties, shown in measure 5332: \"CHECK AGAIN CLOSER TO DATE\"\n",
    "- The measures are incomplete. There is no mention of the \"Changes in prison-related policies\" measure type, [even tough the Netherlands did introduce them on March 13](https://www.rijksoverheid.nl/actueel/nieuws/2020/03/13/dji-treft-preventieve-corona-maatregelen) and [extended them on April 2](https://www.rijksoverheid.nl/actueel/nieuws/2020/04/01/dji-verlengt-corona-maatregelen-t-m-28-april)\n",
    "\n",
    "Incompleteness is something we cannot deal with manually due to the vast amount of countries and measures. The string \"CHECK AGAIN CLOSER TO DATE\" can be queried to discover how many uncertainties there are."
   ]
  },
  {
   "cell_type": "code",
   "execution_count": 7,
   "metadata": {
    "colab": {
     "base_uri": "https://localhost:8080/",
     "height": 68
    },
    "colab_type": "code",
    "id": "dxJ8HAIK98O1",
    "outputId": "4807781b-e20b-4c6a-a568-1040a9c31a39"
   },
   "outputs": [
    {
     "data": {
      "text/plain": [
       "False    8124\n",
       "True        1\n",
       "Name: COMMENTS, dtype: int64"
      ]
     },
     "execution_count": 7,
     "metadata": {},
     "output_type": "execute_result"
    }
   ],
   "source": [
    "df[\"COMMENTS\"].str.contains(\"CHECK AGAIN CLOSER TO DATE\").value_counts()"
   ]
  },
  {
   "cell_type": "markdown",
   "metadata": {
    "colab_type": "text",
    "id": "gSQDf6l1-sai"
   },
   "source": [
    "This query yields only one result, so this is no worry. We can also look how many extensions are mentioned in the comments. We do this by matching on the regex pattern \"(E|e)xten\", which should capture all words similar to \"extension\", like \"extended\", \"extensions\" et cetera. We add the result as a column to our data."
   ]
  },
  {
   "cell_type": "code",
   "execution_count": 8,
   "metadata": {
    "colab": {
     "base_uri": "https://localhost:8080/",
     "height": 102
    },
    "colab_type": "code",
    "id": "6lG-wPoc-zju",
    "outputId": "28b4f739-348f-4bbd-dac8-321e260be1db"
   },
   "outputs": [
    {
     "name": "stderr",
     "output_type": "stream",
     "text": [
      "/home/zwieteri/.local/lib/python3.8/site-packages/pandas/core/strings.py:1954: UserWarning: This pattern has match groups. To actually get the groups, use str.extract.\n",
      "  return func(self, *args, **kwargs)\n"
     ]
    },
    {
     "data": {
      "text/plain": [
       "False    7517\n",
       "True      608\n",
       "Name: IS_EXTENSION, dtype: int64"
      ]
     },
     "execution_count": 8,
     "metadata": {},
     "output_type": "execute_result"
    }
   ],
   "source": [
    "df[\"IS_EXTENSION\"] = df[\"COMMENTS\"].str.contains(r\"(E|e)xten\")\n",
    "df[\"IS_EXTENSION\"].value_counts()"
   ]
  },
  {
   "cell_type": "markdown",
   "metadata": {
    "colab_type": "text",
    "id": "QSpauEl5IjnZ"
   },
   "source": [
    "Using this data, we can learn more about the measures. The below timeline shows when the Netherlands introduced measures (yellow), and when they extended measures (green) and when they phased out measures (purple)."
   ]
  },
  {
   "cell_type": "code",
   "execution_count": 9,
   "metadata": {
    "colab": {
     "base_uri": "https://localhost:8080/",
     "height": 124
    },
    "colab_type": "code",
    "id": "665lak9jGdZh",
    "outputId": "4ee623f0-7cd6-470f-ebe8-434c6496d991"
   },
   "outputs": [
    {
     "data": {
      "image/png": "[encoded data removed]",
      "text/plain": [
       "<Figure size 1800x72 with 1 Axes>"
      ]
     },
     "metadata": {
      "needs_background": "light"
     },
     "output_type": "display_data"
    }
   ],
   "source": [
    "def calculate_types(group):\n",
    "  row_count = group.shape[0]\n",
    "  measure_type = []\n",
    "  for i in range(row_count):\n",
    "    if group[\"LOG_TYPE\"].iloc[i] == \"Phase-out measure\":\n",
    "      val = 0\n",
    "    else:\n",
    "      if group[\"IS_EXTENSION\"].iloc[i]:\n",
    "        val = 1\n",
    "      else:\n",
    "        val = 2\n",
    "    measure_type.append(val)\n",
    "  return measure_type\n",
    "\n",
    "def show_timeline(group):\n",
    "  row_count = group.shape[0]\n",
    "  measure_type = calculate_types(group)\n",
    "\n",
    "  fig, ax = plt.subplots(figsize=(row_count,1))\n",
    "  ax.scatter(group[\"DATE_IMPLEMENTED\"], [1]*len(group[\"DATE_IMPLEMENTED\"]), c=measure_type, marker='s', s=100)\n",
    "  fig.autofmt_xdate()\n",
    "  ax.yaxis.set_visible(False)\n",
    "  ax.spines['right'].set_visible(False)\n",
    "  ax.spines['left'].set_visible(False)\n",
    "  ax.spines['top'].set_visible(False)\n",
    "  ax.xaxis.set_ticks_position('bottom')\n",
    "  plt.show()\n",
    "\n",
    "nl_group = country_groups.get_group(\"Netherlands\")\n",
    "show_timeline(nl_group)"
   ]
  },
  {
   "cell_type": "code",
   "execution_count": null,
   "metadata": {},
   "outputs": [],
   "source": []
  }
 ],
 "metadata": {
  "colab": {
   "name": "data_exploration.ipynb",
   "provenance": []
  },
  "kernelspec": {
   "display_name": "Python 3",
   "language": "python",
   "name": "python3"
  },
  "language_info": {
   "codemirror_mode": {
    "name": "ipython",
    "version": 3
   },
   "file_extension": ".py",
   "mimetype": "text/x-python",
   "name": "python",
   "nbconvert_exporter": "python",
   "pygments_lexer": "ipython3",
   "version": "3.8.2"
  }
 },
 "nbformat": 4,
 "nbformat_minor": 1
}
